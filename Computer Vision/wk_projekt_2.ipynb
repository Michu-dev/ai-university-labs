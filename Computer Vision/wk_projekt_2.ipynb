{
  "cells": [
    {
      "cell_type": "markdown",
      "metadata": {
        "id": "omTePQnJ7ycH"
      },
      "source": [
        "# Widzenie komputerowe - projekt 2\n",
        "## Temat: Śledzenie gry w bilard\n",
        "Autorzy:\n",
        "- Michał Ciesielski 145325\n",
        "- Mateusz Frąckowiak 145264\n",
        "- Paweł Chumski 144392"
      ]
    },
    {
      "cell_type": "code",
      "execution_count": null,
      "metadata": {
        "id": "s48r0BbF7p_e"
      },
      "outputs": [],
      "source": [
        "%matplotlib inline\n",
        "import matplotlib.pyplot as plt\n",
        "import numpy as np\n",
        "import cv2\n",
        "import PIL\n",
        "import math\n",
        "\n",
        "from PIL import Image\n",
        "from pprint import pprint\n",
        "from ipywidgets import Video\n",
        "\n",
        "\n",
        "from google.colab import drive"
      ]
    },
    {
      "cell_type": "code",
      "execution_count": null,
      "metadata": {
        "id": "S7-IlIiidi_d"
      },
      "outputs": [],
      "source": [
        "def imshow(a):\n",
        "    a = a.clip(0, 255).astype('uint8')\n",
        "    if a.ndim == 3:\n",
        "        if a.shape[2] == 4:\n",
        "            a = cv2.cvtColor(a, cv2.COLOR_BGRA2RGBA)\n",
        "        else:\n",
        "            a = cv2.cvtColor(a, cv2.COLOR_BGR2RGB)\n",
        "    display(Image.fromarray(a))"
      ]
    },
    {
      "cell_type": "markdown",
      "metadata": {
        "id": "IUgWOs7VI25s"
      },
      "source": [
        "## Wykrywanie stołu\n",
        "Początkowo wykrywany jest obszar zielony reprezentujący pole do gry. W tym celu na obrazie źródłowym wykonywane jest rozmycie Gaussowskie, transformacja do przestrzeni barw HSV oraz operacja zamkniecia morfologicznego. Następnie na podstawie wykrytego obszaru wykonywana jest transformata Hough'a w celu znalezienia linii prezentujących granicę stołu, która będzie odporna na różnego typu zakłócenia (opierający się snookerzysta, przechodzący sędzia). Duplikaty znalezionych tych samych linii są usuwane. Na podstawie wykrytych linii znajdowane są łuzy, które znajdują się na przecięciach głównych linii ograniczających oraz na środku stołu (średnia wyznaczona na podstawie wyznaczonych pozostałych punktów)."
      ]
    },
    {
      "cell_type": "markdown",
      "metadata": {
        "id": "FJ2Xa8Wvd3J0"
      },
      "source": [
        "### Funkcja służąca do wykrycia zielonego obszaru stołu (obszaru gry)"
      ]
    },
    {
      "cell_type": "code",
      "execution_count": null,
      "metadata": {
        "id": "Xzoak1L3iUHA"
      },
      "outputs": [],
      "source": [
        "LOWER_THRESHOLD = np.array([30, 210,80]) \n",
        "UPPER_THRESHOLD = np.array([85, 255,200])\n",
        "\n",
        "def find_table_mask(frame):\n",
        "    blurred = cv2.GaussianBlur(frame,(0,0), 2)\n",
        "\n",
        "    hsv = cv2.cvtColor(blurred, cv2.COLOR_BGR2HSV)\n",
        "\n",
        "    mask = cv2.inRange(hsv, LOWER_THRESHOLD, UPPER_THRESHOLD)\n",
        "\n",
        "    kernel = np.ones((10,10), np.uint8)\n",
        "    mask_closing = cv2.morphologyEx(mask, cv2.MORPH_CLOSE, kernel)\n",
        "\n",
        "    return mask_closing"
      ]
    },
    {
      "cell_type": "markdown",
      "metadata": {
        "id": "Ltz9-X0beLHK"
      },
      "source": [
        "### Funkcja znajdująca zduplikowane linie (przeznaczone do usunięcia). Wartości opisujące proste są odpowiednio przeskalowane w celu znalezienia podobieństwa"
      ]
    },
    {
      "cell_type": "code",
      "execution_count": null,
      "metadata": {
        "id": "SM7gBZCSeKGe"
      },
      "outputs": [],
      "source": [
        "def find_lines_to_delete(lines):\n",
        "    to_del = np.zeros(len(lines))\n",
        "\n",
        "    scaled = lines / 100\n",
        "\n",
        "    for i in range(len(scaled)):\n",
        "        found = False\n",
        "        for j in range(0, i):\n",
        "            if np.allclose(scaled[i], scaled[j], atol=0.2):\n",
        "                found = True\n",
        "\n",
        "        if found:\n",
        "            to_del[i] = 1\n",
        "\n",
        "    return to_del"
      ]
    },
    {
      "cell_type": "markdown",
      "metadata": {
        "id": "DKQ3orTNeY1K"
      },
      "source": [
        "### Funkcja zamieniająca proste zwracane przez transformatę Hough'a (we współrzędnych biegunowych) na dwa punkty je definiujące (w układzie kartezjańskim)\n",
        "\n",
        "\n"
      ]
    },
    {
      "cell_type": "code",
      "execution_count": null,
      "metadata": {
        "id": "2qc0MyaveXz7"
      },
      "outputs": [],
      "source": [
        "def get_line_points(lines):\n",
        "    points = []\n",
        "    for i in range(0, len(lines)):\n",
        "        rho = lines[i][0][0]\n",
        "        theta = lines[i][0][1]\n",
        "        a = math.cos(theta)\n",
        "        b = math.sin(theta)\n",
        "        x0 = a * rho\n",
        "        y0 = b * rho\n",
        "        pt1 = (int(x0 + 2000*(-b)), int(y0 + 2000*(a)))\n",
        "        pt2 = (int(x0 - 2000*(-b)), int(y0 - 2000*(a)))\n",
        "        points.append((pt1, pt2))\n",
        "    return points"
      ]
    },
    {
      "cell_type": "markdown",
      "metadata": {
        "id": "GXX1cyMIe2k8"
      },
      "source": [
        "### Funkcje liczące współczynnik kierunkowy oraz tangens kąta pomiędzy dwoma prostymi"
      ]
    },
    {
      "cell_type": "code",
      "execution_count": null,
      "metadata": {
        "id": "Zk0adLQVe3UH"
      },
      "outputs": [],
      "source": [
        "def calc_slope(line):\n",
        "    p1, p2 = line\n",
        "    return (p2[1] - p1[1]) / (p2[0] - p1[0])\n",
        "\n",
        "def calc_tangent_between_lines(line1, line2):\n",
        "    slope1 = calc_slope(line1)\n",
        "    slope2 = calc_slope(line2)\n",
        "    return np.abs((slope2 - slope1) / (1 + slope1 * slope2))"
      ]
    },
    {
      "cell_type": "markdown",
      "metadata": {
        "id": "zq9dCEer7hTL"
      },
      "source": [
        "Funkcja znajdująca punkty przecięcia się prostych - łuzy znajdujące się w narożnikach stołu"
      ]
    },
    {
      "cell_type": "code",
      "execution_count": null,
      "metadata": {
        "id": "9uI9ktKF7eIN"
      },
      "outputs": [],
      "source": [
        "def find_corners(lines):\n",
        "    perpendicular = []\n",
        "    for i in range(len(lines)):\n",
        "        for j in range(i+1, len(lines)):\n",
        "            tangent = calc_tangent_between_lines(lines[i], lines[j])\n",
        "            if tangent > 3:\n",
        "                perpendicular.append((lines[i], lines[j]))\n",
        "\n",
        "    corners = []\n",
        "    for l1, l2 in perpendicular:\n",
        "        a1 = calc_slope(l1)\n",
        "        a2 = calc_slope(l2)\n",
        "        b1 = l1[0][1] - a1 * l1[0][0]\n",
        "        b2 = l2[0][1] - a2 * l2[0][0]\n",
        "\n",
        "        x = (b2 - b1) / (a1 - a2)\n",
        "        y = a1 * x + b1\n",
        "\n",
        "        corners.append((int(x), int(y)))\n",
        "    return corners"
      ]
    },
    {
      "cell_type": "markdown",
      "metadata": {
        "id": "MmqQaEK-7lM2"
      },
      "source": [
        "Funkcja znajdująca łuzy znajdujące się w środkowej części dłuższego boku stołu na podstawie wyznaczonych narożników"
      ]
    },
    {
      "cell_type": "code",
      "execution_count": null,
      "metadata": {
        "id": "hUxaOCUd7l3U"
      },
      "outputs": [],
      "source": [
        "def find_middle_pocket_coords(corners):\n",
        "    middle_pocket_coords = []\n",
        "    for i in range(len(corners)):\n",
        "        for j in range(i+1, len(corners)):\n",
        "            p1 = corners[i]\n",
        "            p2 = corners[j]\n",
        "            if math.isclose(p1[0], p2[0], rel_tol=0.4):\n",
        "                mid_point = (int((p1[0] + p2[0])/2), int((p1[1] + p2[1])/2.37))\n",
        "                middle_pocket_coords.append(mid_point)\n",
        "    return middle_pocket_coords"
      ]
    },
    {
      "cell_type": "markdown",
      "metadata": {
        "id": "d0bHW1VF7d-S"
      },
      "source": []
    },
    {
      "cell_type": "markdown",
      "metadata": {
        "id": "VFG7F5jrRvRb"
      },
      "source": [
        "## Funkcje wykrywające położenie łuz\n",
        "Wykorzystując powyższe funkcje, znajdowane i zwracane są wszystkie łuzy"
      ]
    },
    {
      "cell_type": "code",
      "execution_count": null,
      "metadata": {
        "id": "D1S9t6nPif8n"
      },
      "outputs": [],
      "source": [
        "def get_pockets(frame):\n",
        "    table_mask = find_table_mask(frame)\n",
        "\n",
        "    edges = cv2.Canny(table_mask,80,200)\n",
        "\n",
        "    all_lines = cv2.HoughLines(edges, 1, np.pi / 180, 100, None, 0, 0)\n",
        "\n",
        "    to_del = find_lines_to_delete(all_lines)\n",
        "\n",
        "    lines = [l for i, l in enumerate(all_lines) if not to_del[i]]\n",
        "\n",
        "    if len(lines) != 4:\n",
        "        return []\n",
        "\n",
        "    line_points = get_line_points(lines)\n",
        "\n",
        "    if len(line_points) != 4:\n",
        "        return []\n",
        "\n",
        "    corners = find_corners(line_points)\n",
        "\n",
        "    if len(corners) != 4:\n",
        "        return []\n",
        "\n",
        "    middle_pocket_coords = find_middle_pocket_coords(corners)\n",
        "\n",
        "    if len(middle_pocket_coords) != 2:\n",
        "        return []\n",
        "\n",
        "    return corners + middle_pocket_coords\n"
      ]
    },
    {
      "cell_type": "markdown",
      "metadata": {
        "id": "ps_GjJYuR1D6"
      },
      "source": [
        "## Funkcja wykrywająca bile\n",
        "Poniższa funkcja wykrywa pozycje bil na podstawie przygotowanych wzorców. Po wykonaniu funkcji dopasowującej wzorzec do obrazu brany jest punkt o największym podobieństwie do podanego wzorca. Jeśli podobieństwo jest wystarczająco wysokie, pozycja bili jest zaznaczana na obrazie i zwracana do dalszego śledzenia. Z uwagi na duże skupienie bil czerwonych wokół siebie i ich dużą liczbę, powyższy proces powtarzany jest kilkukrotnie w celu uzyskania lepszych rezultatów. W celu uniknięcia problemu zaznaczania jednej bili wielokrotnie, dopasowywanie wzorców dokonywane jest na kopii obrazu."
      ]
    },
    {
      "cell_type": "code",
      "execution_count": null,
      "metadata": {
        "id": "_5--17TsinVG"
      },
      "outputs": [],
      "source": [
        "def detect_bills(file_template, img, img_copy, thresh):\n",
        "    result = []\n",
        "    template = cv2.imread(f'/content/drive/MyDrive/wk_projekt_2/templates/{file_template}.png', cv2.IMREAD_COLOR)\n",
        "    _, w, h = template.shape[::-1]\n",
        "    res = cv2.matchTemplate(img_copy, template, cv2.TM_CCOEFF_NORMED)\n",
        "    min_val, max_val, min_loc, max_loc = cv2.minMaxLoc(res)\n",
        "    top_left_corner = max_loc\n",
        "    bottom_right_corner = (top_left_corner[0] + w, top_left_corner[1] + h)\n",
        "    colors = dict(pink=(153, 51, 255), blue=(255, 0, 0), red=(0, 0, 255),\n",
        "                red2=(0, 0, 255), red3=(0, 0, 255), black=(0, 0, 0),\n",
        "                brown=(0, 51, 102), green=(0, 255, 0), white=(255, 255, 255),\n",
        "                yellow=(0, 255, 255))\n",
        "    pomT = 0.83\n",
        "    if file_template in ('red', 'red2', 'red3'):\n",
        "        pomT += 0.07\n",
        "\n",
        "    if max_val > pomT:\n",
        "        cv2.rectangle(img, top_left_corner, bottom_right_corner, colors[file_template], 2)\n",
        "        cv2.rectangle(img_copy, top_left_corner, bottom_right_corner, (0, 0, 0), -1)\n",
        "        result.append((colors[file_template], (*top_left_corner, w, h)))\n",
        "  \n",
        "    if file_template in ('red', 'red2', 'red3'):\n",
        "        while max_val > thresh:\n",
        "            res = cv2.matchTemplate(img_copy, template, cv2.TM_CCOEFF_NORMED)\n",
        "            min_val, max_val, min_loc, max_loc = cv2.minMaxLoc(res)\n",
        "            top_left_corner = max_loc\n",
        "            bottom_right_corner = (top_left_corner[0] + w, top_left_corner[1] + h)\n",
        "\n",
        "            cv2.rectangle(img, top_left_corner, bottom_right_corner, colors[file_template], 2)\n",
        "            cv2.rectangle(img_copy, top_left_corner, bottom_right_corner, (0,0,0), -1)\n",
        "            result.append((colors[file_template], (*top_left_corner, w, h)))\n",
        "\n",
        "    return result"
      ]
    },
    {
      "cell_type": "markdown",
      "metadata": {
        "id": "LehqRG-vcSns"
      },
      "source": [
        "## Funkcja załadowująca wideo oraz obrysowująca kontury znalezionej bili"
      ]
    },
    {
      "cell_type": "code",
      "execution_count": null,
      "metadata": {
        "id": "ibaIaBi0ixxF"
      },
      "outputs": [],
      "source": [
        "def load_video(path):\n",
        "    video = cv2.VideoCapture(path)\n",
        "    if video.isOpened():\n",
        "        print('Film wczytany!')\n",
        "\n",
        "    video_width = int(video.get(3))\n",
        "    video_height = int(video.get(4))\n",
        "\n",
        "    print(video_height, video_width)\n",
        "\n",
        "    video_fps = video.get(cv2.CAP_PROP_FPS)\n",
        "    print(video_fps)\n",
        "\n",
        "    return video, (video_width, video_height), video_fps\n",
        "\n",
        "def draw_bbox(frame, bbox, color=(255, 255, 255)):\n",
        "    p1 = (int(bbox[0]), int(bbox[1]))\n",
        "    p2 = (int(bbox[0] + bbox[2]), int(bbox[1] + bbox[3]))\n",
        "    cv2.rectangle(frame, p1, p2, color, 2, 1)"
      ]
    },
    {
      "cell_type": "markdown",
      "metadata": {
        "id": "5C0jGrluXApe"
      },
      "source": [
        "## Główna funkcja przetwarzająca wideo\n",
        "Po załadowaniu wideo na pierwszej klatce wykrywany jest stół oraz bile. Dla każdej bili tworzony jest tracker. Pozycje bil są aktualizowane poprzez wskazania ich trackerów oraz sprawdzane są zdarzenia uderzenia bili przez bile białą (czy dana bila zmieniła pozycję), wbicia bili do łuzy (czy zmieniła pozycję i była na tyle blisko łuzy aby wpaść) oraz faulu (biała bila poruszyła się ale się zatrzymała i nie uderzyła w inną bilę). Może się zdarzyć sytuacja, że faul zostanie wykryty przed zatrzymaniem się bili ale po zderzeniu z inną bilą informacja o faulu zniknie."
      ]
    },
    {
      "cell_type": "markdown",
      "metadata": {
        "id": "LesKIQXd8BKB"
      },
      "source": [
        "### Zamontowanie dysku z plikami"
      ]
    },
    {
      "cell_type": "code",
      "execution_count": null,
      "metadata": {
        "colab": {
          "base_uri": "https://localhost:8080/"
        },
        "id": "rIzW0bm07-Io",
        "outputId": "f11ce51a-cf81-4e01-c509-7e029af9d835"
      },
      "outputs": [
        {
          "output_type": "stream",
          "name": "stdout",
          "text": [
            "Mounted at /content/drive\n"
          ]
        }
      ],
      "source": [
        "drive.mount('/content/drive')"
      ]
    },
    {
      "cell_type": "markdown",
      "metadata": {
        "id": "2_8iu6O48JrJ"
      },
      "source": [
        "### Przetwarzanie"
      ]
    },
    {
      "cell_type": "code",
      "execution_count": null,
      "metadata": {
        "colab": {
          "base_uri": "https://localhost:8080/"
        },
        "id": "RS3TYMVIi0DZ",
        "outputId": "2e045341-e5d1-4934-bc54-cf3992b8bd8d"
      },
      "outputs": [
        {
          "output_type": "stream",
          "name": "stdout",
          "text": [
            "Film wczytany!\n",
            "720 1280\n",
            "25.0\n"
          ]
        }
      ],
      "source": [
        "video, video_shape, video_fps = load_video('/content/drive/MyDrive/wk_projekt_2/hit.mp4')\n",
        "video.set(cv2.CAP_PROP_POS_FRAMES, 0)\n",
        "\n",
        "optical_flow = cv2.VideoWriter('./result.avi', cv2.VideoWriter_fourcc(*'DIVX'), video_fps, video_shape)\n",
        "pockets = None\n",
        "\n",
        "positions = []\n",
        "is_hit = []\n",
        "hit = 0\n",
        "balls_in_pocket = 0\n",
        "message = \"\"\n",
        "last_white_position = []\n",
        "white_stop = False\n",
        "is_in_pocket = []\n",
        "\n",
        "\n",
        "while video.isOpened():\n",
        "    ret, frame = video.read()\n",
        "\n",
        "    if ret:\n",
        "        if pockets is None:\n",
        "            template_name_bills = ['white', 'blue', 'black', 'brown', 'green', 'yellow', 'red', 'red2', 'red3', 'pink']\n",
        "            test = frame.copy()\n",
        "            test2 = frame.copy()\n",
        "            trackers = []\n",
        "\n",
        "            for n in template_name_bills:\n",
        "                bboxes = detect_bills(n, test, test2, 0.83)\n",
        "                for color, bbox in bboxes:\n",
        "                    positions.append(np.array(bbox[0:2]))\n",
        "                    is_hit.append(False)\n",
        "                    is_in_pocket.append(False)\n",
        "                    if n == \"white\":\n",
        "                        last_white_position = np.array(bbox[0:2])\n",
        "                    tracker = cv2.TrackerCSRT_create()\n",
        "                    tracker.init(frame, bbox)\n",
        "                    trackers.append((color, tracker))\n",
        "\n",
        "            pockets = get_pockets(frame)\n",
        "            if len(pockets) != 6:\n",
        "                pockets = None\n",
        "\n",
        "      \n",
        "        for i, (color, tracker) in enumerate(trackers):\n",
        "            ok, bbox = tracker.update(frame)\n",
        "            if ok: \n",
        "                draw_bbox(frame, bbox, color)\n",
        "                if i == 0:\n",
        "                    if cv2.norm(np.array(bbox)[0:2] - last_white_position, cv2.NORM_L2) < 5 and is_hit[i] == True:\n",
        "                        white_stop = True\n",
        "                    last_white_position = np.array(bbox[0:2])\n",
        "                if cv2.norm(np.array(bbox)[0:2] - positions[i], cv2.NORM_L2) > 10 and is_hit[i] == False:\n",
        "                    is_hit[i] = True\n",
        "                    if i != 0:\n",
        "                        hit += 1\n",
        "                if i != 0 and is_hit[i] == True and is_in_pocket[i] == False:\n",
        "                    for pocket in pockets:\n",
        "                        if cv2.norm(pocket - np.array(bbox)[0:2], cv2.NORM_L2) < 20:\n",
        "                            is_in_pocket[i] = True\n",
        "                            balls_in_pocket += 1\n",
        "                \n",
        "        cv2.putText(frame, f\"ball hit: {hit}\", (15, 40), cv2.FONT_HERSHEY_DUPLEX, 1.5, (255, 255, 255), 2)\n",
        "        cv2.putText(frame, f\"in pocket: {balls_in_pocket}\", (15, 80), cv2.FONT_HERSHEY_DUPLEX, 1.5, (255, 255, 255), 2)\n",
        "        if white_stop and hit == 0:\n",
        "            cv2.putText(frame, f\"foul\", (15, 120), cv2.FONT_HERSHEY_SIMPLEX, 1.5, (255, 255, 255), 2)\n",
        "\n",
        "        for i in pockets:\n",
        "            cv2.circle(frame, (i[0], i[1]), 20, (0, 255, 0), 2)\n",
        "            cv2.circle(frame, (i[0], i[1]), 2, (0, 0, 255), 3)\n",
        "        #imshow(frame)\n",
        "        optical_flow.write(frame)\n",
        "\n",
        "    else:\n",
        "        break"
      ]
    },
    {
      "cell_type": "code",
      "execution_count": null,
      "metadata": {
        "id": "7pPLgPG-hFmi"
      },
      "outputs": [],
      "source": [
        "video.release()"
      ]
    },
    {
      "cell_type": "code",
      "execution_count": null,
      "metadata": {
        "id": "CbRVtES9tmLq",
        "colab": {
          "base_uri": "https://localhost:8080/"
        },
        "outputId": "3d419d7d-4ee6-4488-eb7a-e482b9fdece5"
      },
      "outputs": [
        {
          "output_type": "stream",
          "name": "stdout",
          "text": [
            "\u001b[0;36m[mpeg4 @ 0x56385b2b6cc0] \u001b[0m\u001b[1;31mac-tex damaged at 22 2\n",
            "\u001b[0m\u001b[0;36m[mpeg4 @ 0x56385b2b6cc0] \u001b[0m\u001b[1;31mError at MB: 184\n",
            "\u001b[0m"
          ]
        }
      ],
      "source": [
        "!ffmpeg -hide_banner -loglevel error -i result.avi -y result.mp4"
      ]
    },
    {
      "cell_type": "code",
      "source": [
        "Video.from_file('./result.mp4')"
      ],
      "metadata": {
        "colab": {
          "base_uri": "https://localhost:8080/",
          "referenced_widgets": [
            "23e3c5f8935749bcaf73e48984dfee23",
            "ebefe400903247d1b872018b869352e5"
          ],
          "height": 745
        },
        "id": "Mh7OLxBAQO9o",
        "outputId": "fc5be1ea-c90f-4cc2-b270-a6bf963764a5"
      },
      "execution_count": null,
      "outputs": [
        {
          "output_type": "display_data",
          "data": {
            "text/plain": [
              "Video(value=b'\\x00\\x00\\x00 ftypisom\\x00\\x00\\x02\\x00isomiso2avc1mp41\\x00\\x00\\x00\\x08free\\x00\\x08N\\xbemdat\\x00\\x…"
            ],
            "application/vnd.jupyter.widget-view+json": {
              "version_major": 2,
              "version_minor": 0,
              "model_id": "23e3c5f8935749bcaf73e48984dfee23"
            }
          },
          "metadata": {}
        }
      ]
    },
    {
      "cell_type": "markdown",
      "metadata": {
        "id": "RK5U1fEFYv2l"
      },
      "source": [
        "## Krótki opis uzyskanych rezultatów\n",
        "Zbiór testowanych filmików oraz rezultaty znajdują się pod następującym linkiem: https://drive.google.com/drive/folders/1WFLMi9YEF3K59WheBAkSF-Q7jztaRHYT?fbclid=IwAR3iM2_x8Ii-aIRrFoo7hDoVXLaehwndA1sp53_7vLCQe4MIRlhyyKcAmM0. \n",
        "\n",
        "Dużą trudnością okazało się znalezienie odpowiednich fragmentów ukazujących  cały stół z rozgrywek w Snookera (poszczególne transmisje często ukazują ujęcia \n",
        "z różnych kamer). Problemem mogą być również różne ujęcia kamer, stopień naświetlenia sceny, jakość nagrania itp. Niemniej jednak dla nagrań z Mistrzostw Świata w Snookerze z 2022 roku (przykłady pochodzą z finału), uzyskane rozwiązanie działa w pełni poprawnie."
      ]
    }
  ],
  "metadata": {
    "colab": {
      "provenance": []
    },
    "kernelspec": {
      "display_name": "Python 3",
      "name": "python3"
    },
    "language_info": {
      "name": "python"
    },
    "widgets": {
      "application/vnd.jupyter.widget-state+json": {
        "23e3c5f8935749bcaf73e48984dfee23": {
          "model_module": "@jupyter-widgets/controls",
          "model_name": "VideoModel",
          "model_module_version": "1.5.0",
          "state": {
            "_dom_classes": [],
            "_model_module": "@jupyter-widgets/controls",
            "_model_module_version": "1.5.0",
            "_model_name": "VideoModel",
            "_view_count": null,
            "_view_module": "@jupyter-widgets/controls",
            "_view_module_version": "1.5.0",
            "_view_name": "VideoView",
            "autoplay": true,
            "controls": true,
            "format": "mp4",
            "height": "",
            "layout": "IPY_MODEL_ebefe400903247d1b872018b869352e5",
            "loop": true,
            "width": ""
          }
        },
        "ebefe400903247d1b872018b869352e5": {
          "model_module": "@jupyter-widgets/base",
          "model_name": "LayoutModel",
          "model_module_version": "1.2.0",
          "state": {
            "_model_module": "@jupyter-widgets/base",
            "_model_module_version": "1.2.0",
            "_model_name": "LayoutModel",
            "_view_count": null,
            "_view_module": "@jupyter-widgets/base",
            "_view_module_version": "1.2.0",
            "_view_name": "LayoutView",
            "align_content": null,
            "align_items": null,
            "align_self": null,
            "border": null,
            "bottom": null,
            "display": null,
            "flex": null,
            "flex_flow": null,
            "grid_area": null,
            "grid_auto_columns": null,
            "grid_auto_flow": null,
            "grid_auto_rows": null,
            "grid_column": null,
            "grid_gap": null,
            "grid_row": null,
            "grid_template_areas": null,
            "grid_template_columns": null,
            "grid_template_rows": null,
            "height": null,
            "justify_content": null,
            "justify_items": null,
            "left": null,
            "margin": null,
            "max_height": null,
            "max_width": null,
            "min_height": null,
            "min_width": null,
            "object_fit": null,
            "object_position": null,
            "order": null,
            "overflow": null,
            "overflow_x": null,
            "overflow_y": null,
            "padding": null,
            "right": null,
            "top": null,
            "visibility": null,
            "width": null
          }
        }
      }
    }
  },
  "nbformat": 4,
  "nbformat_minor": 0
}