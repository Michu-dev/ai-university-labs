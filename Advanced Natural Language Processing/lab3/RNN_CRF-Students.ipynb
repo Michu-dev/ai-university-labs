{
 "cells": [
  {
   "cell_type": "markdown",
   "metadata": {},
   "source": [
    "# Zaawansowane Przetwarzanie Języka Naturalnego\n",
    "## Laboratorium 3: Neuronowe modele predykcji sekwencji"
   ]
  },
  {
   "cell_type": "markdown",
   "metadata": {},
   "source": [
    "Celem zadania jest zaimplementowanie neuronowego modelu do predykcji sekwencji i zastosowanie go do zadania płytkiej analizy frazowej. Zaimplementowany model będzie oparty o dwukierunkowe sieci rekurencyjne oraz zakończony będzie warstwą CRF. Celem ćwiczenia nie jest stworzenie wydajnej implementacji odpowiedniej do pracy z dużymi zbiorami treningowymi, ale pogłębienie zrozumienia działania metod modelowania predykcji poprzez ich implementację."
   ]
  },
  {
   "cell_type": "markdown",
   "metadata": {},
   "source": [
    "## Zadanie 1\n",
    "Pracując w środowisku PyTorch nie jest konieczne samodzielne implementowanie neuronów rekurencyjnych, gdyż biblioteka `torch.nn` zawiera ich gotowe implementacje. Klasyczny neuron rekurencyjny z funkcją aktywacji tangens hiperboliczny jest zaimplementowany w klasie `RNN` i od razu pozwala na przetworzenie od razu całej sekwencji elementów. Konstruktor obiektu wymaga wyspecyfikowania liczby cech którymi opisany jest każdy element sekwencji, liczby neuronów w warstwie rekurenycjnej oraz liczbę warstw rekurencyjnych. \n",
    "\n",
    "Istotnym parametrem modelu jest opcjonalny przełącznik `batch_first = True` który określa format wejściowej sekwencji. Domyślnie modele rekurencyjne spodziewają się wejścia o wymiarach `(długość sekwencji, rozmiar batcha, liczba cech)` czyli w kolumnach tensora mamy kolejne sekwencje (przykłady uczące), w wierszach kolejne elementy tych sekwencji, a w głębokości tensora umieszone są kolejne cechy każdego z elementów sekwencji. Zwróć uwagę, że jest to format inny od często stosowanego formatu danych niesekwencyjnych gdzie w wierszach umieszcza się kolejne przykłady uczące, a w kolumnach kolejne cechy (tutaj jest na odwrót: przykład uczący-sekwencja umieszcona jest w kolumnie, a nie w wierszu). Jeśli jednak ustawisz przełącznik `batch_first = True` to sieć rekurencyjna będzie się spodziewała wejścia jako `(rozmiar batcha, długość sekwencji, liczba cech)` czyli kolejne sekwencje będą w kolejnych wierszach tensora.\n",
    "\n",
    "Dalej, warto zauważyć, że w przypadku np. warstwy liniowej do obliczenia wyniku wystarczyło podanie samych danych ( `linear(dane)`), jednak wejściem sieci rekurencyjnej są nie tylko dane ale i poprzednie stany ukryte $h_{t-1}$ ( `rnn(dane, h0)`)."
   ]
  },
  {
   "cell_type": "code",
   "execution_count": 2,
   "metadata": {},
   "outputs": [
    {
     "name": "stdout",
     "output_type": "stream",
     "text": [
      "Wyjście warstwy:  tensor([[[ 0.9394,  0.6621, -0.4584],\n",
      "         [ 0.9115,  0.4247, -0.6293],\n",
      "         [ 0.9285,  0.2709, -0.7568],\n",
      "         [ 0.9482,  0.1473, -0.8483]]], grad_fn=<TransposeBackward1>)\n",
      "Ostatni stan ukryty:  tensor([[[ 0.9482,  0.1473, -0.8483]]], grad_fn=<StackBackward0>)\n"
     ]
    }
   ],
   "source": [
    "import torch\n",
    "import torch.nn as nn\n",
    "\n",
    "N_FEATURES = 2\n",
    "N_LAYERS = 1\n",
    "HIDDEN_SIZE = 3\n",
    "\n",
    "data = torch.FloatTensor([[1,1], [2,2], [3,3], [4,4]]).view(1, 4, 2)\n",
    "# Proste przykładowe dane: jedna 4 elementowa sekwencja gdzie każdy jej element jest opisany dwoma cechami\n",
    "# Zwróć uwagę na wymiary tensora (rozmiar batcha, długość sekwencji, liczba cech elementów) \n",
    "#     - konieczne batch_first=True\n",
    "\n",
    "rnn = nn.RNN(N_FEATURES, HIDDEN_SIZE, N_LAYERS, batch_first = True) \n",
    "\n",
    "h0 = torch.randn(N_LAYERS, 1, HIDDEN_SIZE)\n",
    "# Początkowy stan ukryty h0. Każda warstwa sieci rekurencyjnej zaczyna przetwarzanie od swojego h0\n",
    "# W sytuacji gdy przetwarzamy kilka sekwencji na raz (sieć jest uruchamiana równolegle na kilku sekwencjach)\n",
    "# również potrzebujemy dla każdej przetwarzanej sekwencji jej stan początkowy h0\n",
    "# Porównaj powyższy opis z wymiarowością zmiennej h0\n",
    "\n",
    "out, h_t = rnn(data, h0)\n",
    "print(\"Wyjście warstwy: \", out)\n",
    "print(\"Ostatni stan ukryty: \",h_t)\n"
   ]
  },
  {
   "cell_type": "markdown",
   "metadata": {},
   "source": [
    "Zwróć uwagę na otrzymane wyjście: ponieważ na wejście sieci podaliśmy sekwencję elementów to dla każdego przetwarzanego elementu sekwencji sieć zwróciła uzyskaną reprezentację ukrytą (skoro mamy 3 neurony w warstwie to taka reprezentacja jest 3-wymiarowa). Dodatkowo zwrócony został ostatni stan ukryty, który moglibyśmy przetwarzać np. kolejnej sieci rekurencyjnej.\n",
    "\n",
    "Sprawdź poprawność uzyskanego powyżej wyniku poprzez uruchomienie sieci rekurencyjnej element po elemencie (wejściem do sieci jest zawsze tylko jeden element sekwencji lub inaczej: sekwencje 1-elementowe). Wypisz na wyjście kolejne otrzymywane wyniki sieci i jej stany ukryte. Uzyskane wyniki powinny być takie same jak te z komórki wyżej."
   ]
  },
  {
   "cell_type": "code",
   "execution_count": 3,
   "metadata": {},
   "outputs": [
    {
     "name": "stdout",
     "output_type": "stream",
     "text": [
      "Wyjście warstwy 1:  tensor([[[ 0.9394,  0.6621, -0.4584]]], grad_fn=<TransposeBackward1>)\n",
      "Ostani stan ukryty 1:  tensor([[[ 0.9394,  0.6621, -0.4584]]], grad_fn=<StackBackward0>)\n",
      "Wyjście warstwy 2:  tensor([[[ 0.9115,  0.4247, -0.6293]]], grad_fn=<TransposeBackward1>)\n",
      "Ostani stan ukryty 2:  tensor([[[ 0.9115,  0.4247, -0.6293]]], grad_fn=<StackBackward0>)\n",
      "Wyjście warstwy 3:  tensor([[[ 0.9285,  0.2709, -0.7568]]], grad_fn=<TransposeBackward1>)\n",
      "Ostani stan ukryty 3:  tensor([[[ 0.9285,  0.2709, -0.7568]]], grad_fn=<StackBackward0>)\n",
      "Wyjście warstwy 4:  tensor([[[ 0.9482,  0.1473, -0.8483]]], grad_fn=<TransposeBackward1>)\n",
      "Ostani stan ukryty 4:  tensor([[[ 0.9482,  0.1473, -0.8483]]], grad_fn=<StackBackward0>)\n"
     ]
    }
   ],
   "source": [
    "h1 = h0\n",
    "for i in range(1,5):\n",
    "    x_i = torch.FloatTensor([[i,i]]).view(1,1,2)\n",
    "    out, h1 = rnn(x_i, h1)\n",
    "    print(f\"Wyjście warstwy {i}: \", out)\n",
    "    print(f\"Ostani stan ukryty {i}: \", h1)"
   ]
  },
  {
   "cell_type": "markdown",
   "metadata": {},
   "source": [
    "W prosty sposób można również rozszerzyć naszą warstwę rekurencyjną do sieci dwukierunkowej. W konstruktorze wystarczy ustawić `bidirectional = True`. Jak mówiliśmy na wykładzie taka sieć składa się w rzeczywistości z dwóch sieci - jednej przetwarzającej wyniki od lewej do prawej i drugiej przetwarzającej wyniki od prawej do lewej. W związku z tym należy dla obydwu tych sieci przygotować ich stany początkowe $h_0$, a wymiarowość wyjścia zwiększy się dwukrotnie."
   ]
  },
  {
   "cell_type": "code",
   "execution_count": 4,
   "metadata": {},
   "outputs": [
    {
     "name": "stdout",
     "output_type": "stream",
     "text": [
      "Wyjście warstwy:  tensor([[[ 0.5627, -0.7731, -0.7677,  0.1548,  0.0299, -0.8522],\n",
      "         [ 0.7930, -0.8384, -0.8800, -0.0808,  0.3933, -0.9566],\n",
      "         [ 0.9137, -0.9432, -0.9126,  0.0591,  0.4522, -0.9852],\n",
      "         [ 0.9672, -0.9785, -0.9420, -0.8571,  0.9156, -0.9967]]],\n",
      "       grad_fn=<TransposeBackward1>)\n",
      "Ostatni stan ukryty:  tensor([[[ 0.9672, -0.9785, -0.9420]],\n",
      "\n",
      "        [[ 0.1548,  0.0299, -0.8522]]], grad_fn=<StackBackward0>)\n"
     ]
    }
   ],
   "source": [
    "rnn = nn.RNN(N_FEATURES, HIDDEN_SIZE, N_LAYERS, batch_first = True, bidirectional = True) \n",
    "\n",
    "h0 = torch.randn(N_LAYERS*2, 1, HIDDEN_SIZE)\n",
    "out, h_t = rnn(data, h0)\n",
    "print(\"Wyjście warstwy: \", out)\n",
    "print(\"Ostatni stan ukryty: \",h_t)\n"
   ]
  },
  {
   "cell_type": "markdown",
   "metadata": {},
   "source": [
    "Analogicznie jak poprzednio uzyskaj wynik z poprzedniej komórki zakładając że na wejściu obiektu `rnn` możesz umieścić jedynie sekwencje jednoelementowe (możesz go jednak wywoływać dowolnie wiele razy)."
   ]
  },
  {
   "cell_type": "code",
   "execution_count": 5,
   "metadata": {},
   "outputs": [
    {
     "name": "stdout",
     "output_type": "stream",
     "text": [
      "Wyjście warstwy 1:  tensor([[[ 0.5627, -0.7731, -0.7677, -0.6480,  0.4740, -0.8734]]],\n",
      "       grad_fn=<TransposeBackward1>)\n",
      "Ostatni stan ukryty 1:  tensor([[[ 0.9672, -0.9785, -0.9420]],\n",
      "\n",
      "        [[ 0.1548,  0.0299, -0.8522]]], grad_fn=<StackBackward0>)\n",
      "Wyjście warstwy 2:  tensor([[[ 0.7930, -0.8384, -0.8800,  0.1954,  0.1981, -0.9479]]],\n",
      "       grad_fn=<TransposeBackward1>)\n",
      "Ostatni stan ukryty 2:  tensor([[[ 0.9672, -0.9785, -0.9420]],\n",
      "\n",
      "        [[ 0.1548,  0.0299, -0.8522]]], grad_fn=<StackBackward0>)\n",
      "Wyjście warstwy 3:  tensor([[[ 0.9137, -0.9432, -0.9126, -0.2611,  0.6726, -0.9872]]],\n",
      "       grad_fn=<TransposeBackward1>)\n",
      "Ostatni stan ukryty 3:  tensor([[[ 0.9672, -0.9785, -0.9420]],\n",
      "\n",
      "        [[ 0.1548,  0.0299, -0.8522]]], grad_fn=<StackBackward0>)\n",
      "Wyjście warstwy 4:  tensor([[[ 0.9672, -0.9785, -0.9420, -0.3147,  0.7651, -0.9961]]],\n",
      "       grad_fn=<TransposeBackward1>)\n",
      "Ostatni stan ukryty 4:  tensor([[[ 0.9672, -0.9785, -0.9420]],\n",
      "\n",
      "        [[ 0.1548,  0.0299, -0.8522]]], grad_fn=<StackBackward0>)\n"
     ]
    }
   ],
   "source": [
    "h1 = h0\n",
    "for i in range(1, 5):\n",
    "    x_i = torch.FloatTensor([[i,i]]).view(1,1,2)\n",
    "    out, h1 = rnn(x_i, h1)\n",
    "    print(f\"Wyjście warstwy {i}: \", out)\n",
    "    print(f\"Ostatni stan ukryty {i}: \",h_t)"
   ]
  },
  {
   "cell_type": "markdown",
   "metadata": {},
   "source": [
    "Na koniec warto też zauważyć, że samodzielna inicjalizacja stanu wejściowego do sieci rekurencyjnej `h0` nie jest obowiązkowa i na wejście warstwy rekurencyjnej można podać samą sekwencję wejściową. W takim wypadku element `h0` zostanie zainicjalizowany domyślnie wektorem zer."
   ]
  },
  {
   "cell_type": "code",
   "execution_count": 6,
   "metadata": {},
   "outputs": [
    {
     "name": "stdout",
     "output_type": "stream",
     "text": [
      "Wyjście warstwy:  tensor([[[ 0.6302, -0.7406, -0.7995,  0.1490,  0.0401, -0.8527],\n",
      "         [ 0.7869, -0.8504, -0.8728, -0.0532,  0.3630, -0.9559],\n",
      "         [ 0.9139, -0.9424, -0.9135, -0.0443,  0.5381, -0.9860],\n",
      "         [ 0.9672, -0.9785, -0.9420, -0.5081,  0.6718, -0.9937]]],\n",
      "       grad_fn=<TransposeBackward1>)\n",
      "Ostatni stan ukryty:  tensor([[[ 0.9672, -0.9785, -0.9420]],\n",
      "\n",
      "        [[ 0.1490,  0.0401, -0.8527]]], grad_fn=<StackBackward0>)\n"
     ]
    }
   ],
   "source": [
    "out, h_t = rnn(data)\n",
    "print(\"Wyjście warstwy: \", out)\n",
    "print(\"Ostatni stan ukryty: \",h_t)\n"
   ]
  },
  {
   "cell_type": "markdown",
   "metadata": {},
   "source": [
    "**Ćwiczenia**\n",
    "- Jakich zmian w kodzie musiałbyś dokonać by uzyskać 3-warstwową sieć rekurencyjną? Jak zmieniłaby się wtedy wymiarowośc `h0` oraz wyjścia sieci neuronowej `h1` i `out`?\n",
    "- W przypadku neuronu rekurencyjnego RNN wejściem do modelu jest sekwencja oraz początkowy/poprzedni stan ukryty `h0`. Korzystając z gotowej implemetancji neuronu LSTM jakiego wejścia się spodziewasz?\n",
    "\n",
    "Odpowiedzi nie musisz zapisywać."
   ]
  },
  {
   "cell_type": "markdown",
   "metadata": {},
   "source": [
    "## Zadanie 2\n",
    "W ostatnim zadaniu domowym poznawałeś usprawnienia implementacji modeli uczących się w PyTorch poprzez wykorzystanie gotowych elementów z modułu `torch.nn`. Jednak ostatecznie uzyskany przez nas kod nadal przetwarzał pojedyncze instancje tj. nieobsługiwał mini-batchy. Można oczywiście ręcznie zaimplementować indeksowanie, które pozwoli nam na iterowanie po paczkach danych, jednak PyTorch pozwala oczywiście na automatyzację tego procesu."
   ]
  },
  {
   "cell_type": "markdown",
   "metadata": {},
   "source": [
    "Na początek wczytajmy dane uczące z których będziemy korzystać w tym zadaniu. (Może być konieczna instalacja biblioteki `torchtext`)."
   ]
  },
  {
   "cell_type": "code",
   "execution_count": 7,
   "metadata": {},
   "outputs": [
    {
     "name": "stdout",
     "output_type": "stream",
     "text": [
      "['Confidence', 'in', 'the', 'pound', 'is', 'widely', 'expected', 'to', 'take', 'another', 'sharp', 'dive', 'if', 'trade', 'figures', 'for', 'September', ',', 'due', 'for', 'release', 'tomorrow', ',', 'fail', 'to', 'show', 'a', 'substantial', 'improvement', 'from', 'July', 'and', 'August', \"'s\", 'near-record', 'deficits', '.']\n",
      "['B-NP', 'B-PP', 'B-NP', 'I-NP', 'B-VP', 'I-VP', 'I-VP', 'I-VP', 'I-VP', 'B-NP', 'I-NP', 'I-NP', 'B-SBAR', 'B-NP', 'I-NP', 'B-PP', 'B-NP', 'O', 'B-ADJP', 'B-PP', 'B-NP', 'B-NP', 'O', 'B-VP', 'I-VP', 'I-VP', 'B-NP', 'I-NP', 'I-NP', 'B-PP', 'B-NP', 'I-NP', 'I-NP', 'B-NP', 'I-NP', 'I-NP', 'O']\n"
     ]
    }
   ],
   "source": [
    "from torchtext.datasets import CoNLL2000Chunking\n",
    "train_iter = CoNLL2000Chunking(split='train')\n",
    "seq_texts = []\n",
    "seq_tags = []\n",
    "for i in train_iter:\n",
    "    seq_texts.append(i[0])\n",
    "    seq_tags.append(i[2])\n",
    "print(seq_texts[0])\n",
    "print(seq_tags[0])"
   ]
  },
  {
   "cell_type": "markdown",
   "metadata": {},
   "source": [
    "Są to dane z popularnego zbioru CoNLL2000 dotyczące zadania płytkiej analizy frazowej. W liście `seq_texts` umieszczono kolejne zdania, a na liście `seq_tags` umieszczono odpowiadające im zestawy tagów. Zwróć uwagę, że zastosowano tutaj tagowanie BIO np. frazą czasownikową `VP` jest \"is widely expected to take\"."
   ]
  },
  {
   "cell_type": "markdown",
   "metadata": {},
   "source": [
    "Pierwszym krokiem przetwarzania jest zamiana słów na ich identyfikatory oraz obsłużenie tokenu `OOV`. W poprzednich zadaniach domowych robiliśmy to ręcznie jednak dzięki bibliotece `torchtext` ten proces równiez możemy zautomatyzować dzięki obiektowi `Vocab` i funkcji `build_vocab_from_iterator`."
   ]
  },
  {
   "cell_type": "code",
   "execution_count": 64,
   "metadata": {},
   "outputs": [
    {
     "data": {
      "text/plain": [
       "4403"
      ]
     },
     "execution_count": 64,
     "metadata": {},
     "output_type": "execute_result"
    }
   ],
   "source": [
    "from torchtext.vocab import build_vocab_from_iterator\n",
    "vocab = build_vocab_from_iterator(seq_texts, specials=[\"<unk>\"], min_freq=5)\n",
    "len(vocab)"
   ]
  },
  {
   "cell_type": "markdown",
   "metadata": {},
   "source": [
    "Funkcja ta na wejście przyjmuje iterator z tekstami, a także opcjonalnie próg `min_freq` pomijający słowa występujące z niewystarczającą częstotliowścią oraz `specials` pozwalający na umieszczenie w słowniku dodatkowych tokenów. Tokeny specjalne domyślnie są umieszczane na początku słownika.\n",
    "\n",
    "Obiekt `Vocab` w prosty sposób zamienia sekwencję tokenów na sekwencję ich indeksów."
   ]
  },
  {
   "cell_type": "code",
   "execution_count": 8,
   "metadata": {},
   "outputs": [
    {
     "data": {
      "text/plain": [
       "[107, 80, 8, 0]"
      ]
     },
     "execution_count": 8,
     "metadata": {},
     "output_type": "execute_result"
    }
   ],
   "source": [
    "vocab([\"if\",\"could\", \"in\", \"<unk>\"])"
   ]
  },
  {
   "cell_type": "markdown",
   "metadata": {},
   "source": [
    "oraz na inne proste konwersje:"
   ]
  },
  {
   "cell_type": "code",
   "execution_count": 9,
   "metadata": {},
   "outputs": [
    {
     "name": "stdout",
     "output_type": "stream",
     "text": [
      "if\n",
      "[0]\n"
     ]
    }
   ],
   "source": [
    "print(vocab.lookup_token(107))\n",
    "print(vocab.lookup_indices([\"<unk>\"]))"
   ]
  },
  {
   "cell_type": "markdown",
   "metadata": {},
   "source": [
    "Domyślnie jednak słownik nie obsługuje słów spoza słownika. Dla przykładu \"Confidence\" występuje w rozważanym korpusie mniej niż 2 razy."
   ]
  },
  {
   "cell_type": "code",
   "execution_count": 10,
   "metadata": {},
   "outputs": [
    {
     "ename": "RuntimeError",
     "evalue": "Token Confidence not found and default index is not set",
     "output_type": "error",
     "traceback": [
      "\u001b[1;31m---------------------------------------------------------------------------\u001b[0m",
      "\u001b[1;31mRuntimeError\u001b[0m                              Traceback (most recent call last)",
      "\u001b[1;32m~\\AppData\\Local\\Temp\\ipykernel_6636\\678815280.py\u001b[0m in \u001b[0;36m<module>\u001b[1;34m\u001b[0m\n\u001b[1;32m----> 1\u001b[1;33m \u001b[0mvocab\u001b[0m\u001b[1;33m(\u001b[0m\u001b[1;33m[\u001b[0m\u001b[1;34m\"Confidence\"\u001b[0m\u001b[1;33m]\u001b[0m\u001b[1;33m)\u001b[0m\u001b[1;33m\u001b[0m\u001b[1;33m\u001b[0m\u001b[0m\n\u001b[0m",
      "\u001b[1;32md:\\Python\\lib\\site-packages\\torch\\nn\\modules\\module.py\u001b[0m in \u001b[0;36m_call_impl\u001b[1;34m(self, *input, **kwargs)\u001b[0m\n\u001b[0;32m   1192\u001b[0m         if not (self._backward_hooks or self._forward_hooks or self._forward_pre_hooks or _global_backward_hooks\n\u001b[0;32m   1193\u001b[0m                 or _global_forward_hooks or _global_forward_pre_hooks):\n\u001b[1;32m-> 1194\u001b[1;33m             \u001b[1;32mreturn\u001b[0m \u001b[0mforward_call\u001b[0m\u001b[1;33m(\u001b[0m\u001b[1;33m*\u001b[0m\u001b[0minput\u001b[0m\u001b[1;33m,\u001b[0m \u001b[1;33m**\u001b[0m\u001b[0mkwargs\u001b[0m\u001b[1;33m)\u001b[0m\u001b[1;33m\u001b[0m\u001b[1;33m\u001b[0m\u001b[0m\n\u001b[0m\u001b[0;32m   1195\u001b[0m         \u001b[1;31m# Do not call functions when jit is used\u001b[0m\u001b[1;33m\u001b[0m\u001b[1;33m\u001b[0m\u001b[1;33m\u001b[0m\u001b[0m\n\u001b[0;32m   1196\u001b[0m         \u001b[0mfull_backward_hooks\u001b[0m\u001b[1;33m,\u001b[0m \u001b[0mnon_full_backward_hooks\u001b[0m \u001b[1;33m=\u001b[0m \u001b[1;33m[\u001b[0m\u001b[1;33m]\u001b[0m\u001b[1;33m,\u001b[0m \u001b[1;33m[\u001b[0m\u001b[1;33m]\u001b[0m\u001b[1;33m\u001b[0m\u001b[1;33m\u001b[0m\u001b[0m\n",
      "\u001b[1;32md:\\Python\\lib\\site-packages\\torchtext\\vocab\\vocab.py\u001b[0m in \u001b[0;36mforward\u001b[1;34m(self, tokens)\u001b[0m\n\u001b[0;32m     33\u001b[0m             \u001b[0mThe\u001b[0m \u001b[0mindices\u001b[0m \u001b[0massociated\u001b[0m \u001b[1;32mwith\u001b[0m \u001b[0ma\u001b[0m \u001b[0mlist\u001b[0m \u001b[0mof\u001b[0m\u001b[0;31m \u001b[0m\u001b[0;31m`\u001b[0m\u001b[0mtokens\u001b[0m\u001b[0;31m`\u001b[0m\u001b[1;33m.\u001b[0m\u001b[1;33m\u001b[0m\u001b[1;33m\u001b[0m\u001b[0m\n\u001b[0;32m     34\u001b[0m         \"\"\"\n\u001b[1;32m---> 35\u001b[1;33m         \u001b[1;32mreturn\u001b[0m \u001b[0mself\u001b[0m\u001b[1;33m.\u001b[0m\u001b[0mvocab\u001b[0m\u001b[1;33m.\u001b[0m\u001b[0mlookup_indices\u001b[0m\u001b[1;33m(\u001b[0m\u001b[0mtokens\u001b[0m\u001b[1;33m)\u001b[0m\u001b[1;33m\u001b[0m\u001b[1;33m\u001b[0m\u001b[0m\n\u001b[0m\u001b[0;32m     36\u001b[0m \u001b[1;33m\u001b[0m\u001b[0m\n\u001b[0;32m     37\u001b[0m     \u001b[1;33m@\u001b[0m\u001b[0mtorch\u001b[0m\u001b[1;33m.\u001b[0m\u001b[0mjit\u001b[0m\u001b[1;33m.\u001b[0m\u001b[0mexport\u001b[0m\u001b[1;33m\u001b[0m\u001b[1;33m\u001b[0m\u001b[0m\n",
      "\u001b[1;31mRuntimeError\u001b[0m: Token Confidence not found and default index is not set"
     ]
    }
   ],
   "source": [
    "vocab([\"Confidence\"])"
   ]
  },
  {
   "cell_type": "markdown",
   "metadata": {},
   "source": [
    "Można jednak ustawić domyślny indeks słownika na token `UNK`, który automatycznie zamienia nieznane słowa na indeks tego tokenu."
   ]
  },
  {
   "cell_type": "code",
   "execution_count": 11,
   "metadata": {},
   "outputs": [
    {
     "data": {
      "text/plain": [
       "[107, 80, 8, 0, 0]"
      ]
     },
     "execution_count": 11,
     "metadata": {},
     "output_type": "execute_result"
    }
   ],
   "source": [
    "vocab.set_default_index(0)\n",
    "vocab([\"if\",\"could\", \"in\", \"<unk>\",\"Confidence\"])"
   ]
  },
  {
   "cell_type": "markdown",
   "metadata": {},
   "source": [
    "Następny krokiem jest implementacja własnej klasy zbioru danych, dziedziczącej po klasie `torch.utils.data.Dataset`, która zapewni kompatybilność reprezentacji naszych danych z procedurami m.in. automatycznie tworzącymi batche.\n",
    "\n",
    "Zbiór danych powinien implementować co najmniej 3 funkcje: konstruktor, funkcję zwracającą liczbę elementów w zbiorze `__len__` oraz funckję pozwalającą na dostęp do wybranego elementu zbioru `__getitem__`.\n",
    "\n",
    "Wykorzystując funkcję `build_vocab_from_iterator` uzupełnij implementację poniższej klasy, tak aby funkcja `__getitem__` zwracała elementy zbioru składające się z sekwencji indeksów słów oraz z sekwencji indeksów klas. Należy obsłużyć słowa spoza słownika zamieniająć na token `UNK` słowa występujące jednokrotnie w zbiorze danych. Dodatkowo słownik powinien uwzględniać token specjalny `<PAD>`, najlepiej umieszczony pod indeksem 0, który będzie potrzebny w dalszej części ćwiczenia."
   ]
  },
  {
   "cell_type": "code",
   "execution_count": 62,
   "metadata": {},
   "outputs": [],
   "source": [
    "from torch.utils.data import Dataset, DataLoader\n",
    "\n",
    "class CoNLLDataset(Dataset):\n",
    "    def __init__(self, seq_texts, seq_tags):\n",
    "        self.texts = seq_texts\n",
    "        self.labels = seq_tags\n",
    "        self.vocab = build_vocab_from_iterator(seq_texts, specials=[\"<pad>\", \"<unk>\"], min_freq=2)\n",
    "        self.vocab.set_default_index(1)\n",
    "        self.tagset = build_vocab_from_iterator(seq_tags, specials=[\"<unk>\"], min_freq=1)\n",
    "        \n",
    "    def __len__(self):\n",
    "        return len(self.labels)\n",
    "    \n",
    "    def __getitem__(self, item):\n",
    "        return {'text':self.vocab(self.texts[item]), 'label':self.tagset(self.labels[item])}\n",
    "    \n",
    "    def get_vocab_size(self):\n",
    "        return len(self.vocab)\n",
    "    \n",
    "    def get_tagset_size(self):\n",
    "        return len(self.tagset)"
   ]
  },
  {
   "cell_type": "code",
   "execution_count": 65,
   "metadata": {},
   "outputs": [
    {
     "name": "stdout",
     "output_type": "stream",
     "text": [
      "{'text': [1, 9, 3, 1775, 17, 1164, 177, 6, 212, 317, 1216, 6116, 108, 650, 597, 11, 457, 2, 249, 11, 2626, 2963, 2, 4920, 6, 602, 7, 1401, 1752, 21, 732, 8, 543, 10, 8902, 1, 4], 'label': [2, 5, 2, 1, 4, 6, 6, 6, 6, 2, 1, 1, 8, 2, 1, 5, 2, 3, 9, 5, 2, 2, 3, 4, 6, 6, 2, 1, 1, 5, 2, 1, 1, 2, 1, 1, 3]}\n"
     ]
    }
   ],
   "source": [
    "dataset = CoNLLDataset(seq_texts, seq_tags)\n",
    "for i in dataset:\n",
    "    print(i)\n",
    "    break"
   ]
  },
  {
   "cell_type": "markdown",
   "metadata": {},
   "source": [
    "Mając zaimplementowany zbiór danych jako obiekt typu `Dataset`, podzielenie go na paczki instancji nie jest trudne. Wystarczy wykorzystać obiekt `DataLoader` i wyspecyfikować w nim rozmiar paczki danych `batch_size`."
   ]
  },
  {
   "cell_type": "code",
   "execution_count": 14,
   "metadata": {},
   "outputs": [
    {
     "name": "stdout",
     "output_type": "stream",
     "text": [
      "Ile utworzono paczek? 2234\n"
     ]
    }
   ],
   "source": [
    "dataloader = DataLoader(dataset, batch_size=4)\n",
    "print(\"Ile utworzono paczek?\", len(dataloader))"
   ]
  },
  {
   "cell_type": "markdown",
   "metadata": {},
   "source": [
    "Niemniej jednak praca z tekstami nie jest niestety taka prosta spróbuj przeiterować pod kolejnych paczkach twojego zbioru:"
   ]
  },
  {
   "cell_type": "code",
   "execution_count": 15,
   "metadata": {},
   "outputs": [
    {
     "ename": "RuntimeError",
     "evalue": "each element in list of batch should be of equal size",
     "output_type": "error",
     "traceback": [
      "\u001b[1;31m---------------------------------------------------------------------------\u001b[0m",
      "\u001b[1;31mRuntimeError\u001b[0m                              Traceback (most recent call last)",
      "\u001b[1;32m~\\AppData\\Local\\Temp\\ipykernel_6636\\2624445523.py\u001b[0m in \u001b[0;36m<module>\u001b[1;34m\u001b[0m\n\u001b[1;32m----> 1\u001b[1;33m \u001b[1;32mfor\u001b[0m \u001b[0mi\u001b[0m \u001b[1;32min\u001b[0m \u001b[0mdataloader\u001b[0m\u001b[1;33m:\u001b[0m\u001b[1;33m\u001b[0m\u001b[1;33m\u001b[0m\u001b[0m\n\u001b[0m\u001b[0;32m      2\u001b[0m     \u001b[0mprint\u001b[0m\u001b[1;33m(\u001b[0m\u001b[0mi\u001b[0m\u001b[1;33m)\u001b[0m\u001b[1;33m\u001b[0m\u001b[1;33m\u001b[0m\u001b[0m\n\u001b[0;32m      3\u001b[0m     \u001b[1;32mbreak\u001b[0m\u001b[1;33m\u001b[0m\u001b[1;33m\u001b[0m\u001b[0m\n",
      "\u001b[1;32md:\\Python\\lib\\site-packages\\torch\\utils\\data\\dataloader.py\u001b[0m in \u001b[0;36m__next__\u001b[1;34m(self)\u001b[0m\n\u001b[0;32m    626\u001b[0m                 \u001b[1;31m# TODO(https://github.com/pytorch/pytorch/issues/76750)\u001b[0m\u001b[1;33m\u001b[0m\u001b[1;33m\u001b[0m\u001b[1;33m\u001b[0m\u001b[0m\n\u001b[0;32m    627\u001b[0m                 \u001b[0mself\u001b[0m\u001b[1;33m.\u001b[0m\u001b[0m_reset\u001b[0m\u001b[1;33m(\u001b[0m\u001b[1;33m)\u001b[0m  \u001b[1;31m# type: ignore[call-arg]\u001b[0m\u001b[1;33m\u001b[0m\u001b[1;33m\u001b[0m\u001b[0m\n\u001b[1;32m--> 628\u001b[1;33m             \u001b[0mdata\u001b[0m \u001b[1;33m=\u001b[0m \u001b[0mself\u001b[0m\u001b[1;33m.\u001b[0m\u001b[0m_next_data\u001b[0m\u001b[1;33m(\u001b[0m\u001b[1;33m)\u001b[0m\u001b[1;33m\u001b[0m\u001b[1;33m\u001b[0m\u001b[0m\n\u001b[0m\u001b[0;32m    629\u001b[0m             \u001b[0mself\u001b[0m\u001b[1;33m.\u001b[0m\u001b[0m_num_yielded\u001b[0m \u001b[1;33m+=\u001b[0m \u001b[1;36m1\u001b[0m\u001b[1;33m\u001b[0m\u001b[1;33m\u001b[0m\u001b[0m\n\u001b[0;32m    630\u001b[0m             \u001b[1;32mif\u001b[0m \u001b[0mself\u001b[0m\u001b[1;33m.\u001b[0m\u001b[0m_dataset_kind\u001b[0m \u001b[1;33m==\u001b[0m \u001b[0m_DatasetKind\u001b[0m\u001b[1;33m.\u001b[0m\u001b[0mIterable\u001b[0m \u001b[1;32mand\u001b[0m\u001b[0;31m \u001b[0m\u001b[0;31m\\\u001b[0m\u001b[1;33m\u001b[0m\u001b[1;33m\u001b[0m\u001b[0m\n",
      "\u001b[1;32md:\\Python\\lib\\site-packages\\torch\\utils\\data\\dataloader.py\u001b[0m in \u001b[0;36m_next_data\u001b[1;34m(self)\u001b[0m\n\u001b[0;32m    669\u001b[0m     \u001b[1;32mdef\u001b[0m \u001b[0m_next_data\u001b[0m\u001b[1;33m(\u001b[0m\u001b[0mself\u001b[0m\u001b[1;33m)\u001b[0m\u001b[1;33m:\u001b[0m\u001b[1;33m\u001b[0m\u001b[1;33m\u001b[0m\u001b[0m\n\u001b[0;32m    670\u001b[0m         \u001b[0mindex\u001b[0m \u001b[1;33m=\u001b[0m \u001b[0mself\u001b[0m\u001b[1;33m.\u001b[0m\u001b[0m_next_index\u001b[0m\u001b[1;33m(\u001b[0m\u001b[1;33m)\u001b[0m  \u001b[1;31m# may raise StopIteration\u001b[0m\u001b[1;33m\u001b[0m\u001b[1;33m\u001b[0m\u001b[0m\n\u001b[1;32m--> 671\u001b[1;33m         \u001b[0mdata\u001b[0m \u001b[1;33m=\u001b[0m \u001b[0mself\u001b[0m\u001b[1;33m.\u001b[0m\u001b[0m_dataset_fetcher\u001b[0m\u001b[1;33m.\u001b[0m\u001b[0mfetch\u001b[0m\u001b[1;33m(\u001b[0m\u001b[0mindex\u001b[0m\u001b[1;33m)\u001b[0m  \u001b[1;31m# may raise StopIteration\u001b[0m\u001b[1;33m\u001b[0m\u001b[1;33m\u001b[0m\u001b[0m\n\u001b[0m\u001b[0;32m    672\u001b[0m         \u001b[1;32mif\u001b[0m \u001b[0mself\u001b[0m\u001b[1;33m.\u001b[0m\u001b[0m_pin_memory\u001b[0m\u001b[1;33m:\u001b[0m\u001b[1;33m\u001b[0m\u001b[1;33m\u001b[0m\u001b[0m\n\u001b[0;32m    673\u001b[0m             \u001b[0mdata\u001b[0m \u001b[1;33m=\u001b[0m \u001b[0m_utils\u001b[0m\u001b[1;33m.\u001b[0m\u001b[0mpin_memory\u001b[0m\u001b[1;33m.\u001b[0m\u001b[0mpin_memory\u001b[0m\u001b[1;33m(\u001b[0m\u001b[0mdata\u001b[0m\u001b[1;33m,\u001b[0m \u001b[0mself\u001b[0m\u001b[1;33m.\u001b[0m\u001b[0m_pin_memory_device\u001b[0m\u001b[1;33m)\u001b[0m\u001b[1;33m\u001b[0m\u001b[1;33m\u001b[0m\u001b[0m\n",
      "\u001b[1;32md:\\Python\\lib\\site-packages\\torch\\utils\\data\\_utils\\fetch.py\u001b[0m in \u001b[0;36mfetch\u001b[1;34m(self, possibly_batched_index)\u001b[0m\n\u001b[0;32m     59\u001b[0m         \u001b[1;32melse\u001b[0m\u001b[1;33m:\u001b[0m\u001b[1;33m\u001b[0m\u001b[1;33m\u001b[0m\u001b[0m\n\u001b[0;32m     60\u001b[0m             \u001b[0mdata\u001b[0m \u001b[1;33m=\u001b[0m \u001b[0mself\u001b[0m\u001b[1;33m.\u001b[0m\u001b[0mdataset\u001b[0m\u001b[1;33m[\u001b[0m\u001b[0mpossibly_batched_index\u001b[0m\u001b[1;33m]\u001b[0m\u001b[1;33m\u001b[0m\u001b[1;33m\u001b[0m\u001b[0m\n\u001b[1;32m---> 61\u001b[1;33m         \u001b[1;32mreturn\u001b[0m \u001b[0mself\u001b[0m\u001b[1;33m.\u001b[0m\u001b[0mcollate_fn\u001b[0m\u001b[1;33m(\u001b[0m\u001b[0mdata\u001b[0m\u001b[1;33m)\u001b[0m\u001b[1;33m\u001b[0m\u001b[1;33m\u001b[0m\u001b[0m\n\u001b[0m",
      "\u001b[1;32md:\\Python\\lib\\site-packages\\torch\\utils\\data\\_utils\\collate.py\u001b[0m in \u001b[0;36mdefault_collate\u001b[1;34m(batch)\u001b[0m\n\u001b[0;32m    263\u001b[0m             \u001b[1;33m>>\u001b[0m\u001b[1;33m>\u001b[0m \u001b[0mdefault_collate\u001b[0m\u001b[1;33m(\u001b[0m\u001b[0mbatch\u001b[0m\u001b[1;33m)\u001b[0m  \u001b[1;31m# Handle `CustomType` automatically\u001b[0m\u001b[1;33m\u001b[0m\u001b[1;33m\u001b[0m\u001b[0m\n\u001b[0;32m    264\u001b[0m     \"\"\"\n\u001b[1;32m--> 265\u001b[1;33m     \u001b[1;32mreturn\u001b[0m \u001b[0mcollate\u001b[0m\u001b[1;33m(\u001b[0m\u001b[0mbatch\u001b[0m\u001b[1;33m,\u001b[0m \u001b[0mcollate_fn_map\u001b[0m\u001b[1;33m=\u001b[0m\u001b[0mdefault_collate_fn_map\u001b[0m\u001b[1;33m)\u001b[0m\u001b[1;33m\u001b[0m\u001b[1;33m\u001b[0m\u001b[0m\n\u001b[0m",
      "\u001b[1;32md:\\Python\\lib\\site-packages\\torch\\utils\\data\\_utils\\collate.py\u001b[0m in \u001b[0;36mcollate\u001b[1;34m(batch, collate_fn_map)\u001b[0m\n\u001b[0;32m    126\u001b[0m     \u001b[1;32mif\u001b[0m \u001b[0misinstance\u001b[0m\u001b[1;33m(\u001b[0m\u001b[0melem\u001b[0m\u001b[1;33m,\u001b[0m \u001b[0mcollections\u001b[0m\u001b[1;33m.\u001b[0m\u001b[0mabc\u001b[0m\u001b[1;33m.\u001b[0m\u001b[0mMapping\u001b[0m\u001b[1;33m)\u001b[0m\u001b[1;33m:\u001b[0m\u001b[1;33m\u001b[0m\u001b[1;33m\u001b[0m\u001b[0m\n\u001b[0;32m    127\u001b[0m         \u001b[1;32mtry\u001b[0m\u001b[1;33m:\u001b[0m\u001b[1;33m\u001b[0m\u001b[1;33m\u001b[0m\u001b[0m\n\u001b[1;32m--> 128\u001b[1;33m             \u001b[1;32mreturn\u001b[0m \u001b[0melem_type\u001b[0m\u001b[1;33m(\u001b[0m\u001b[1;33m{\u001b[0m\u001b[0mkey\u001b[0m\u001b[1;33m:\u001b[0m \u001b[0mcollate\u001b[0m\u001b[1;33m(\u001b[0m\u001b[1;33m[\u001b[0m\u001b[0md\u001b[0m\u001b[1;33m[\u001b[0m\u001b[0mkey\u001b[0m\u001b[1;33m]\u001b[0m \u001b[1;32mfor\u001b[0m \u001b[0md\u001b[0m \u001b[1;32min\u001b[0m \u001b[0mbatch\u001b[0m\u001b[1;33m]\u001b[0m\u001b[1;33m,\u001b[0m \u001b[0mcollate_fn_map\u001b[0m\u001b[1;33m=\u001b[0m\u001b[0mcollate_fn_map\u001b[0m\u001b[1;33m)\u001b[0m \u001b[1;32mfor\u001b[0m \u001b[0mkey\u001b[0m \u001b[1;32min\u001b[0m \u001b[0melem\u001b[0m\u001b[1;33m}\u001b[0m\u001b[1;33m)\u001b[0m\u001b[1;33m\u001b[0m\u001b[1;33m\u001b[0m\u001b[0m\n\u001b[0m\u001b[0;32m    129\u001b[0m         \u001b[1;32mexcept\u001b[0m \u001b[0mTypeError\u001b[0m\u001b[1;33m:\u001b[0m\u001b[1;33m\u001b[0m\u001b[1;33m\u001b[0m\u001b[0m\n\u001b[0;32m    130\u001b[0m             \u001b[1;31m# The mapping type may not support `__init__(iterable)`.\u001b[0m\u001b[1;33m\u001b[0m\u001b[1;33m\u001b[0m\u001b[1;33m\u001b[0m\u001b[0m\n",
      "\u001b[1;32md:\\Python\\lib\\site-packages\\torch\\utils\\data\\_utils\\collate.py\u001b[0m in \u001b[0;36m<dictcomp>\u001b[1;34m(.0)\u001b[0m\n\u001b[0;32m    126\u001b[0m     \u001b[1;32mif\u001b[0m \u001b[0misinstance\u001b[0m\u001b[1;33m(\u001b[0m\u001b[0melem\u001b[0m\u001b[1;33m,\u001b[0m \u001b[0mcollections\u001b[0m\u001b[1;33m.\u001b[0m\u001b[0mabc\u001b[0m\u001b[1;33m.\u001b[0m\u001b[0mMapping\u001b[0m\u001b[1;33m)\u001b[0m\u001b[1;33m:\u001b[0m\u001b[1;33m\u001b[0m\u001b[1;33m\u001b[0m\u001b[0m\n\u001b[0;32m    127\u001b[0m         \u001b[1;32mtry\u001b[0m\u001b[1;33m:\u001b[0m\u001b[1;33m\u001b[0m\u001b[1;33m\u001b[0m\u001b[0m\n\u001b[1;32m--> 128\u001b[1;33m             \u001b[1;32mreturn\u001b[0m \u001b[0melem_type\u001b[0m\u001b[1;33m(\u001b[0m\u001b[1;33m{\u001b[0m\u001b[0mkey\u001b[0m\u001b[1;33m:\u001b[0m \u001b[0mcollate\u001b[0m\u001b[1;33m(\u001b[0m\u001b[1;33m[\u001b[0m\u001b[0md\u001b[0m\u001b[1;33m[\u001b[0m\u001b[0mkey\u001b[0m\u001b[1;33m]\u001b[0m \u001b[1;32mfor\u001b[0m \u001b[0md\u001b[0m \u001b[1;32min\u001b[0m \u001b[0mbatch\u001b[0m\u001b[1;33m]\u001b[0m\u001b[1;33m,\u001b[0m \u001b[0mcollate_fn_map\u001b[0m\u001b[1;33m=\u001b[0m\u001b[0mcollate_fn_map\u001b[0m\u001b[1;33m)\u001b[0m \u001b[1;32mfor\u001b[0m \u001b[0mkey\u001b[0m \u001b[1;32min\u001b[0m \u001b[0melem\u001b[0m\u001b[1;33m}\u001b[0m\u001b[1;33m)\u001b[0m\u001b[1;33m\u001b[0m\u001b[1;33m\u001b[0m\u001b[0m\n\u001b[0m\u001b[0;32m    129\u001b[0m         \u001b[1;32mexcept\u001b[0m \u001b[0mTypeError\u001b[0m\u001b[1;33m:\u001b[0m\u001b[1;33m\u001b[0m\u001b[1;33m\u001b[0m\u001b[0m\n\u001b[0;32m    130\u001b[0m             \u001b[1;31m# The mapping type may not support `__init__(iterable)`.\u001b[0m\u001b[1;33m\u001b[0m\u001b[1;33m\u001b[0m\u001b[1;33m\u001b[0m\u001b[0m\n",
      "\u001b[1;32md:\\Python\\lib\\site-packages\\torch\\utils\\data\\_utils\\collate.py\u001b[0m in \u001b[0;36mcollate\u001b[1;34m(batch, collate_fn_map)\u001b[0m\n\u001b[0;32m    137\u001b[0m         \u001b[0melem_size\u001b[0m \u001b[1;33m=\u001b[0m \u001b[0mlen\u001b[0m\u001b[1;33m(\u001b[0m\u001b[0mnext\u001b[0m\u001b[1;33m(\u001b[0m\u001b[0mit\u001b[0m\u001b[1;33m)\u001b[0m\u001b[1;33m)\u001b[0m\u001b[1;33m\u001b[0m\u001b[1;33m\u001b[0m\u001b[0m\n\u001b[0;32m    138\u001b[0m         \u001b[1;32mif\u001b[0m \u001b[1;32mnot\u001b[0m \u001b[0mall\u001b[0m\u001b[1;33m(\u001b[0m\u001b[0mlen\u001b[0m\u001b[1;33m(\u001b[0m\u001b[0melem\u001b[0m\u001b[1;33m)\u001b[0m \u001b[1;33m==\u001b[0m \u001b[0melem_size\u001b[0m \u001b[1;32mfor\u001b[0m \u001b[0melem\u001b[0m \u001b[1;32min\u001b[0m \u001b[0mit\u001b[0m\u001b[1;33m)\u001b[0m\u001b[1;33m:\u001b[0m\u001b[1;33m\u001b[0m\u001b[1;33m\u001b[0m\u001b[0m\n\u001b[1;32m--> 139\u001b[1;33m             \u001b[1;32mraise\u001b[0m \u001b[0mRuntimeError\u001b[0m\u001b[1;33m(\u001b[0m\u001b[1;34m'each element in list of batch should be of equal size'\u001b[0m\u001b[1;33m)\u001b[0m\u001b[1;33m\u001b[0m\u001b[1;33m\u001b[0m\u001b[0m\n\u001b[0m\u001b[0;32m    140\u001b[0m         \u001b[0mtransposed\u001b[0m \u001b[1;33m=\u001b[0m \u001b[0mlist\u001b[0m\u001b[1;33m(\u001b[0m\u001b[0mzip\u001b[0m\u001b[1;33m(\u001b[0m\u001b[1;33m*\u001b[0m\u001b[0mbatch\u001b[0m\u001b[1;33m)\u001b[0m\u001b[1;33m)\u001b[0m  \u001b[1;31m# It may be accessed twice, so we use a list.\u001b[0m\u001b[1;33m\u001b[0m\u001b[1;33m\u001b[0m\u001b[0m\n\u001b[0;32m    141\u001b[0m \u001b[1;33m\u001b[0m\u001b[0m\n",
      "\u001b[1;31mRuntimeError\u001b[0m: each element in list of batch should be of equal size"
     ]
    }
   ],
   "source": [
    "for i in dataloader:\n",
    "    print(i)\n",
    "    break"
   ]
  },
  {
   "cell_type": "markdown",
   "metadata": {},
   "source": [
    "Obiekt `DataLoader` próbuje automatycznie podzielić nasze dane na paczki, jednak nie jest to takie proste. Nasze dane składają się z sekwencji o różnych długościach, ciężko jest więc utworzyć z nich eleganckie tensory które mają stałe wymiarowości. Naturalnym rozwiązaniem problemu jest wyznaczenie długości najdłuższej sekwencji i uzupełnienie wszystkich pozostałych sekwencji do tej długości specjlanymi tokenami `<PAD>`. Taka operacja może niestety znacznie zwiększyć wymagania pamięciowe potrzebne do reprezentacji zbioru. Pojawienie się jednej bardzo długiej sekwencji w zbiorze znacznie zwiększa czas przetwarzania dla wszystkich jego elementów. \n",
    "\n",
    "Zauważ, że wymaganiem technicznym nie jest posiadanie całego zbioru danych w postaci jednego dużego tensora, ale stworzenie takiego tensora dla wszystkich sekwnencji w ramach jednej paczki danych. Zwykle długość najdłużej sekwencji w paczce jest dużo mniejsza niż długość najdłuszej sekwencji w całym zbiorze, co pozwoliłoby nam na nie tylko znaczne lepsze wykorzystanie pamięci operacyjnej, ale także na ograniczenie czasu przetwarzania. Z tego powodu w tym zadaniu będziemy dynamicznie tworzyć reprezentację paczki danych -- każda paczka będzie zawierała tyle samo sekwencji, jednak będą one uzupełniane do różnych długości, pod tym względem paczki danych *nie* będą równe.  \n",
    "\n",
    "Do uzupełnienia sekwencji do równych długości przydatna będzie funkcja `pad_sequence`, która również posiada parametr `batch_first` przygotowując dane o odpowiednich wymiarach."
   ]
  },
  {
   "cell_type": "code",
   "execution_count": 69,
   "metadata": {},
   "outputs": [
    {
     "name": "stdout",
     "output_type": "stream",
     "text": [
      "tensor([[1, 1],\n",
      "        [2, 2],\n",
      "        [3, 0]])\n",
      "tensor([[1, 2, 3],\n",
      "        [1, 2, 0]])\n"
     ]
    }
   ],
   "source": [
    "from torch.nn.utils.rnn import pad_sequence\n",
    "\n",
    "data = [torch.tensor([1,2,3]), torch.tensor([1,2])]\n",
    "pad_data = pad_sequence(data, padding_value=0)\n",
    "print(pad_data)\n",
    "\n",
    "pad_data = pad_sequence(data, padding_value=0, batch_first=True)\n",
    "print(pad_data)"
   ]
  },
  {
   "cell_type": "markdown",
   "metadata": {},
   "source": [
    "Warto zwrócić uwagę, że zrównoleglanie przetwarzania sieci rekurencyjnej nie jest proste, gdyż wyniki przetwarzania zależą od poprzednich wyników. Nie można więc, tak jak w przypadku sieci splotowej, równocześnie obliczyć wyników filtra na wszystkich słowach w tekście, znakomicie zrównoleglając przetwarzanie. Należy najpierw zastosować \"filtr\" na pierwszym słowie, poczekać na wynik, potem na kolejnym itd. W związku z tym najlepszą możliwością zrównoleglenia przetwarzania sieci rekurencyjnych jest obsługa wielu przykładów uczących na raz. Sieć rekurencyjna, inicjalizowana potencjalnie różnymi `h0` dla różnych przykładów uczących, na raz przetwarza pierwsze elementy każdej sekwencji. Następnie przetwarza wszystkie drugie elementy, wszystkie trzecie elementy itd. Przetwarzanie odbywać się będzie po kolei w ramach kolejnych wierszy domyślnej repezentacji `batch_first=False` tj. równocześnie przetwarzane będą wszystkie sekwencje w batchu.\n",
    "\n",
    "Implementacja dynamicznego tworzenia paczek danych (wraz z uzupełnianiem `<PAD>`) jest możliwa dzięki przekazaniu do konstruktora `DataLoader` funkcji `collate_fn`. Funkcja ta na wejście otrzymuje kolekcję danych (w takiej postaci w jakiej zostały one zwrócone z `DataSet` a na wyjście powinna zwrócić tensory reprezentujące paczkę danych. Nasza funkcja `collate_fn` powinna zwrócić 3 tensory. Pierwszy tensor powinien zawierać przykłady uczące (o równej długości), drugi odpowiednio uzupełnione sekwencje tagów oraz trzeci tensor jednowymiarowy (wektor) zawierający długości kolejnych sekwencji w batchu.\n",
    "\n",
    "*UWAGA*: Konwencją umożliwiającą potem efektywniejsze przetwarzanie jest to, że sekwencje w batchu są posortowane ich długościami. Pierwsza sekwencja powinna być najdłuższa, a ostatnia najkrótsza."
   ]
  },
  {
   "cell_type": "code",
   "execution_count": 67,
   "metadata": {},
   "outputs": [],
   "source": [
    "def collate_fn(batch):\n",
    "    batch = sorted(batch, key=lambda x: len(x['text']), reverse=True)\n",
    "    txts, tags, sizes = [], [], []\n",
    "    for i in batch:\n",
    "        txts.append(torch.tensor(i['text']))\n",
    "        tags.append(torch.tensor(i['label']))\n",
    "        sizes.append(len(i['text']))\n",
    "    return pad_sequence(txts, padding_value=0, batch_first=True), \\\n",
    "            pad_sequence(tags, padding_value=0, batch_first=True), \\\n",
    "            torch.tensor(sizes)\n"
   ]
  },
  {
   "cell_type": "code",
   "execution_count": 18,
   "metadata": {},
   "outputs": [
    {
     "name": "stdout",
     "output_type": "stream",
     "text": [
      "(tensor([[   1,    9,    3, 1775,   17, 1164,  177,    6,  212,  317, 1216, 6116,\n",
      "          108,  650,  597,   11,  457,    2,  249,   11, 2626, 2963,    2, 4920,\n",
      "            6,  602,    7, 1401, 1752,   21,  732,    8,  543,   10, 8902,    1,\n",
      "            4],\n",
      "        [ 253,   36,  229,    3,  496,    5,    3,  118,  214, 1190,    6,  197,\n",
      "          977,  172,    6, 1117,   19,   21,   49,  312,  224,   19,  417,    6,\n",
      "         4096,    3, 1775,    2, 1143,    8,  384,  339,   56,  246,  138,    4,\n",
      "            0],\n",
      "        [  55,  246,    1, 2085,  477,   11, 2950,   36,   63, 6154,   25,    3,\n",
      "         5984,   10, 1048,    6, 2788,  113,   69,  260, 2043,    9,   64, 4593,\n",
      "          225, 3267,   88,  817,    4,    0,    0,    0,    0,    0,    0,    0,\n",
      "            0],\n",
      "        [2263,    5,    3, 4530, 4614, 1704,   10, 4293, 2543,    6,    7,  228,\n",
      "         1314,  260,   36,  794,    6, 1916,    7,    1,    9, 2950,   96,    3,\n",
      "          230,  126,    4,    0,    0,    0,    0,    0,    0,    0,    0,    0,\n",
      "            0]]), tensor([[2, 5, 2, 1, 4, 6, 6, 6, 6, 2, 1, 1, 8, 2, 1, 5, 2, 3, 9, 5, 2, 2, 3, 4,\n",
      "         6, 6, 2, 1, 1, 5, 2, 1, 1, 2, 1, 1, 3],\n",
      "        [2, 4, 6, 2, 1, 5, 2, 1, 4, 6, 6, 6, 2, 1, 5, 2, 1, 5, 2, 1, 1, 1, 1, 4,\n",
      "         6, 2, 1, 3, 2, 3, 2, 1, 1, 1, 4, 3, 0],\n",
      "        [3, 2, 4, 2, 1, 5, 2, 4, 6, 6, 5, 2, 1, 2, 1, 4, 6, 2, 1, 1, 1, 5, 2, 1,\n",
      "         1, 1, 2, 1, 3, 0, 0, 0, 0, 0, 0, 0, 0],\n",
      "        [3, 5, 2, 1, 2, 1, 2, 1, 1, 5, 2, 1, 1, 1, 4, 6, 6, 6, 2, 1, 5, 2, 5, 2,\n",
      "         1, 1, 3, 0, 0, 0, 0, 0, 0, 0, 0, 0, 0]]), tensor([37, 36, 29, 27]))\n"
     ]
    }
   ],
   "source": [
    "dataloader = DataLoader(dataset, batch_size=4, collate_fn=collate_fn)\n",
    "for i in dataloader:\n",
    "    print(i)\n",
    "    break"
   ]
  },
  {
   "cell_type": "markdown",
   "metadata": {},
   "source": [
    "Uzupełnienie sekwencji tokenami `<PAD>` do pełnej długości wydaje sie być dobrym pomysłem i pozwala na operowanie na tensorach które łatwo przesłać na kartę graficzną czy wykonać równoległe obliczenia na wszystkich jego elementach. Niemniej jednak fakt, że nasze sekwencje nie są równiej długości jest nadal niezwykle istotny przy wielu różnych obliczeniach. W szczególności jest on istotny przy przetwarzaniu sekwencji przez sieć rekurencyjną. W przypadku sieci rekurencyjnej przetwarzającej sekwencję uzupełnioną do końca zerami, sieć nie zwróci reprezentacji dla każdego słowa ale dla wszystkich elementów sekwencji czyli także dla końcowych elementów-zer. Ewidentnie sieć wykonała wiele niepotrzebnych operacji obliczeniowych tracąc czas (a przecież sieci rekurencyjne do najszybszych nie należą) jednakże prawidłowy wynik nadal jest do odzyskania. Możemy przecież post-factum wziąć pod uwagę tylko (długość sekwencji)-pierwszych elementów wyniku, uzyskując taki sam wynik jak przy przetwarzaniu sekwencji bez uzupełnienia.\n",
    "\n",
    "Tak się jednak nie dzieje, gdy rozważamy dwukierunkową sieć rekurencyjną. Sieć iterująca w tył rozpoczęła przetwarzanie od początkowego stanu ukrytego, a następnie akutalizowała go za kolejne wejścia uważając sekwencję tokenów `<PAD>`! Wynik obliczeń tej sieci jest więc różny niż dla sekwencji nieuzupełnionej i co więcej nie jest on do odzyskania. Uzupełniając sekwnecję np. zerami nie tylko wykonujemy nadmiarowe obliczenia, ale także zaburzamy wyniki.\n",
    "\n",
    "Na szczęście sieci rekurencyjne zaimplementowane w PyTorch obsługją także specjalny format danych tzw. `PackedSequence`, który przechowuje informację o długościach sekwencji zapewniając oszczędność obliczeń i takie same wyniki jak dla sekwencji bez uzupełniania. Przed wykonaniem obliczeń siecią rekurencyjną możemy dane zapakować do tego formatu, a następnie przetworzony wynik możemy z powrotem odpakować do postaci uzupełnionego do pełnej długości tensora. Pomocne są w tym dwie funkcje: `pack_padded_sequence` pakująca dane do tego formatu oraz funkcja odpakowująca `pad_packed_sequence`."
   ]
  },
  {
   "cell_type": "code",
   "execution_count": 14,
   "metadata": {},
   "outputs": [
    {
     "name": "stdout",
     "output_type": "stream",
     "text": [
      "PackedSequence(data=tensor([ 1, -1, 10,  2, -2, 20,  3, -3,  4,  5]), batch_sizes=tensor([3, 3, 2, 1, 1]), sorted_indices=None, unsorted_indices=None)\n"
     ]
    }
   ],
   "source": [
    "from torch.nn.utils.rnn import pack_padded_sequence, pad_packed_sequence\n",
    "\n",
    "data = torch.tensor([[1,2,3,4,5],[-1,-2,-3,0,0], [10,20,0,0,0]])\n",
    "lengths = torch.tensor([5,3,2])\n",
    "\n",
    "packed_data = pack_padded_sequence(data, lengths, batch_first=True)\n",
    "print(packed_data)"
   ]
  },
  {
   "cell_type": "markdown",
   "metadata": {},
   "source": [
    "Zapakowaliśmy 3 sekwencje, które uzupełnione były do długości 5. Ponieważ kolejne sekwencje są umieszczone w kolejnych wierszach tensora należy wyspecyfikować argument `batch_first=True`. Format `PackedSequence` przechowuje tensor `data` oraz tensor `batch_sizes`. Tak jak opisywaliśmy, sieć rekurencyjna zrównolegla swoje działania poprzez jednoczene przetwarzanie wszystkich sekwencji na raz, iterując po ich kolejnych elementach. Z tego powodu `batch_sizes` opisują wielkość przetwarzanej paczki danych (tj. liczba przetwarzanych sekwencji) w każdej iteracji. Na początku przetwarzamy 3 sekwencje, potem znowu 3, a następnie tylko dwie, gdyż ostatnia sekwencja miała tylko 2 elementy. Prześledź, że właśnie w taki sposób zostały ułożone dane w `data`.\n",
    "\n",
    "Porównajmy działanie neuronu rekurencyjnego dla danych uzupełnionych tokenami `<PAD>` oraz dla danych spakowanych do `PackedSequence`."
   ]
  },
  {
   "cell_type": "code",
   "execution_count": 20,
   "metadata": {},
   "outputs": [
    {
     "name": "stdout",
     "output_type": "stream",
     "text": [
      "Wyjście sieci dla danych o stałej długości:  tensor([[[-0.6768],\n",
      "         [-0.7637],\n",
      "         [-0.9402],\n",
      "         [-0.9834],\n",
      "         [-0.9965]],\n",
      "\n",
      "        [[ 0.6695],\n",
      "         [ 0.7610],\n",
      "         [ 0.9390],\n",
      "         [-0.7100],\n",
      "         [ 0.5777]],\n",
      "\n",
      "        [[-1.0000],\n",
      "         [-1.0000],\n",
      "         [ 0.7310],\n",
      "         [-0.5993],\n",
      "         [ 0.5044]]], grad_fn=<TransposeBackward1>)\n",
      "Wyjście sieci dla danych spakowanych:  PackedSequence(data=tensor([[-0.6768],\n",
      "        [ 0.6695],\n",
      "        [-1.0000],\n",
      "        [-0.7637],\n",
      "        [ 0.7610],\n",
      "        [-1.0000],\n",
      "        [-0.9402],\n",
      "        [ 0.9390],\n",
      "        [-0.9834],\n",
      "        [-0.9965]], grad_fn=<CatBackward0>), batch_sizes=tensor([3, 3, 2, 1, 1]), sorted_indices=None, unsorted_indices=None)\n",
      "Wyjście sieci po rozpakowaniu:  tensor([[[-0.6768],\n",
      "         [-0.7637],\n",
      "         [-0.9402],\n",
      "         [-0.9834],\n",
      "         [-0.9965]],\n",
      "\n",
      "        [[ 0.6695],\n",
      "         [ 0.7610],\n",
      "         [ 0.9390],\n",
      "         [ 0.0000],\n",
      "         [ 0.0000]],\n",
      "\n",
      "        [[-1.0000],\n",
      "         [-1.0000],\n",
      "         [ 0.0000],\n",
      "         [ 0.0000],\n",
      "         [ 0.0000]]], grad_fn=<TransposeBackward0>)\n"
     ]
    }
   ],
   "source": [
    "N_FEATURES = 1\n",
    "N_LAYERS = 1\n",
    "HIDDEN_SIZE = 1\n",
    "\n",
    "data = torch.FloatTensor([[1,2,3,4,5],[-1,-2,-3,0,0], [10,20,0,0,0]]).view(3,5,1)\n",
    "lengths = torch.tensor([5,3,2])\n",
    "\n",
    "rnn = nn.RNN(N_FEATURES, HIDDEN_SIZE, N_LAYERS, batch_first = True) \n",
    "out, _ = rnn(data)\n",
    "print(\"Wyjście sieci dla danych o stałej długości: \", out)\n",
    "\n",
    "packed_data = pack_padded_sequence(data, lengths, batch_first=True)\n",
    "out_packed, _ = rnn(packed_data)\n",
    "print(\"Wyjście sieci dla danych spakowanych: \",out_packed)\n",
    "out, out_len = pad_packed_sequence(out_packed, batch_first=True)\n",
    "print(\"Wyjście sieci po rozpakowaniu: \", out)\n"
   ]
  },
  {
   "cell_type": "markdown",
   "metadata": {},
   "source": [
    "Zwróć uwagę jak ułożone są spakowane wyniki sieci.\n",
    "\n",
    "Stworzyliśmy zbiór danych, mamy także zaimplementowany mechanizm dynamicznych paczek danych, a także wiemy jak efektywnie wykorzystywać je do obliczeń siecami rekurencyjnymi. Połóżmy więc wisienkę na torcie i stwórzmy model do tagowania tych danych. Model powinien składać się z warstwy zanurzeń słów, która jest wejściem do jednowarstwowego, dwukierunkowego LSTM. Ostatecznie predykcja jest wykonywana przez warstwę liniową (softmax)."
   ]
  },
  {
   "cell_type": "code",
   "execution_count": 11,
   "metadata": {},
   "outputs": [],
   "source": [
    "WORD_EMBEDDING = 20\n",
    "\n",
    "class TaggerNet(nn.Module):\n",
    "    def __init__(self, vocab_size, hidden_size, n_tags):\n",
    "        \"\"\" Argumentami konstruktora jest rozmiar słownika, \n",
    "            liczba neuronów w warstwie rekurencyjnej \n",
    "            oraz liczba klas/tagów\n",
    "        \"\"\"\n",
    "        super(TaggerNet, self).__init__()\n",
    "        self.embedding = nn.Embedding(vocab_size, WORD_EMBEDDING)\n",
    "        self.lstm = nn.LSTM(WORD_EMBEDDING, hidden_size, batch_first=True, bidirectional=True)\n",
    "        self.linear = nn.Linear(hidden_size * 2, n_tags)\n",
    "        self.n_tags = n_tags\n",
    "        \n",
    "    def forward(self, sentence, seq_lengths):\n",
    "        \"\"\" Wejściem jest paczka zdań (słowa reprezentowane przez indeksy)\n",
    "            oraz tensor ich długości \n",
    "        \"\"\"\n",
    "        embedded_words = self.embedding(sentence)\n",
    "        packed_words = pack_padded_sequence(embedded_words, seq_lengths, batch_first=True)\n",
    "        lstm_out, _ = self.lstm(packed_words)\n",
    "        unpacked_out, _ = pad_packed_sequence(lstm_out, batch_first=True)\n",
    "        out = self.linear(unpacked_out)\n",
    "        return out.view(len(sentence), self.n_tags, -1)\n",
    "        \n",
    "\n"
   ]
  },
  {
   "cell_type": "markdown",
   "metadata": {},
   "source": [
    "Zaimplemetuj finalną pętlę uczącą model. \n",
    "- Powinieneś wykorzystać błąd entropii krzyżowej jako funkcję straty policzoną dla każdego przewidzianego taga. \n",
    "- Zwróć uwagę, że wyniki sieci są w postaci rozpakowanej tj. uzupełnionej zerami do pełnej długości. Błąd nie powinien być liczony dla tych predykcji! Możesz to osiągnąć np. sprytnie wykorzystując parametr `ignore_index` klasy `nn.CrossEntropyLoss`. \n",
    "- Jako algorytm optymalizacyjny wykorzystaj `torch.optim.Adam`.\n",
    "- Jedną z technik stabilizujących trening sieci jest przycinanie gradientu. W PyTorch możesz to uzyskać wywołując pomiędzy obliczeniem gradientu a wywołaniem kroku optymalizatora funkcji `nn.utils.clip_grad_norm_(model.parameters(), TRESHOLD)`. Zwróć uwagę, że nazwa funkcji zakończona jest `_` to znaczy, że operacja jest wykonywana in-place i wyniku funkcji nie trzeba podstawiać do żadnej zmiennej.\n",
    "- Celem ćwiczenia nie jest wybór hiperparametrów, ani uzyskiwanie wysokich trafności."
   ]
  },
  {
   "cell_type": "code",
   "execution_count": 25,
   "metadata": {},
   "outputs": [
    {
     "name": "stdout",
     "output_type": "stream",
     "text": [
      "iter 1: avg. train loss=2.0744\n",
      "iter 2: avg. train loss=1.9407\n",
      "iter 3: avg. train loss=1.9137\n",
      "iter 4: avg. train loss=1.8927\n",
      "iter 5: avg. train loss=1.8781\n"
     ]
    }
   ],
   "source": [
    "model = TaggerNet(dataset.get_vocab_size(), 10, dataset.get_tagset_size())\n",
    "dataloader = DataLoader(dataset, batch_size=20, collate_fn=collate_fn)\n",
    "\n",
    "loss_function = nn.CrossEntropyLoss(ignore_index=0)\n",
    "optimizer = torch.optim.Adam(model.parameters(), lr=0.01)\n",
    "\n",
    "for epoch in range(5):  \n",
    "    loss_sum = torch.tensor(0.)\n",
    "    for sentences, tags, lengths in dataloader:\n",
    "        \n",
    "        optimizer.zero_grad()\n",
    "        preds = model(sentences, lengths)\n",
    "        loss = loss_function(preds, tags)\n",
    "        loss.backward()\n",
    "        nn.utils.clip_grad_norm_(model.parameters(), 2)\n",
    "        optimizer.step()\n",
    "        with torch.no_grad():\n",
    "            loss_sum += loss\n",
    "    print(\"iter %r: avg. train loss=%.4f\" % (epoch+1, loss_sum/len(dataloader)))\n",
    "\n"
   ]
  },
  {
   "cell_type": "markdown",
   "metadata": {},
   "source": [
    "**Ćwiczenia**\n",
    "- W tym zadaniu zaimplementowaliśmy dynamiczne tworzenie paczek danych, w ramach których uzupełnialiśmy sekwencje do takiej samej długości. Czasami stosowaną techniką jest posortowanie zbioru danych, tak aby sekwencje były ułożone od najdłuższej do najkrótszej, a następnie dynamicznie tworzy się kolejne paczeki danych iterując po tak ułożonym zbiorze. Jakie są wady i zalety takiego rozwiązania?\n",
    "- Student podczas treningu sieci neuronowej zauważył, że wyniki funkcji celu w czasie optymalizacji modelu nie są stabilne. Spodziewa się, że zwiększenie rozmiaru paczki danych przyczyni się do bardziej stabilnego treningu sieci i poprawi wyniki. Jednakże, dalsze zwiększenie paczki danych nie jest możliwe gdyż nie mieści się ona w pamięci na karcie GPU. Sama implementacja sieci i reprezentacji zbioru danych jest wg. studenta optymalna, inna karta GPU o większej pamięci nie jest dostępna. Jak rozwiązac ten problem? Podaj zarys implementacji. \n",
    "\n",
    "\n",
    "Odpowiedź na ostatnią kropkę umieść poniżej.\n"
   ]
  },
  {
   "cell_type": "markdown",
   "metadata": {},
   "source": [
    "Student może rozwiązać ten problem korzystając z techniki akumulacji gradientu. Polega ona na gromadzeniu, kumulacji wartości gradientów przez określoną liczbę - N - minibatchy przed wykonaniem jednego kroku optymalizacji i wyzerowania wartości gradientów. Pozwala ona dzięki temu na imitację większego rozmiaru docelowego batcha i rozwiązanie ograniczeń sprzętowych. Należy pamiętać przy implementacji o odpowiedniej normalizacji funkcji straty. Zarys implementacji:\n",
    "```\n",
    "accum_iter = 4\n",
    "# minibatch_size = 8 => batch_size minibatch_size * accum_iter = 32 \n",
    "for batch_idx, (inputs, labels) in enumerate(dataloader):\n",
    "    preds = model(inputs)\n",
    "    loss = loss_function(preds, labels)\n",
    "\n",
    "    loss = loss / accum_iter\n",
    "    loss.backward()\n",
    "    if ((batch_idx + 1) % accum_iter == 0) or (batch_idx + 1 == len(dataloader)):\n",
    "        optimizer.step()\n",
    "        optimizer.zero_grad()\n",
    "```"
   ]
  },
  {
   "cell_type": "markdown",
   "metadata": {},
   "source": [
    "## Zadanie 3\n",
    "Celem ostatniego ćwiczenia jest rozszerzenie modelu o warstwę CRF (nie można korzystać z gotowców). Implementacja:\n",
    "- powinna operować tylko na jednej sekwencji (brak obsługi paczek danych w programowaniu dynamicznym)\n",
    "- powinna być stabilna numerycznie tj. operować na logarytmach prawdopodobieństw (patrz rozdział \"Uwaga implementacyjna\" w wykładzie o CRF)\n",
    "- warstwa CRF powinna być zaimplementowana wg. schematu \"rozbicie funkcji oceny na ocenę emisji i tranzycji\" $$\\Psi_i (y_i, y_{i-1}, \\vec{x}) = \\exp\\left({W}_{y_i}h_i\\right) \\exp\\left(\\vec{b}_{y_i, y_{i-1}} \\right)$$\n",
    " gdzie ${W}_{y_i}h_i$ to ocena kompatybilności emisji, a $\\vec{b}_{y_i, y_{i-1}}$ to kompatybilność tranzycji. Reprezentacja $h_i$ jest obliczana poprzez sieć rekurenycjną LSTM. Zwróć więc uwagę, że ${W}_{y_i}h_i$ to wynik warstwy liniowej mającej tyle neuronów wyjściowych ile tagów, za wejście przyjmując stan ukryty sieci rekurencyjnej. Z kolei $\\vec{b}_{y_i, y_{i-1}}$ to jedna waga reprezentująca ocenę tranzycji, która jest dodatkowym parametrem warstwy CRF. Potrzebujemy więc macierz takich wag o wymiarach $C\\times C$ gdzie C to liczba tagów. \n",
    "- Model powinien uwzględniać też reprezentacje tagów `START` i `STOP`. W rezultacie więc wygodnie zaimplementować macierz parametrów oceniających tranzycję jako macierz o wymiarach $C+2\\times C+2$.\n",
    " \n",
    "W czasie treningu modelu powinieneś maksymalizować logarytmiczną funkcję wiarygodności, co przy paczce danych o wielkości 1 sprowadza się do maksymalizacji logarytmu prawdopodobieństwa prawidłowej sekwencji. \n",
    "$$\\max \\log P({y} | {x}) = \\log \\frac{\\prod_{i=1}^n \\Psi_i (y_i, y_{i-1}, {x})}{Z({x})}  = \\sum_{i=1}^n  \\log \\Psi_i (y_i, y_{i-1}, {x}) - \\log Z({x})  $$\n",
    "W PyTorch algorytmy optymalizacyjne minimalizują funkcje celu, więc wynik przed policzeniem gradientów musisz pomnożyć przez $-1$.\n",
    "\n",
    "Do dyspozycji masz funkcję `log_sum_exp`:"
   ]
  },
  {
   "cell_type": "code",
   "execution_count": 8,
   "metadata": {},
   "outputs": [],
   "source": [
    "def log_sum_exp(vec):\n",
    "    max_score = torch.max(vec)\n",
    "    return max_score + torch.log(torch.sum(torch.exp(vec - max_score)))"
   ]
  },
  {
   "cell_type": "markdown",
   "metadata": {},
   "source": [
    "Uzupełnij klasę `TaggerCRFNet` takby aby implementowała powyższą architekturę."
   ]
  },
  {
   "cell_type": "code",
   "execution_count": 113,
   "metadata": {},
   "outputs": [],
   "source": [
    "class TaggerCRFNet(nn.Module):\n",
    "    def __init__(self, vocab_size, hidden_size, n_tags):\n",
    "        super(TaggerCRFNet, self).__init__()\n",
    "        self.embedding = nn.Embedding(vocab_size, WORD_EMBEDDING)\n",
    "        self.lstm = nn.LSTM(WORD_EMBEDDING, hidden_size, bidirectional = True)\n",
    "        self.fc = nn.Linear(hidden_size * 2, n_tags)\n",
    "        self.n_tags = n_tags\n",
    "        self.START_TAG = self.n_tags \n",
    "        self.STOP_TAG = self.n_tags + 1\n",
    "        self.transitions = nn.Parameter(torch.randn((n_tags + 2, n_tags + 2)))\n",
    "\n",
    "\n",
    "    def _get_features(self, sentence, seq_lengths):\n",
    "        \"\"\"\n",
    "        Funkcja ekstrakcji cech przez sieć rekurencyjną LSTM.\n",
    "        Wyjście sieci zwraca od razu ocenę emisji każdego taga W_{y_i}*h_i\n",
    "        \n",
    "        Zwróć uwagę na wywołanie .view() na wyniku funkcji. Wynik ma \n",
    "        wymiarowość długość sekwencji x liczba tagów (brak obsługi kilku sekwencji na raz)\n",
    "        \"\"\"\n",
    "        embedded_words = self.embedding(sentence)   \n",
    "        packed_words = pack_padded_sequence(embedded_words, seq_lengths)\n",
    "        out, _ = self.lstm(packed_words)                 \n",
    "        unpacked, unpacked_len = pad_packed_sequence(out)\n",
    "        out = self.fc(unpacked)         \n",
    "        return out.view(-1, self.n_tags)  \n",
    "    \n",
    "    def _get_numerator(self, features, tags):\n",
    "        \"\"\"\n",
    "        Funkcja przyjmuje na wejście features zwracane przez _get_features\n",
    "        oraz sekwencję tagów. Obliczany jest (zlogarytmowany) licznik prawdopodobieństwa \n",
    "        podanej sekwencji. (Pierwszy term podanej wyżej funkcji celu)\n",
    "        \n",
    "        Zwróć uwagę w jaki sposób jest wykorzystywana macierz transitions.\n",
    "        Pierwszym indeksem jest *kolejny* tag\n",
    "        \"\"\"\n",
    "        score = torch.zeros(1)\n",
    "        # Funkcje kompatybilności emisji\n",
    "        for i, tag in enumerate(tags):\n",
    "            score = score + features[i,tag]\n",
    "        # Funkcje kompatybilności tranzycji\n",
    "        score = score + self.transitions[tags[0], self.START_TAG]\n",
    "        for i in range(len(tags)-1):\n",
    "            score = score + self.transitions[tags[i+1], tags[i]]\n",
    "        score = score + self.transitions[self.STOP_TAG,tags[-1]]\n",
    "        return score\n",
    "    \n",
    "    def _forward_alg(self, features, seq_lengths):\n",
    "        \"\"\"\n",
    "        Funkcja zwracająca logarytm sumy statystycznej (drugi term funkcji celu)\n",
    "        \"\"\"\n",
    "        alphas = features[0] + self.transitions[:self.n_tags , self.START_TAG].view(-1)\n",
    "        for feature in features[1:]:\n",
    "            z = alphas + feature.unsqueeze(1) + self.transitions[:self.n_tags, :self.n_tags]\n",
    "            z_i = z.max(1).values\n",
    "            alphas = z_i + (z - z_i.unsqueeze(1)).logsumexp(1)\n",
    "        \n",
    "        return log_sum_exp(alphas + self.transitions[self.STOP_TAG, :self.n_tags])\n",
    "\n",
    "    def seq_log_probability(self, sentence, tags, seq_lengths):\n",
    "        \"\"\"\n",
    "        Funkcja zwracająca logarytm prawdopodobieństwa podanej sekwencji\n",
    "        \"\"\"\n",
    "        features = self._get_features(sentence, seq_lengths)\n",
    "        numerator = self._get_numerator(features, tags)\n",
    "        partition_function = self._forward_alg(features,seq_lengths)\n",
    "        return numerator - partition_function\n",
    "\n",
    "    def forward(self, sentence, seq_lengths):\n",
    "        \"\"\"\n",
    "        Funkcja zwracająca najbardziej prawdopodobną sekwencję tagów dla podanego wejścia.\n",
    "        \n",
    "        Porada: zaimplementuj ją w drugiej kolejności, jak seq_log_probability będzie prawidłowo działać\n",
    "        \"\"\"\n",
    "        features = self._get_features(sentence, seq_lengths)\n",
    "        alphas = features[0] + self.transitions[:self.n_tags, self.START_TAG].view(-1)\n",
    "        pred_tags = []\n",
    "\n",
    "        for feature in features[1:]:\n",
    "            z = alphas + feature.unsqueeze(1) + self.transitions[:self.n_tags, :self.n_tags]\n",
    "            preds, tags = z.max(1)\n",
    "            pred_tags.append(tags)\n",
    "            alphas = preds + (z - preds.unsqueeze(1)).logsumexp(1)\n",
    "        \n",
    "        alphas += self.transitions[self.STOP_TAG, :self.n_tags]\n",
    "        \n",
    "        tag = int(alphas.max(0).indices)\n",
    "        result = [tag]\n",
    "\n",
    "        for next_tag in reversed(pred_tags):\n",
    "            tag = int(next_tag[tag])\n",
    "            result.append(tag)\n",
    "\n",
    "        result.reverse()\n",
    "        return result\n",
    "        \n",
    "\n",
    "    def score_seq(self, sentence, tags, seq_lengths):\n",
    "        \"\"\"\n",
    "        Funkcja dla testów implementacji.\n",
    "        Wyznacz ocenę sekwencji (zlogarytmowany licznik). \n",
    "        \"\"\"\n",
    "        features = self._get_features(sentence, seq_lengths)\n",
    "        numerator = self._get_numerator(features, tags)\n",
    "        return numerator \n",
    "    \n",
    "    def partition_function(self, sentence, tags, seq_lengths):\n",
    "        \"\"\"\n",
    "        Funkcja dla testów implementacji.\n",
    "        Wyznacz sumę statystyczną (zlogarytmowany mianownik). \n",
    "        \"\"\"\n",
    "        features = self._get_features(sentence, seq_lengths)\n",
    "        gold_score = self._forward_alg(features, seq_lengths)\n",
    "        return  gold_score \n",
    "    \n"
   ]
  },
  {
   "cell_type": "markdown",
   "metadata": {},
   "source": [
    "Poprawność algorytmu \"w przód i w tył\" mozna prosto sprawdzić, porównując wynik z wynikiem algorytmu zachłannego (tj. iterującym po wszystkich sekwencjach), dla krótkiej sekwencji z małą liczbą możliwych tagów."
   ]
  },
  {
   "cell_type": "code",
   "execution_count": 100,
   "metadata": {},
   "outputs": [
    {
     "name": "stdout",
     "output_type": "stream",
     "text": [
      "Programowanie dynamiczne tensor(8.7825, grad_fn=<AddBackward0>)\n",
      "Algorytm zachłanny tensor(8.7825)\n"
     ]
    }
   ],
   "source": [
    "import itertools\n",
    "\n",
    "data = torch.tensor([1, 2, 5, 10, 11, 3]).view(6,1)\n",
    "tags = torch.tensor([1, 2, 0, 1, 1, 1]).view(6,1)\n",
    "length = torch.tensor([6])\n",
    "\n",
    "model = TaggerCRFNet(vocab_size=12, hidden_size=3, n_tags=3)\n",
    "sum_forward_alg = model.partition_function(data,tags, length)\n",
    "print('Programowanie dynamiczne',sum_forward_alg)\n",
    "sum_score= []\n",
    "for i in itertools.product(range(3),repeat=6):\n",
    "    new_tags = torch.tensor(i).view(6,1)\n",
    "    sum_score.append(model.score_seq(data, new_tags, length))\n",
    "print(\"Algorytm zachłanny\",log_sum_exp(torch.tensor(sum_score)))"
   ]
  },
  {
   "cell_type": "markdown",
   "metadata": {},
   "source": [
    "Ostatecznie zaimplementuj trening modelu."
   ]
  },
  {
   "cell_type": "code",
   "execution_count": 114,
   "metadata": {},
   "outputs": [
    {
     "name": "stdout",
     "output_type": "stream",
     "text": [
      "Loss function:  tensor([114.8116])\n",
      "Loss function:  tensor([84.8760])\n",
      "Loss function:  tensor([91.0444])\n",
      "Loss function:  tensor([79.3839])\n",
      "Loss function:  tensor([60.6852])\n",
      "Loss function:  tensor([96.4784])\n",
      "Loss function:  tensor([75.5877])\n",
      "Loss function:  tensor([76.8009])\n",
      "Loss function:  tensor([77.3414])\n",
      "Loss function:  tensor([62.9236])\n",
      "Loss function:  tensor([59.7441])\n",
      "Loss function:  tensor([50.8479])\n",
      "Loss function:  tensor([57.7033])\n",
      "Loss function:  tensor([58.6288])\n",
      "Loss function:  tensor([49.8769])\n",
      "Loss function:  tensor([61.5979])\n",
      "Loss function:  tensor([26.1501])\n",
      "Loss function:  tensor([54.5282])\n",
      "Loss function:  tensor([42.2402])\n",
      "Loss function:  tensor([41.4243])\n",
      "Loss function:  tensor([63.1894])\n",
      "Loss function:  tensor([61.5643])\n",
      "Loss function:  tensor([59.7843])\n",
      "Loss function:  tensor([41.3084])\n",
      "Loss function:  tensor([34.0270])\n",
      "Loss function:  tensor([34.7283])\n",
      "Loss function:  tensor([40.2161])\n",
      "Loss function:  tensor([50.3928])\n",
      "Loss function:  tensor([46.3197])\n",
      "Loss function:  tensor([40.5195])\n",
      "Loss function:  tensor([43.2135])\n",
      "Loss function:  tensor([43.3292])\n",
      "Loss function:  tensor([39.2884])\n",
      "Loss function:  tensor([43.5558])\n",
      "Loss function:  tensor([39.3797])\n",
      "Loss function:  tensor([29.8269])\n",
      "Loss function:  tensor([37.1490])\n",
      "Loss function:  tensor([27.2678])\n",
      "Loss function:  tensor([32.0011])\n",
      "Loss function:  tensor([25.2027])\n",
      "Loss function:  tensor([27.4401])\n",
      "Loss function:  tensor([32.2660])\n",
      "Loss function:  tensor([31.8524])\n",
      "Loss function:  tensor([31.0995])\n",
      "Loss function:  tensor([38.4365])\n",
      "Loss function:  tensor([30.5418])\n",
      "Loss function:  tensor([20.2184])\n",
      "Loss function:  tensor([31.6506])\n",
      "Loss function:  tensor([47.1844])\n",
      "Loss function:  tensor([31.8237])\n",
      "Loss function:  tensor([48.5034])\n",
      "Loss function:  tensor([33.1500])\n",
      "Loss function:  tensor([42.0752])\n",
      "Loss function:  tensor([37.0169])\n",
      "Loss function:  tensor([31.2682])\n",
      "Loss function:  tensor([33.9997])\n",
      "Loss function:  tensor([29.1372])\n",
      "Loss function:  tensor([33.0649])\n",
      "Loss function:  tensor([26.2925])\n",
      "Loss function:  tensor([19.2572])\n",
      "Loss function:  tensor([15.2381])\n",
      "Loss function:  tensor([37.7595])\n",
      "Loss function:  tensor([22.6537])\n",
      "Loss function:  tensor([26.6122])\n",
      "Loss function:  tensor([28.9403])\n",
      "Loss function:  tensor([31.0874])\n",
      "Loss function:  tensor([20.4405])\n",
      "Loss function:  tensor([26.6747])\n",
      "Loss function:  tensor([19.7356])\n",
      "Loss function:  tensor([36.9975])\n",
      "Loss function:  tensor([29.1749])\n",
      "Loss function:  tensor([27.9756])\n",
      "Loss function:  tensor([26.8012])\n",
      "Loss function:  tensor([24.7065])\n",
      "Loss function:  tensor([34.2028])\n",
      "Loss function:  tensor([29.1063])\n",
      "Loss function:  tensor([28.9449])\n",
      "Loss function:  tensor([29.6454])\n",
      "Loss function:  tensor([37.5934])\n",
      "Loss function:  tensor([22.8609])\n",
      "Loss function:  tensor([18.9088])\n",
      "Loss function:  tensor([22.9994])\n",
      "Loss function:  tensor([23.7421])\n",
      "Loss function:  tensor([27.7362])\n",
      "Loss function:  tensor([25.0610])\n",
      "Loss function:  tensor([24.8760])\n",
      "Loss function:  tensor([25.7055])\n",
      "Loss function:  tensor([17.1621])\n",
      "Loss function:  tensor([26.2509])\n",
      "Loss function:  tensor([22.5065])\n",
      "Loss function:  tensor([29.8290])\n",
      "Loss function:  tensor([31.4847])\n",
      "Loss function:  tensor([39.7457])\n",
      "Loss function:  tensor([23.5688])\n",
      "Loss function:  tensor([25.8216])\n",
      "Loss function:  tensor([17.2890])\n",
      "Loss function:  tensor([21.4187])\n",
      "Loss function:  tensor([23.2981])\n",
      "Loss function:  tensor([18.3064])\n",
      "Loss function:  tensor([24.2089])\n",
      "Loss function:  tensor([23.5268])\n",
      "Loss function:  tensor([24.1459])\n",
      "Loss function:  tensor([30.4089])\n",
      "Loss function:  tensor([27.6013])\n",
      "Loss function:  tensor([26.6017])\n",
      "Loss function:  tensor([23.0492])\n",
      "Loss function:  tensor([18.3981])\n",
      "Loss function:  tensor([25.3600])\n",
      "Loss function:  tensor([25.4348])\n",
      "Loss function:  tensor([25.6138])\n",
      "Loss function:  tensor([19.1620])\n",
      "Loss function:  tensor([23.5478])\n",
      "Loss function:  tensor([21.9722])\n",
      "Loss function:  tensor([19.6224])\n",
      "Loss function:  tensor([32.8905])\n",
      "Loss function:  tensor([20.4542])\n",
      "Loss function:  tensor([34.7814])\n",
      "Loss function:  tensor([19.9587])\n",
      "Loss function:  tensor([34.0817])\n",
      "Loss function:  tensor([27.8289])\n",
      "Loss function:  tensor([40.2516])\n",
      "Loss function:  tensor([22.8095])\n",
      "Loss function:  tensor([21.1663])\n",
      "Loss function:  tensor([31.6385])\n",
      "Loss function:  tensor([15.5913])\n",
      "Loss function:  tensor([16.3030])\n",
      "Loss function:  tensor([25.7152])\n",
      "Loss function:  tensor([13.6670])\n",
      "Loss function:  tensor([13.0942])\n",
      "Loss function:  tensor([14.0296])\n",
      "Loss function:  tensor([27.2824])\n",
      "Loss function:  tensor([23.8277])\n",
      "Loss function:  tensor([22.8381])\n",
      "Loss function:  tensor([14.9546])\n",
      "Loss function:  tensor([16.9149])\n",
      "Loss function:  tensor([19.5800])\n",
      "Loss function:  tensor([22.0700])\n",
      "Loss function:  tensor([19.5119])\n",
      "Loss function:  tensor([24.7309])\n",
      "Loss function:  tensor([22.1200])\n",
      "Loss function:  tensor([15.1496])\n",
      "Loss function:  tensor([18.4011])\n",
      "Loss function:  tensor([18.0845])\n",
      "Loss function:  tensor([24.5962])\n",
      "Loss function:  tensor([32.8191])\n",
      "Loss function:  tensor([32.2722])\n",
      "Loss function:  tensor([20.3418])\n",
      "Loss function:  tensor([26.6067])\n",
      "Loss function:  tensor([19.5469])\n",
      "Loss function:  tensor([13.1576])\n",
      "Loss function:  tensor([20.2206])\n",
      "Loss function:  tensor([15.6440])\n",
      "Loss function:  tensor([25.9330])\n",
      "Loss function:  tensor([16.8536])\n",
      "Loss function:  tensor([16.6089])\n",
      "Loss function:  tensor([17.4424])\n",
      "Loss function:  tensor([20.2829])\n",
      "Loss function:  tensor([14.9210])\n",
      "Loss function:  tensor([15.2893])\n",
      "Loss function:  tensor([35.8944])\n",
      "Loss function:  tensor([27.7635])\n",
      "Loss function:  tensor([32.9255])\n",
      "Loss function:  tensor([22.5390])\n",
      "Loss function:  tensor([26.2117])\n",
      "Loss function:  tensor([22.9230])\n",
      "Loss function:  tensor([29.1701])\n",
      "Loss function:  tensor([24.9630])\n",
      "Loss function:  tensor([13.9933])\n",
      "Loss function:  tensor([19.7525])\n",
      "Loss function:  tensor([10.8312])\n",
      "Loss function:  tensor([15.4027])\n",
      "Loss function:  tensor([17.3446])\n",
      "Loss function:  tensor([11.7545])\n",
      "Loss function:  tensor([14.8220])\n",
      "Loss function:  tensor([17.9210])\n",
      "Loss function:  tensor([9.9525])\n",
      "Loss function:  tensor([11.3988])\n"
     ]
    },
    {
     "ename": "KeyboardInterrupt",
     "evalue": "",
     "output_type": "error",
     "traceback": [
      "\u001b[1;31m---------------------------------------------------------------------------\u001b[0m",
      "\u001b[1;31mKeyboardInterrupt\u001b[0m                         Traceback (most recent call last)",
      "\u001b[1;32m~\\AppData\\Local\\Temp\\ipykernel_10608\\3903044831.py\u001b[0m in \u001b[0;36m<module>\u001b[1;34m\u001b[0m\n\u001b[0;32m      8\u001b[0m     \u001b[0mloss_sum\u001b[0m \u001b[1;33m=\u001b[0m \u001b[0mtorch\u001b[0m\u001b[1;33m.\u001b[0m\u001b[0mtensor\u001b[0m\u001b[1;33m(\u001b[0m\u001b[1;33m[\u001b[0m\u001b[1;36m0.\u001b[0m\u001b[1;33m]\u001b[0m\u001b[1;33m)\u001b[0m\u001b[1;33m\u001b[0m\u001b[1;33m\u001b[0m\u001b[0m\n\u001b[0;32m      9\u001b[0m     \u001b[1;32mfor\u001b[0m \u001b[0mi\u001b[0m\u001b[1;33m,\u001b[0m \u001b[1;33m(\u001b[0m\u001b[0msentences\u001b[0m\u001b[1;33m,\u001b[0m \u001b[0mtags\u001b[0m\u001b[1;33m,\u001b[0m \u001b[0mlengths\u001b[0m\u001b[1;33m)\u001b[0m \u001b[1;32min\u001b[0m \u001b[0menumerate\u001b[0m\u001b[1;33m(\u001b[0m\u001b[0mdataloader\u001b[0m\u001b[1;33m)\u001b[0m\u001b[1;33m:\u001b[0m\u001b[1;33m\u001b[0m\u001b[1;33m\u001b[0m\u001b[0m\n\u001b[1;32m---> 10\u001b[1;33m         \u001b[0mloss\u001b[0m \u001b[1;33m=\u001b[0m \u001b[1;33m-\u001b[0m\u001b[0mmodel\u001b[0m\u001b[1;33m.\u001b[0m\u001b[0mseq_log_probability\u001b[0m\u001b[1;33m(\u001b[0m\u001b[0msentences\u001b[0m\u001b[1;33m.\u001b[0m\u001b[0mT\u001b[0m\u001b[1;33m,\u001b[0m \u001b[0mtags\u001b[0m\u001b[1;33m.\u001b[0m\u001b[0mT\u001b[0m\u001b[1;33m,\u001b[0m \u001b[0mlengths\u001b[0m\u001b[1;33m)\u001b[0m\u001b[1;33m\u001b[0m\u001b[1;33m\u001b[0m\u001b[0m\n\u001b[0m\u001b[0;32m     11\u001b[0m         \u001b[0mloss\u001b[0m\u001b[1;33m.\u001b[0m\u001b[0mbackward\u001b[0m\u001b[1;33m(\u001b[0m\u001b[1;33m)\u001b[0m\u001b[1;33m\u001b[0m\u001b[1;33m\u001b[0m\u001b[0m\n\u001b[0;32m     12\u001b[0m         \u001b[0mnn\u001b[0m\u001b[1;33m.\u001b[0m\u001b[0mutils\u001b[0m\u001b[1;33m.\u001b[0m\u001b[0mclip_grad_norm_\u001b[0m\u001b[1;33m(\u001b[0m\u001b[0mmodel\u001b[0m\u001b[1;33m.\u001b[0m\u001b[0mparameters\u001b[0m\u001b[1;33m(\u001b[0m\u001b[1;33m)\u001b[0m\u001b[1;33m,\u001b[0m \u001b[0mCLIP_TRESHOLD\u001b[0m\u001b[1;33m)\u001b[0m\u001b[1;33m\u001b[0m\u001b[1;33m\u001b[0m\u001b[0m\n",
      "\u001b[1;32m~\\AppData\\Local\\Temp\\ipykernel_10608\\357743725.py\u001b[0m in \u001b[0;36mseq_log_probability\u001b[1;34m(self, sentence, tags, seq_lengths)\u001b[0m\n\u001b[0;32m     64\u001b[0m         \u001b[0mfeatures\u001b[0m \u001b[1;33m=\u001b[0m \u001b[0mself\u001b[0m\u001b[1;33m.\u001b[0m\u001b[0m_get_features\u001b[0m\u001b[1;33m(\u001b[0m\u001b[0msentence\u001b[0m\u001b[1;33m,\u001b[0m \u001b[0mseq_lengths\u001b[0m\u001b[1;33m)\u001b[0m\u001b[1;33m\u001b[0m\u001b[1;33m\u001b[0m\u001b[0m\n\u001b[0;32m     65\u001b[0m         \u001b[0mnumerator\u001b[0m \u001b[1;33m=\u001b[0m \u001b[0mself\u001b[0m\u001b[1;33m.\u001b[0m\u001b[0m_get_numerator\u001b[0m\u001b[1;33m(\u001b[0m\u001b[0mfeatures\u001b[0m\u001b[1;33m,\u001b[0m \u001b[0mtags\u001b[0m\u001b[1;33m)\u001b[0m\u001b[1;33m\u001b[0m\u001b[1;33m\u001b[0m\u001b[0m\n\u001b[1;32m---> 66\u001b[1;33m         \u001b[0mpartition_function\u001b[0m \u001b[1;33m=\u001b[0m \u001b[0mself\u001b[0m\u001b[1;33m.\u001b[0m\u001b[0m_forward_alg\u001b[0m\u001b[1;33m(\u001b[0m\u001b[0mfeatures\u001b[0m\u001b[1;33m,\u001b[0m\u001b[0mseq_lengths\u001b[0m\u001b[1;33m)\u001b[0m\u001b[1;33m\u001b[0m\u001b[1;33m\u001b[0m\u001b[0m\n\u001b[0m\u001b[0;32m     67\u001b[0m         \u001b[1;32mreturn\u001b[0m \u001b[0mnumerator\u001b[0m \u001b[1;33m-\u001b[0m \u001b[0mpartition_function\u001b[0m\u001b[1;33m\u001b[0m\u001b[1;33m\u001b[0m\u001b[0m\n\u001b[0;32m     68\u001b[0m \u001b[1;33m\u001b[0m\u001b[0m\n",
      "\u001b[1;32m~\\AppData\\Local\\Temp\\ipykernel_10608\\357743725.py\u001b[0m in \u001b[0;36m_forward_alg\u001b[1;34m(self, features, seq_lengths)\u001b[0m\n\u001b[0;32m     53\u001b[0m         \u001b[1;32mfor\u001b[0m \u001b[0mfeature\u001b[0m \u001b[1;32min\u001b[0m \u001b[0mfeatures\u001b[0m\u001b[1;33m[\u001b[0m\u001b[1;36m1\u001b[0m\u001b[1;33m:\u001b[0m\u001b[1;33m]\u001b[0m\u001b[1;33m:\u001b[0m\u001b[1;33m\u001b[0m\u001b[1;33m\u001b[0m\u001b[0m\n\u001b[0;32m     54\u001b[0m             \u001b[0mz\u001b[0m \u001b[1;33m=\u001b[0m \u001b[0malphas\u001b[0m \u001b[1;33m+\u001b[0m \u001b[0mfeature\u001b[0m\u001b[1;33m.\u001b[0m\u001b[0munsqueeze\u001b[0m\u001b[1;33m(\u001b[0m\u001b[1;36m1\u001b[0m\u001b[1;33m)\u001b[0m \u001b[1;33m+\u001b[0m \u001b[0mself\u001b[0m\u001b[1;33m.\u001b[0m\u001b[0mtransitions\u001b[0m\u001b[1;33m[\u001b[0m\u001b[1;33m:\u001b[0m\u001b[0mself\u001b[0m\u001b[1;33m.\u001b[0m\u001b[0mn_tags\u001b[0m\u001b[1;33m,\u001b[0m \u001b[1;33m:\u001b[0m\u001b[0mself\u001b[0m\u001b[1;33m.\u001b[0m\u001b[0mn_tags\u001b[0m\u001b[1;33m]\u001b[0m\u001b[1;33m\u001b[0m\u001b[1;33m\u001b[0m\u001b[0m\n\u001b[1;32m---> 55\u001b[1;33m             \u001b[0mz_i\u001b[0m \u001b[1;33m=\u001b[0m \u001b[0mz\u001b[0m\u001b[1;33m.\u001b[0m\u001b[0mmax\u001b[0m\u001b[1;33m(\u001b[0m\u001b[1;36m1\u001b[0m\u001b[1;33m)\u001b[0m\u001b[1;33m.\u001b[0m\u001b[0mvalues\u001b[0m\u001b[1;33m\u001b[0m\u001b[1;33m\u001b[0m\u001b[0m\n\u001b[0m\u001b[0;32m     56\u001b[0m             \u001b[0malphas\u001b[0m \u001b[1;33m=\u001b[0m \u001b[0mz_i\u001b[0m \u001b[1;33m+\u001b[0m \u001b[1;33m(\u001b[0m\u001b[0mz\u001b[0m \u001b[1;33m-\u001b[0m \u001b[0mz_i\u001b[0m\u001b[1;33m.\u001b[0m\u001b[0munsqueeze\u001b[0m\u001b[1;33m(\u001b[0m\u001b[1;36m1\u001b[0m\u001b[1;33m)\u001b[0m\u001b[1;33m)\u001b[0m\u001b[1;33m.\u001b[0m\u001b[0mlogsumexp\u001b[0m\u001b[1;33m(\u001b[0m\u001b[1;36m1\u001b[0m\u001b[1;33m)\u001b[0m\u001b[1;33m\u001b[0m\u001b[1;33m\u001b[0m\u001b[0m\n\u001b[0;32m     57\u001b[0m \u001b[1;33m\u001b[0m\u001b[0m\n",
      "\u001b[1;31mKeyboardInterrupt\u001b[0m: "
     ]
    }
   ],
   "source": [
    "CLIP_TRESHOLD = 5. \n",
    "\n",
    "model = TaggerCRFNet(dataset.get_vocab_size(), 10, dataset.get_tagset_size())\n",
    "dataloader = DataLoader(dataset, batch_size=1, collate_fn=collate_fn )\n",
    "optimizer = torch.optim.Adam(model.parameters())\n",
    "\n",
    "for epoch in range(1):  # dla testów wystarczy jedna epoka, możesz przerwać obliczenia w jej trakcie\n",
    "    loss_sum = torch.tensor([0.])\n",
    "    for i, (sentences, tags, lengths) in enumerate(dataloader):\n",
    "        loss = -model.seq_log_probability(sentences.T, tags.T, lengths)\n",
    "        loss.backward()\n",
    "        nn.utils.clip_grad_norm_(model.parameters(), CLIP_TRESHOLD)\n",
    "        optimizer.step()\n",
    "        optimizer.zero_grad()\n",
    "        with torch.no_grad():\n",
    "            loss_sum += loss\n",
    "            if i% 10 == 9:\n",
    "                print(\"Loss function: \",loss_sum/10)\n",
    "                # Wyniki nadal będą niestabilne, ale ogólna tendencja liczb powinna być malejąca\n",
    "                loss_sum = 0\n",
    "\n"
   ]
  },
  {
   "cell_type": "code",
   "execution_count": 115,
   "metadata": {},
   "outputs": [
    {
     "name": "stdout",
     "output_type": "stream",
     "text": [
      "Batch 0\n",
      "Labels: [2, 5, 2, 1, 4, 6, 6, 6, 6, 2, 1, 1, 8, 2, 1, 5, 2, 3, 9, 5, 2, 2, 3, 4, 6, 6, 2, 1, 1, 5, 2, 1, 1, 2, 1, 1, 3]\n",
      "Predicted: [2, 5, 2, 1, 4, 2, 1, 5, 2, 1, 4, 2, 1, 1, 1, 5, 2, 3, 2, 5, 2, 1, 3, 2, 5, 2, 2, 1, 1, 5, 2, 1, 1, 2, 1, 1, 3]\n",
      "accu = 62.1622%\n",
      "\n",
      "Batch 1\n",
      "Labels: [3, 5, 2, 1, 2, 1, 2, 1, 1, 5, 2, 1, 1, 1, 4, 6, 6, 6, 2, 1, 5, 2, 5, 2, 1, 1, 3]\n",
      "Predicted: [2, 5, 2, 1, 1, 1, 2, 1, 5, 5, 2, 1, 1, 1, 1, 1, 5, 4, 2, 1, 5, 2, 1, 2, 1, 1, 3]\n",
      "accu = 70.3704%\n",
      "\n",
      "Batch 2\n",
      "Labels: [3, 2, 4, 2, 1, 5, 2, 4, 6, 6, 5, 2, 1, 2, 1, 4, 6, 2, 1, 1, 1, 5, 2, 1, 1, 1, 2, 1, 3]\n",
      "Predicted: [2, 4, 2, 1, 1, 5, 2, 1, 1, 1, 5, 2, 1, 2, 1, 5, 4, 2, 1, 1, 1, 5, 2, 1, 1, 1, 2, 1, 3]\n",
      "accu = 68.9655%\n",
      "\n",
      "Batch 3\n",
      "Labels: [2, 4, 6, 2, 1, 5, 2, 1, 4, 6, 6, 6, 2, 1, 5, 2, 1, 5, 2, 1, 1, 1, 1, 4, 6, 2, 1, 3, 2, 3, 2, 1, 1, 1, 4, 3]\n",
      "Predicted: [2, 1, 4, 2, 1, 5, 2, 1, 1, 1, 5, 2, 1, 1, 5, 2, 1, 5, 2, 1, 1, 1, 1, 5, 4, 2, 1, 3, 2, 3, 2, 1, 1, 1, 1, 3]\n",
      "accu = 72.2222%\n",
      "\n",
      "Batch 4\n",
      "Labels: [3, 2, 1, 5, 2, 5, 2, 1, 1, 1, 4, 7, 12, 5, 2, 1, 1, 3, 3, 4, 2, 1, 3, 2, 1, 1, 5, 2, 1, 1, 3]\n",
      "Predicted: [3, 2, 1, 5, 2, 5, 2, 1, 1, 1, 4, 2, 1, 5, 2, 1, 1, 3, 3, 4, 2, 1, 3, 2, 1, 1, 5, 2, 1, 1, 3]\n",
      "accu = 93.5484%\n",
      "\n",
      "Batch 5\n",
      "Labels: [3, 8, 2, 4, 2, 1, 1, 1, 3, 2, 4, 6, 2, 1, 1, 5, 2, 3, 3, 4, 2, 1, 3, 2, 1, 5, 2, 1, 3, 2, 1, 5, 2, 1, 1, 3]\n",
      "Predicted: [3, 2, 1, 4, 2, 4, 2, 1, 3, 2, 1, 4, 2, 1, 1, 5, 2, 3, 3, 4, 2, 1, 3, 2, 1, 5, 2, 1, 3, 2, 1, 5, 2, 1, 1, 3]\n",
      "accu = 83.3333%\n",
      "\n",
      "Batch 6\n",
      "Labels: [2, 5, 2, 1, 1, 4, 7, 3, 3, 2, 1, 4, 2, 1, 4, 6, 2, 1, 1, 1, 5, 3, 3, 3, 3, 3, 9, 3, 3, 3, 2, 5, 2, 1, 1, 4, 5, 2, 3]\n",
      "Predicted: [2, 5, 2, 1, 1, 1, 1, 3, 3, 2, 1, 4, 2, 1, 5, 5, 2, 1, 1, 1, 5, 2, 1, 1, 1, 1, 1, 1, 1, 4, 2, 5, 2, 1, 1, 1, 5, 2, 3]\n",
      "accu = 64.1026%\n",
      "\n",
      "Batch 7\n",
      "Labels: [2, 1, 1, 3, 2, 1, 1, 1, 1, 4, 5, 2, 4, 6, 7, 5, 2, 1, 1, 1, 1, 5, 2, 1, 3]\n",
      "Predicted: [2, 1, 1, 3, 2, 1, 1, 1, 1, 1, 5, 2, 1, 1, 1, 5, 2, 1, 1, 1, 1, 5, 2, 1, 3]\n",
      "accu = 84.0000%\n",
      "\n",
      "Batch 8\n",
      "Labels: [2, 1, 3, 2, 1, 5, 2, 1, 1, 1, 3, 4, 2, 4, 2, 1, 8, 2, 2, 1, 1, 4, 6, 2, 4, 6, 2, 3]\n",
      "Predicted: [2, 1, 3, 2, 1, 5, 2, 1, 1, 1, 3, 4, 2, 4, 6, 5, 2, 1, 2, 1, 1, 4, 2, 1, 5, 2, 1, 3]\n",
      "accu = 67.8571%\n",
      "\n",
      "Batch 9\n",
      "Labels: [5, 2, 1, 1, 3, 2, 4, 9, 10, 5, 2, 1, 5, 2, 3, 5, 2, 1, 1, 1, 1, 1, 1, 3]\n",
      "Predicted: [5, 2, 1, 1, 3, 2, 1, 1, 1, 1, 2, 1, 1, 1, 3, 4, 2, 1, 1, 3, 2, 1, 1, 3]\n",
      "accu = 62.5000%\n",
      "\n",
      "Batch 10\n",
      "Labels: [2, 4, 2, 1, 1, 1, 4, 6, 5, 2, 1, 1, 1, 5, 2, 3]\n",
      "Predicted: [2, 4, 2, 1, 1, 1, 4, 6, 5, 2, 1, 1, 1, 5, 2, 3]\n",
      "accu = 100.0000%\n",
      "\n"
     ]
    }
   ],
   "source": [
    "import numpy as np\n",
    "\n",
    "for i, (sentences, tags, lengths) in enumerate(dataloader):\n",
    "    preds = model(sentences.T, lengths)\n",
    "    Y, y = np.array(preds), tags[0].numpy()\n",
    "    print('Batch', i)\n",
    "    print('Labels:', tags[0].tolist())\n",
    "    print('Predicted:', preds)\n",
    "    print(f'accu = {(Y == y).mean()*100:.4f}%\\n')\n",
    "    if i == 10: break"
   ]
  }
 ],
 "metadata": {
  "kernelspec": {
   "display_name": "Python 3",
   "language": "python",
   "name": "python3"
  },
  "language_info": {
   "codemirror_mode": {
    "name": "ipython",
    "version": 3
   },
   "file_extension": ".py",
   "mimetype": "text/x-python",
   "name": "python",
   "nbconvert_exporter": "python",
   "pygments_lexer": "ipython3",
   "version": "3.7.5"
  }
 },
 "nbformat": 4,
 "nbformat_minor": 4
}
