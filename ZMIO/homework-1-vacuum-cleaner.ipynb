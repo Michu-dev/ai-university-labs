{
 "cells": [
  {
   "cell_type": "markdown",
   "metadata": {},
   "source": [
    "## Zaawansowane Metody Inteligencji Obliczeniowej\n",
    "# Zadanie domowe 1\n",
    "### Prowadzący: Michał Kempka, Marek Wydmuch\n",
    "### Autor: Michał Ciesielski 145325"
   ]
  },
  {
   "cell_type": "markdown",
   "metadata": {},
   "source": [
    "## Wprowadzenie\n",
    "\n",
    "Całe zadanie jest oparte o różne wersje środowiska `VacuumEnvironemnt`, które rozważaliśmy na zajęciach.\n",
    "Środowisko zaimplementowane jest w bibliotece aima3 (https://github.com/ArtificialIntelligenceToolkit/aima3),\n",
    "która zawiera kod do książki \"Artificial Intelligence: A Modern Approach\".\n",
    "\n",
    "#### Uwaga: Możesz dowolnie modyfikować elementy tego notebooka (wstawiać komórki i zmieniać kod) o ile nie napisano gdzieś inaczej."
   ]
  },
  {
   "cell_type": "code",
   "execution_count": 2,
   "metadata": {
    "scrolled": true
   },
   "outputs": [
    {
     "name": "stdout",
     "output_type": "stream",
     "text": [
      "Collecting aima3\n",
      "  Downloading aima3-1.0.11-py2.py3-none-any.whl (150 kB)\n",
      "     -------------------------------------- 150.2/150.2 kB 2.3 MB/s eta 0:00:00\n",
      "Requirement already satisfied: tqdm in d:\\python\\lib\\site-packages (from aima3) (4.64.1)\n",
      "Collecting networkx==1.11\n",
      "  Downloading networkx-1.11-py2.py3-none-any.whl (1.3 MB)\n",
      "     ---------------------------------------- 1.3/1.3 MB 7.6 MB/s eta 0:00:00\n"
     ]
    },
    {
     "name": "stderr",
     "output_type": "stream",
     "text": [
      "ERROR: Could not install packages due to an OSError: [WinError 5] Odmowa dostępu: 'd:\\\\python\\\\scripts\\\\jupyter.exe'\n",
      "Consider using the `--user` option or check the permissions.\n",
      "\n"
     ]
    },
    {
     "name": "stdout",
     "output_type": "stream",
     "text": [
      "Collecting jupyter\n",
      "  Downloading jupyter-1.0.0-py2.py3-none-any.whl (2.7 kB)\n",
      "Requirement already satisfied: decorator>=3.4.0 in d:\\python\\lib\\site-packages (from networkx==1.11->aima3) (5.1.1)\n",
      "Collecting qtconsole\n",
      "  Downloading qtconsole-5.4.0-py3-none-any.whl (121 kB)\n",
      "     ---------------------------------------- 121.0/121.0 kB ? eta 0:00:00\n",
      "Requirement already satisfied: ipywidgets in d:\\python\\lib\\site-packages (from jupyter->aima3) (7.6.5)\n",
      "Requirement already satisfied: ipykernel in d:\\python\\lib\\site-packages (from jupyter->aima3) (6.9.1)\n",
      "Requirement already satisfied: notebook in d:\\python\\lib\\site-packages (from jupyter->aima3) (6.4.8)\n",
      "Requirement already satisfied: nbconvert in d:\\python\\lib\\site-packages (from jupyter->aima3) (6.4.4)\n",
      "Collecting jupyter-console\n",
      "  Downloading jupyter_console-6.6.3-py3-none-any.whl (24 kB)\n",
      "Requirement already satisfied: colorama in d:\\python\\lib\\site-packages (from tqdm->aima3) (0.4.4)\n",
      "Requirement already satisfied: matplotlib-inline<0.2.0,>=0.1.0 in d:\\python\\lib\\site-packages (from ipykernel->jupyter->aima3) (0.1.3)\n",
      "Requirement already satisfied: tornado<7.0,>=4.2 in d:\\python\\lib\\site-packages (from ipykernel->jupyter->aima3) (6.1)\n",
      "Requirement already satisfied: debugpy<2.0,>=1.0.0 in d:\\python\\lib\\site-packages (from ipykernel->jupyter->aima3) (1.5.1)\n",
      "Requirement already satisfied: traitlets<6.0,>=5.1.0 in d:\\python\\lib\\site-packages (from ipykernel->jupyter->aima3) (5.1.1)\n",
      "Requirement already satisfied: jupyter-client<8.0 in d:\\python\\lib\\site-packages (from ipykernel->jupyter->aima3) (7.1.2)\n",
      "Requirement already satisfied: nest-asyncio in d:\\python\\lib\\site-packages (from ipykernel->jupyter->aima3) (1.5.4)\n",
      "Requirement already satisfied: ipython>=7.23.1 in d:\\python\\lib\\site-packages (from ipykernel->jupyter->aima3) (7.32.0)\n",
      "Requirement already satisfied: jupyterlab-widgets>=1.0.0 in d:\\python\\lib\\site-packages (from ipywidgets->jupyter->aima3) (1.0.2)\n",
      "Requirement already satisfied: nbformat>=4.2.0 in d:\\python\\lib\\site-packages (from ipywidgets->jupyter->aima3) (5.2.0)\n",
      "Requirement already satisfied: ipython-genutils~=0.2.0 in d:\\python\\lib\\site-packages (from ipywidgets->jupyter->aima3) (0.2.0)\n",
      "Requirement already satisfied: widgetsnbextension~=3.5.0 in d:\\python\\lib\\site-packages (from ipywidgets->jupyter->aima3) (3.5.2)\n",
      "Collecting jupyter-core!=5.0.*,>=4.12\n",
      "  Downloading jupyter_core-4.12.0-py3-none-any.whl (89 kB)\n",
      "     ---------------------------------------- 89.9/89.9 kB ? eta 0:00:00\n",
      "Collecting prompt-toolkit>=3.0.30\n",
      "  Downloading prompt_toolkit-3.0.38-py3-none-any.whl (385 kB)\n",
      "     ------------------------------------- 385.8/385.8 kB 12.1 MB/s eta 0:00:00\n",
      "Requirement already satisfied: pygments in d:\\python\\lib\\site-packages (from jupyter-console->jupyter->aima3) (2.11.2)\n",
      "Collecting traitlets<6.0,>=5.1.0\n",
      "  Downloading traitlets-5.9.0-py3-none-any.whl (117 kB)\n",
      "     ---------------------------------------- 117.4/117.4 kB ? eta 0:00:00\n",
      "Requirement already satisfied: pyzmq>=17 in d:\\python\\lib\\site-packages (from jupyter-console->jupyter->aima3) (22.3.0)\n",
      "Collecting ipykernel\n",
      "  Downloading ipykernel-6.16.2-py3-none-any.whl (138 kB)\n",
      "     -------------------------------------- 138.5/138.5 kB 8.0 MB/s eta 0:00:00\n",
      "Requirement already satisfied: packaging in d:\\python\\lib\\site-packages (from ipykernel->jupyter->aima3) (21.3)\n",
      "Collecting psutil\n",
      "  Downloading psutil-5.9.4-cp36-abi3-win_amd64.whl (252 kB)\n",
      "     -------------------------------------- 252.5/252.5 kB 7.8 MB/s eta 0:00:00\n",
      "Requirement already satisfied: testpath in d:\\python\\lib\\site-packages (from nbconvert->jupyter->aima3) (0.6.0)\n",
      "Requirement already satisfied: mistune<2,>=0.8.1 in d:\\python\\lib\\site-packages (from nbconvert->jupyter->aima3) (0.8.4)\n",
      "Requirement already satisfied: bleach in d:\\python\\lib\\site-packages (from nbconvert->jupyter->aima3) (4.1.0)\n",
      "Requirement already satisfied: pandocfilters>=1.4.1 in d:\\python\\lib\\site-packages (from nbconvert->jupyter->aima3) (1.5.0)\n",
      "Requirement already satisfied: jinja2>=2.4 in d:\\python\\lib\\site-packages (from nbconvert->jupyter->aima3) (3.0.3)\n",
      "Requirement already satisfied: entrypoints>=0.2.2 in d:\\python\\lib\\site-packages (from nbconvert->jupyter->aima3) (0.4)\n",
      "Requirement already satisfied: defusedxml in d:\\python\\lib\\site-packages (from nbconvert->jupyter->aima3) (0.7.1)\n",
      "Requirement already satisfied: beautifulsoup4 in d:\\python\\lib\\site-packages (from nbconvert->jupyter->aima3) (4.10.0)\n",
      "Requirement already satisfied: jupyterlab-pygments in d:\\python\\lib\\site-packages (from nbconvert->jupyter->aima3) (0.1.2)\n",
      "Requirement already satisfied: nbclient<0.6.0,>=0.5.0 in d:\\python\\lib\\site-packages (from nbconvert->jupyter->aima3) (0.5.13)\n",
      "Requirement already satisfied: argon2-cffi in d:\\python\\lib\\site-packages (from notebook->jupyter->aima3) (21.3.0)\n",
      "Requirement already satisfied: terminado>=0.8.3 in d:\\python\\lib\\site-packages (from notebook->jupyter->aima3) (0.13.3)\n",
      "Requirement already satisfied: Send2Trash>=1.8.0 in d:\\python\\lib\\site-packages (from notebook->jupyter->aima3) (1.8.0)\n",
      "Requirement already satisfied: prometheus-client in d:\\python\\lib\\site-packages (from notebook->jupyter->aima3) (0.13.1)\n",
      "Collecting qtpy>=2.0.1\n",
      "  Downloading QtPy-2.3.0-py3-none-any.whl (83 kB)\n",
      "     ---------------------------------------- 83.6/83.6 kB 4.6 MB/s eta 0:00:00\n",
      "Requirement already satisfied: jedi>=0.16 in d:\\python\\lib\\site-packages (from ipython>=7.23.1->ipykernel->jupyter->aima3) (0.18.1)\n",
      "Requirement already satisfied: pickleshare in d:\\python\\lib\\site-packages (from ipython>=7.23.1->ipykernel->jupyter->aima3) (0.7.5)\n",
      "Requirement already satisfied: backcall in d:\\python\\lib\\site-packages (from ipython>=7.23.1->ipykernel->jupyter->aima3) (0.2.0)\n",
      "Requirement already satisfied: setuptools>=18.5 in d:\\python\\lib\\site-packages (from ipython>=7.23.1->ipykernel->jupyter->aima3) (41.2.0)\n",
      "Requirement already satisfied: MarkupSafe>=2.0 in d:\\python\\lib\\site-packages (from jinja2>=2.4->nbconvert->jupyter->aima3) (2.1.1)\n",
      "Requirement already satisfied: python-dateutil>=2.1 in d:\\python\\lib\\site-packages (from jupyter-client<8.0->ipykernel->jupyter->aima3) (2.8.2)\n",
      "Requirement already satisfied: pywin32>=1.0 in d:\\python\\lib\\site-packages (from jupyter-core!=5.0.*,>=4.12->jupyter-console->jupyter->aima3) (303)\n",
      "Requirement already satisfied: jsonschema!=2.5.0,>=2.4 in d:\\python\\lib\\site-packages (from nbformat>=4.2.0->ipywidgets->jupyter->aima3) (4.4.0)\n",
      "Requirement already satisfied: wcwidth in d:\\python\\lib\\site-packages (from prompt-toolkit>=3.0.30->jupyter-console->jupyter->aima3) (0.2.5)\n",
      "Requirement already satisfied: pywinpty>=1.1.0 in d:\\python\\lib\\site-packages (from terminado>=0.8.3->notebook->jupyter->aima3) (2.0.5)\n",
      "Requirement already satisfied: argon2-cffi-bindings in d:\\python\\lib\\site-packages (from argon2-cffi->notebook->jupyter->aima3) (21.2.0)\n",
      "Requirement already satisfied: typing-extensions in d:\\python\\lib\\site-packages (from argon2-cffi->notebook->jupyter->aima3) (4.0.1)\n",
      "Requirement already satisfied: soupsieve>1.2 in d:\\python\\lib\\site-packages (from beautifulsoup4->nbconvert->jupyter->aima3) (2.3.1)\n",
      "Requirement already satisfied: six>=1.9.0 in d:\\python\\lib\\site-packages (from bleach->nbconvert->jupyter->aima3) (1.16.0)\n",
      "Requirement already satisfied: webencodings in d:\\python\\lib\\site-packages (from bleach->nbconvert->jupyter->aima3) (0.5.1)\n",
      "Requirement already satisfied: pyparsing!=3.0.5,>=2.0.2 in d:\\python\\lib\\site-packages (from packaging->ipykernel->jupyter->aima3) (3.0.7)\n",
      "Requirement already satisfied: parso<0.9.0,>=0.8.0 in d:\\python\\lib\\site-packages (from jedi>=0.16->ipython>=7.23.1->ipykernel->jupyter->aima3) (0.8.3)\n",
      "Requirement already satisfied: attrs>=17.4.0 in d:\\python\\lib\\site-packages (from jsonschema!=2.5.0,>=2.4->nbformat>=4.2.0->ipywidgets->jupyter->aima3) (21.4.0)\n",
      "Requirement already satisfied: importlib-resources>=1.4.0 in d:\\python\\lib\\site-packages (from jsonschema!=2.5.0,>=2.4->nbformat>=4.2.0->ipywidgets->jupyter->aima3) (5.4.0)\n",
      "Requirement already satisfied: importlib-metadata in d:\\python\\lib\\site-packages (from jsonschema!=2.5.0,>=2.4->nbformat>=4.2.0->ipywidgets->jupyter->aima3) (4.8.2)\n",
      "Requirement already satisfied: pyrsistent!=0.17.0,!=0.17.1,!=0.17.2,>=0.14.0 in d:\\python\\lib\\site-packages (from jsonschema!=2.5.0,>=2.4->nbformat>=4.2.0->ipywidgets->jupyter->aima3) (0.18.1)\n",
      "Requirement already satisfied: cffi>=1.0.1 in d:\\python\\lib\\site-packages (from argon2-cffi-bindings->argon2-cffi->notebook->jupyter->aima3) (1.14.3)\n",
      "Requirement already satisfied: pycparser in d:\\python\\lib\\site-packages (from cffi>=1.0.1->argon2-cffi-bindings->argon2-cffi->notebook->jupyter->aima3) (2.20)\n",
      "Requirement already satisfied: zipp>=3.1.0 in d:\\python\\lib\\site-packages (from importlib-resources>=1.4.0->jsonschema!=2.5.0,>=2.4->nbformat>=4.2.0->ipywidgets->jupyter->aima3) (3.6.0)\n",
      "Installing collected packages: traitlets, psutil, prompt-toolkit, networkx, qtpy, jupyter-core, ipykernel, qtconsole, jupyter-console, jupyter, aima3\n",
      "  Attempting uninstall: traitlets\n",
      "    Found existing installation: traitlets 5.1.1\n",
      "    Uninstalling traitlets-5.1.1:\n",
      "      Successfully uninstalled traitlets-5.1.1\n",
      "  Attempting uninstall: prompt-toolkit\n",
      "    Found existing installation: prompt-toolkit 3.0.28\n",
      "    Uninstalling prompt-toolkit-3.0.28:\n",
      "      Successfully uninstalled prompt-toolkit-3.0.28\n",
      "  Attempting uninstall: networkx\n",
      "    Found existing installation: networkx 2.6.3\n",
      "    Uninstalling networkx-2.6.3:\n",
      "      Successfully uninstalled networkx-2.6.3\n",
      "  Attempting uninstall: jupyter-core\n",
      "    Found existing installation: jupyter-core 4.9.2\n",
      "    Uninstalling jupyter-core-4.9.2:\n"
     ]
    }
   ],
   "source": [
    "# Zainstaluj bibliotekę OpenAI Gym\n",
    "!pip install aima3"
   ]
  },
  {
   "cell_type": "code",
   "execution_count": 1,
   "metadata": {},
   "outputs": [
    {
     "ename": "ModuleNotFoundError",
     "evalue": "No module named 'aima3'",
     "output_type": "error",
     "traceback": [
      "\u001b[1;31m---------------------------------------------------------------------------\u001b[0m",
      "\u001b[1;31mModuleNotFoundError\u001b[0m                       Traceback (most recent call last)",
      "\u001b[1;32m~\\AppData\\Local\\Temp\\ipykernel_18060\\576292606.py\u001b[0m in \u001b[0;36m<module>\u001b[1;34m\u001b[0m\n\u001b[0;32m      1\u001b[0m \u001b[1;31m# Zaimportuj wszystkie jego elementy\u001b[0m\u001b[1;33m\u001b[0m\u001b[1;33m\u001b[0m\u001b[1;33m\u001b[0m\u001b[0m\n\u001b[1;32m----> 2\u001b[1;33m \u001b[1;32mfrom\u001b[0m \u001b[0maima3\u001b[0m\u001b[1;33m.\u001b[0m\u001b[0magents\u001b[0m \u001b[1;32mimport\u001b[0m \u001b[1;33m*\u001b[0m\u001b[1;33m\u001b[0m\u001b[1;33m\u001b[0m\u001b[0m\n\u001b[0m",
      "\u001b[1;31mModuleNotFoundError\u001b[0m: No module named 'aima3'"
     ]
    }
   ],
   "source": [
    "# Zaimportuj wszystkie jego elementy\n",
    "from aima3.agents import *"
   ]
  },
  {
   "cell_type": "markdown",
   "metadata": {},
   "source": [
    "Wszystkie używane przez nas elementy biblioteki są zaimplementowane w pliku: https://github.com/ArtificialIntelligenceToolkit/aima3/blob/master/aima3/agents.py"
   ]
  },
  {
   "cell_type": "markdown",
   "metadata": {},
   "source": [
    "# Zad. 1 - Cechy środowiska odkurzacza (1 pkt.)\n",
    "\n",
    "Wypisz cechy poniżej używanego środowiska zgodnie z klasyfikacją z wykładu 1.\n",
    "Dla ciągłości/dyskretności określ cechy osobno w stosunku do czasu, akcji i przestrzeni stanów.\n",
    "W razie wątpliwości uzasadnij swój wybór.\n",
    "\n",
    "Odpowiedź: \n",
    "1. Obserwowalność środowiska - częściowo obserwowalne (nie wiemy co się dzieje w drugim pokoju)\n",
    "2. Liczność agentów w środowisku - jednoagentowe\n",
    "3. Determinizm środowiska - deterministyczne\n",
    "4. Statyczne środowisko\n",
    "5. Ciągłość środowiska:\n",
    "* czas - ciągłe (posunięcia odkurzacza mogą być nieskończone jeśli zostanie źle wyuczony lub nie będzie zawartego warunku stopu)\n",
    "* akcje - dyskretne (skończona liczba możliwości \"wykonania ruchu\" w danym stanie)\n",
    "* przestrzeń stanów - dyskretne (skończona liczba możliwych stanów dla danej charakterystyki pewnego środowiska)\n",
    "6. Model środowiska - znany\n",
    "\n",
    "Tip: Możesz sprawdź implementacje środowiska w pliku podanym powyżej, lub wywnioskować cechy na wykonując poniższe fragmenty kodu."
   ]
  },
  {
   "cell_type": "code",
   "execution_count": 2,
   "metadata": {},
   "outputs": [],
   "source": [
    "# Stwórz nowe środowisko świata odkurzacza\n",
    "env = TrivialVacuumEnvironment()"
   ]
  },
  {
   "cell_type": "code",
   "execution_count": 4,
   "metadata": {},
   "outputs": [
    {
     "data": {
      "text/plain": [
       "{(0, 0): 'Clean', (1, 0): 'Dirty'}"
      ]
     },
     "execution_count": 4,
     "metadata": {},
     "output_type": "execute_result"
    }
   ],
   "source": [
    "# Sprawdź aktualny status środowiska\n",
    "env.status"
   ]
  },
  {
   "cell_type": "code",
   "execution_count": 4,
   "metadata": {},
   "outputs": [],
   "source": [
    "import collections\n",
    "collections.Callable = collections.abc.Callable"
   ]
  },
  {
   "cell_type": "code",
   "execution_count": 9,
   "metadata": {},
   "outputs": [
    {
     "data": {
      "text/plain": [
       "True"
      ]
     },
     "execution_count": 9,
     "metadata": {},
     "output_type": "execute_result"
    }
   ],
   "source": [
    "# Utwórz agenta refleksyjnego\n",
    "agent = ReflexVacuumAgent()\n",
    "agent.is_alive()"
   ]
  },
  {
   "cell_type": "code",
   "execution_count": 10,
   "metadata": {},
   "outputs": [],
   "source": [
    "# Dodaj agenta do środowiska. Owijamy go w TraceAgent'a, żeby zobaczyć co robi.\n",
    "env.add_thing(TraceAgent(agent))"
   ]
  },
  {
   "cell_type": "code",
   "execution_count": 11,
   "metadata": {},
   "outputs": [
    {
     "name": "stdout",
     "output_type": "stream",
     "text": [
      "loc (0, 0): [<Agent>]\n",
      "loc (1, 0): []\n"
     ]
    },
    {
     "data": {
      "text/plain": [
       "(0, 0)"
      ]
     },
     "execution_count": 11,
     "metadata": {},
     "output_type": "execute_result"
    }
   ],
   "source": [
    "# Zobacz gdzie jest agent\n",
    "for loc in [loc_A, loc_B]:\n",
    "    print('loc {0}: {1}'.format(loc, env.list_things_at(loc)))\n",
    "# Lub:\n",
    "agent.location"
   ]
  },
  {
   "cell_type": "code",
   "execution_count": 12,
   "metadata": {},
   "outputs": [
    {
     "name": "stdout",
     "output_type": "stream",
     "text": [
      "<Agent> perceives ((0, 0), 'Clean') and does Right\n",
      "<Agent> perceives ((1, 0), 'Dirty') and does Suck\n",
      "<Agent> perceives ((1, 0), 'Clean') and does Left\n",
      "<Agent> perceives ((0, 0), 'Clean') and does Right\n",
      "<Agent> perceives ((1, 0), 'Clean') and does Left\n",
      "<Agent> perceives ((0, 0), 'Clean') and does Right\n",
      "<Agent> perceives ((1, 0), 'Clean') and does Left\n",
      "<Agent> perceives ((0, 0), 'Clean') and does Right\n",
      "<Agent> perceives ((1, 0), 'Clean') and does Left\n",
      "<Agent> perceives ((0, 0), 'Clean') and does Right\n"
     ]
    }
   ],
   "source": [
    "# Wykonaj 10 kroków\n",
    "env.run(10)"
   ]
  },
  {
   "cell_type": "code",
   "execution_count": 13,
   "metadata": {},
   "outputs": [
    {
     "data": {
      "text/plain": [
       "1"
      ]
     },
     "execution_count": 13,
     "metadata": {},
     "output_type": "execute_result"
    }
   ],
   "source": [
    "# Sprawdź jak środowisko oceniło jakość agenta.\n",
    "agent.performance"
   ]
  },
  {
   "cell_type": "code",
   "execution_count": 14,
   "metadata": {},
   "outputs": [
    {
     "data": {
      "text/plain": [
       "[(<function aima3.agents.ReflexVacuumAgent()>, -38.89),\n",
       " (<function aima3.agents.ModelBasedVacuumAgent()>, 9.1)]"
      ]
     },
     "execution_count": 14,
     "metadata": {},
     "output_type": "execute_result"
    }
   ],
   "source": [
    "# Moglibyśmy ocenić oczekiwaną jakość agenta dokładniej..., ale tylko ją oszacujemy (1000 powtórzeń).\n",
    "# Zakładamy, że symulacja trwa 50 kroków.\n",
    "\n",
    "compare_agents(TrivialVacuumEnvironment, [ReflexVacuumAgent, ModelBasedVacuumAgent], 1000, 50)"
   ]
  },
  {
   "cell_type": "markdown",
   "metadata": {},
   "source": [
    "# Zad. 2 - Cechy zmodyfikowanego środowisko odkurzacza (1 pkt).\n",
    "\n",
    "Wypisz cechy poniżej używanego środowiska zgodnie z klasyfikacją z wykładu 1.\n",
    "Dla ciągłości/dyskretności określ cechy osobno w stosunku do czasu, akcji i przestrzeni stanów.\n",
    "W razie wątpliwości uzasadnij swój wybór.\n",
    "\n",
    "Odpowiedź: \n",
    "1. Obserwowalność środowiska - częściowo obserwowalne\n",
    "2. Liczność agentów w środowisku - jednoagentowe\n",
    "3. Determinizm środowiska - stochastyczne (pod wpływem wprowdzenia losowej szansy na zabrudzenie pokoju)\n",
    "4. Dynamiczne środowisko\n",
    "5. Ciągłość środowiska:\n",
    "* czas - ciągłe (posunięcia odkurzacza mogą być nieskończone jeśli nie będzie zawartego warunku stopu, konkretnej liczby kroków)\n",
    "* akcje - dyskretne (skończona liczba możliwości \"wykonania ruchu\" w danym stanie)\n",
    "* przestrzeń stanów - dyskretne (skończona liczba możliwych stanów dla danej charakterystyki pewnego środowiska)\n",
    "6. Model środowiska - znany"
   ]
  },
  {
   "cell_type": "code",
   "execution_count": 2,
   "metadata": {},
   "outputs": [],
   "source": [
    "# Rozszerzmy implementacje TrivialVacuumEnvironment\n",
    "\n",
    "import random\n",
    "\n",
    "class TrivialVacuumEnvironmentWithCats(TrivialVacuumEnvironment):\n",
    "    def __init__(self, random_dirt_prob=0.05, seed=None):\n",
    "        super(TrivialVacuumEnvironmentWithCats, self).__init__()\n",
    "        self.random = random.Random(seed)\n",
    "        self.random_dirt_prob = random_dirt_prob\n",
    "\n",
    "    def execute_action(self, agent, action):\n",
    "        \"\"\"Change agent's location and/or location's status; track performance; add dirt;\n",
    "        Score 10 for each dirt cleaned; -1 for each move.\"\"\"\n",
    "        # Same as in case of TrivialVacuumEnvironment\n",
    "        if action == 'Right':\n",
    "            agent.location = loc_B\n",
    "            agent.performance -= 1\n",
    "        elif action == 'Left':\n",
    "            agent.location = loc_A\n",
    "            agent.performance -= 1\n",
    "        elif action == 'Suck':\n",
    "            if self.status[agent.location] == 'Dirty':\n",
    "                agent.performance += 10\n",
    "            self.status[agent.location] = 'Clean'\n",
    "\n",
    "        # Cats can make either location dirty\n",
    "        for loc in [loc_A, loc_B]:\n",
    "            if self.random.random() < self.random_dirt_prob:\n",
    "                self.status[loc] = 'Dirty'"
   ]
  },
  {
   "cell_type": "code",
   "execution_count": 5,
   "metadata": {},
   "outputs": [
    {
     "data": {
      "text/plain": [
       "[(<function aima3.agents.ReflexVacuumAgent()>, 12.656),\n",
       " (<function aima3.agents.ModelBasedVacuumAgent()>, 33.11)]"
      ]
     },
     "execution_count": 5,
     "metadata": {},
     "output_type": "execute_result"
    }
   ],
   "source": [
    "# Przetestujmy domyślnych agentów w nowym środowisku\n",
    "\n",
    "def env_factory():\n",
    "    return TrivialVacuumEnvironmentWithCats(random_dirt_prob=0.05)\n",
    "\n",
    "compare_agents(env_factory, [ReflexVacuumAgent, ModelBasedVacuumAgent], 1000, 50)"
   ]
  },
  {
   "cell_type": "markdown",
   "metadata": {},
   "source": [
    "# Zad. 3 - Własny program agenta (8 pkt.)\n",
    "\n",
    "Napisz program agenta, który będzie (średnio) dużo lepszy dla tego środowiska (50 kroków, z random_dirt_prob=0.05) niż ModelBaseVacuumAgent oraz ReflexVacuumAgent. Opisz działanie swojego programu, na podstawie jaki przesłanek on działa, jakbyś go zmodyfikował gdyby prawdopodobieństwo zabrudzenia pokoju (random_dirt_prob) się zmieniło?\n",
    "\n",
    "Punktacja za wynik (sprawdzarka zrobi 50000 powtórzeń):\n",
    "* \\> 41: 1 pkt.\n",
    "* \\> 42: 2 pkt.\n",
    "* \\> 43: 3 pkt.\n",
    "* \\> 44: 4 pkt.\n",
    "* \\> 45: 5 pkt.\n",
    "* \\> 46: 6 pkt.\n",
    "\n",
    "\\+ 2 pkt. za opis.\n",
    "\n",
    "#### Uwaga: nie zmieniaj nazwy klasy `MyVacuumAgent`. Nie dopisuj do komórki z klasą innego kodu. Możesz zdefiniować funkcje pomocnicze w tej samej komórce (sprawdzarka wyciągnie ze zgłoszonego notebooka wyłącznie komórkę z klasę o nazwie `MyVacuumAgent` do sprawdzenia)."
   ]
  },
  {
   "cell_type": "markdown",
   "metadata": {},
   "source": [
    "Podejście wykorzystane przeze mnie jest inspirowane wykorzystaniem policzenia prawdopodobieństwa pojedynczego zabrudzenia sąsiedniego pokoju przez koty z rozkładu dwumianowego i zsumowanie go poprzez wykonanie coraz to więcej iteracji pod wpływem pozostawania ciągle w tym samym pokoju przez agenta. Ustawiony próg prawdopodobieństwa w warunku na 0.5 oznacza, że jeśli koty zabrudziły sąsiedni pokój lub nie, agent pozostanie w obecnym pokoju przez ok. 13 kroków, jeśli obecnie obserwowany przez niego stan wykazuje czystość środowiska. W przedostatnim kroku (```elif step == 49```) zmuszam agenta do sprawdzenia sąsiedniego pokoju i wykonanie ewentualnego czyszczenia pokoju w kroku ostatnim. Parametr początkowy zmiennej ```i``` oraz wartość 0.5 w warunku ```elif prob > 0.5``` wyznaczone zostały przeze mnie empirycznie, możliwe jest ich udoskonalenie w celu uzyskania jeszcze lepszych wyników agenta."
   ]
  },
  {
   "cell_type": "code",
   "execution_count": 41,
   "metadata": {},
   "outputs": [],
   "source": [
    "# Klasa MyVacuumAgent wypełniona przykładowym kodem agenta z modelem\n",
    "\n",
    "def MyVacuumAgent():\n",
    "    random_dirt_prob = 0.05\n",
    "    step = 0\n",
    "    i = 20\n",
    "    \n",
    "    def calculate_probability(p, n):\n",
    "        prob = 0\n",
    "        for i in range(n):\n",
    "            prob += p * (1 - p) ** (i - 1)\n",
    "        return prob\n",
    "    \n",
    "    def program(percept):\n",
    "        # Zwróć jedną z dostępnych akcji: {'Suck', 'Right', 'Left', 'NoOP'}\n",
    "        nonlocal random_dirt_prob\n",
    "        nonlocal step, i\n",
    "        location, status = percept\n",
    "    \n",
    "        prob = calculate_probability(random_dirt_prob, i)\n",
    "        \n",
    "        i += 1\n",
    "        step += 1\n",
    "        \n",
    "        if status == 'Dirty':\n",
    "            return 'Suck'\n",
    "        elif step == 49:\n",
    "            if location == loc_A:\n",
    "                return 'Right'\n",
    "            return 'Left'\n",
    "        elif prob > 0.5:\n",
    "            i = 0\n",
    "            if location == loc_B:\n",
    "                return 'Left'\n",
    "            return 'Right'\n",
    "        elif status == 'Clean':\n",
    "            return 'NoOp'\n",
    "        \n",
    "    return Agent(program)"
   ]
  },
  {
   "cell_type": "code",
   "execution_count": 33,
   "metadata": {},
   "outputs": [
    {
     "data": {
      "text/plain": [
       "[(<function __main__.MyVacuumAgent()>, 46.28358)]"
      ]
     },
     "execution_count": 33,
     "metadata": {},
     "output_type": "execute_result"
    }
   ],
   "source": [
    "# Przetestuj swojego agenta\n",
    "def env_factory():\n",
    "    return TrivialVacuumEnvironmentWithCats(random_dirt_prob=0.05)\n",
    "\n",
    "compare_agents(env_factory, [MyVacuumAgent], 50000, 50)"
   ]
  },
  {
   "cell_type": "code",
   "execution_count": 31,
   "metadata": {},
   "outputs": [
    {
     "name": "stdout",
     "output_type": "stream",
     "text": [
      "13\n",
      "14\n",
      "15\n",
      "16\n",
      "17\n",
      "18\n",
      "19\n",
      "0.6752779764120606\n"
     ]
    }
   ],
   "source": [
    "prob = 0\n",
    "for i in range(20):\n",
    "    if prob > 0.5:\n",
    "        print(i)\n",
    "    prob += 0.05 * (1 - 0.05) ** (i - 1)\n",
    "print(prob)"
   ]
  }
 ],
 "metadata": {
  "kernelspec": {
   "display_name": "Python 3 (ipykernel)",
   "language": "python",
   "name": "python3"
  },
  "language_info": {
   "codemirror_mode": {
    "name": "ipython",
    "version": 3
   },
   "file_extension": ".py",
   "mimetype": "text/x-python",
   "name": "python",
   "nbconvert_exporter": "python",
   "pygments_lexer": "ipython3",
   "version": "3.7.5"
  }
 },
 "nbformat": 4,
 "nbformat_minor": 4
}
