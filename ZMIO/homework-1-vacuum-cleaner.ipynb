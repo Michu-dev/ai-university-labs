{
 "cells": [
  {
   "cell_type": "markdown",
   "metadata": {},
   "source": [
    "## Zaawansowane Metody Inteligencji Obliczeniowej\n",
    "# Zadanie domowe 1\n",
    "### Prowadzący: Michał Kempka, Marek Wydmuch\n",
    "### Autor: Michał Ciesielski 145325"
   ]
  },
  {
   "cell_type": "markdown",
   "metadata": {},
   "source": [
    "## Wprowadzenie\n",
    "\n",
    "Całe zadanie jest oparte o różne wersje środowiska `VacuumEnvironemnt`, które rozważaliśmy na zajęciach.\n",
    "Środowisko zaimplementowane jest w bibliotece aima3 (https://github.com/ArtificialIntelligenceToolkit/aima3),\n",
    "która zawiera kod do książki \"Artificial Intelligence: A Modern Approach\".\n",
    "\n",
    "#### Uwaga: Możesz dowolnie modyfikować elementy tego notebooka (wstawiać komórki i zmieniać kod) o ile nie napisano gdzieś inaczej."
   ]
  },
  {
   "cell_type": "code",
   "execution_count": 1,
   "metadata": {
    "scrolled": true
   },
   "outputs": [
    {
     "name": "stdout",
     "output_type": "stream",
     "text": [
      "Collecting aima3\n",
      "  Downloading aima3-1.0.11-py2.py3-none-any.whl (150 kB)\n",
      "     ---------------------------------------- 0.0/150.2 kB ? eta -:--:--\n",
      "     ---------------------------- --------- 112.6/150.2 kB 2.2 MB/s eta 0:00:01\n",
      "     -------------------------------------- 150.2/150.2 kB 1.8 MB/s eta 0:00:00\n",
      "Collecting tqdm\n",
      "  Downloading tqdm-4.64.1-py2.py3-none-any.whl (78 kB)\n",
      "     ---------------------------------------- 0.0/78.5 kB ? eta -:--:--\n",
      "     ---------------------------------------- 78.5/78.5 kB ? eta 0:00:00\n",
      "Collecting networkx==1.11\n",
      "  Downloading networkx-1.11-py2.py3-none-any.whl (1.3 MB)\n",
      "     ---------------------------------------- 0.0/1.3 MB ? eta -:--:--\n",
      "     ------- -------------------------------- 0.2/1.3 MB 7.6 MB/s eta 0:00:01\n",
      "     ----------------------- ---------------- 0.8/1.3 MB 8.1 MB/s eta 0:00:01\n",
      "     ---------------------------------------- 1.3/1.3 MB 9.3 MB/s eta 0:00:00\n",
      "Requirement already satisfied: jupyter in c:\\users\\dell latitude\\appdata\\local\\packages\\pythonsoftwarefoundation.python.3.10_qbz5n2kfra8p0\\localcache\\local-packages\\python310\\site-packages (from aima3) (1.0.0)\n",
      "Requirement already satisfied: decorator>=3.4.0 in c:\\users\\dell latitude\\appdata\\local\\packages\\pythonsoftwarefoundation.python.3.10_qbz5n2kfra8p0\\localcache\\local-packages\\python310\\site-packages (from networkx==1.11->aima3) (5.1.1)\n",
      "Requirement already satisfied: qtconsole in c:\\users\\dell latitude\\appdata\\local\\packages\\pythonsoftwarefoundation.python.3.10_qbz5n2kfra8p0\\localcache\\local-packages\\python310\\site-packages (from jupyter->aima3) (5.4.0)\n",
      "Requirement already satisfied: ipywidgets in c:\\users\\dell latitude\\appdata\\local\\packages\\pythonsoftwarefoundation.python.3.10_qbz5n2kfra8p0\\localcache\\local-packages\\python310\\site-packages (from jupyter->aima3) (8.0.4)\n",
      "Requirement already satisfied: notebook in c:\\users\\dell latitude\\appdata\\local\\packages\\pythonsoftwarefoundation.python.3.10_qbz5n2kfra8p0\\localcache\\local-packages\\python310\\site-packages (from jupyter->aima3) (6.5.2)\n",
      "Requirement already satisfied: jupyter-console in c:\\users\\dell latitude\\appdata\\local\\packages\\pythonsoftwarefoundation.python.3.10_qbz5n2kfra8p0\\localcache\\local-packages\\python310\\site-packages (from jupyter->aima3) (6.6.2)\n",
      "Requirement already satisfied: nbconvert in c:\\users\\dell latitude\\appdata\\local\\packages\\pythonsoftwarefoundation.python.3.10_qbz5n2kfra8p0\\localcache\\local-packages\\python310\\site-packages (from jupyter->aima3) (7.2.9)\n",
      "Requirement already satisfied: ipykernel in c:\\users\\dell latitude\\appdata\\local\\packages\\pythonsoftwarefoundation.python.3.10_qbz5n2kfra8p0\\localcache\\local-packages\\python310\\site-packages (from jupyter->aima3) (6.21.2)\n",
      "Requirement already satisfied: colorama in c:\\users\\dell latitude\\appdata\\local\\packages\\pythonsoftwarefoundation.python.3.10_qbz5n2kfra8p0\\localcache\\local-packages\\python310\\site-packages (from tqdm->aima3) (0.4.6)\n",
      "Requirement already satisfied: jupyter-client>=6.1.12 in c:\\users\\dell latitude\\appdata\\local\\packages\\pythonsoftwarefoundation.python.3.10_qbz5n2kfra8p0\\localcache\\local-packages\\python310\\site-packages (from ipykernel->jupyter->aima3) (8.0.3)\n",
      "Requirement already satisfied: tornado>=6.1 in c:\\users\\dell latitude\\appdata\\local\\packages\\pythonsoftwarefoundation.python.3.10_qbz5n2kfra8p0\\localcache\\local-packages\\python310\\site-packages (from ipykernel->jupyter->aima3) (6.2)\n",
      "Requirement already satisfied: pyzmq>=20 in c:\\users\\dell latitude\\appdata\\local\\packages\\pythonsoftwarefoundation.python.3.10_qbz5n2kfra8p0\\localcache\\local-packages\\python310\\site-packages (from ipykernel->jupyter->aima3) (25.0.0)\n",
      "Requirement already satisfied: jupyter-core!=5.0.*,>=4.12 in c:\\users\\dell latitude\\appdata\\local\\packages\\pythonsoftwarefoundation.python.3.10_qbz5n2kfra8p0\\localcache\\local-packages\\python310\\site-packages (from ipykernel->jupyter->aima3) (5.2.0)\n",
      "Requirement already satisfied: ipython>=7.23.1 in c:\\users\\dell latitude\\appdata\\local\\packages\\pythonsoftwarefoundation.python.3.10_qbz5n2kfra8p0\\localcache\\local-packages\\python310\\site-packages (from ipykernel->jupyter->aima3) (8.11.0)\n",
      "Requirement already satisfied: nest-asyncio in c:\\users\\dell latitude\\appdata\\local\\packages\\pythonsoftwarefoundation.python.3.10_qbz5n2kfra8p0\\localcache\\local-packages\\python310\\site-packages (from ipykernel->jupyter->aima3) (1.5.6)\n",
      "Requirement already satisfied: psutil in c:\\users\\dell latitude\\appdata\\local\\packages\\pythonsoftwarefoundation.python.3.10_qbz5n2kfra8p0\\localcache\\local-packages\\python310\\site-packages (from ipykernel->jupyter->aima3) (5.9.4)\n",
      "Requirement already satisfied: traitlets>=5.4.0 in c:\\users\\dell latitude\\appdata\\local\\packages\\pythonsoftwarefoundation.python.3.10_qbz5n2kfra8p0\\localcache\\local-packages\\python310\\site-packages (from ipykernel->jupyter->aima3) (5.9.0)\n",
      "Requirement already satisfied: debugpy>=1.6.5 in c:\\users\\dell latitude\\appdata\\local\\packages\\pythonsoftwarefoundation.python.3.10_qbz5n2kfra8p0\\localcache\\local-packages\\python310\\site-packages (from ipykernel->jupyter->aima3) (1.6.6)\n",
      "Requirement already satisfied: matplotlib-inline>=0.1 in c:\\users\\dell latitude\\appdata\\local\\packages\\pythonsoftwarefoundation.python.3.10_qbz5n2kfra8p0\\localcache\\local-packages\\python310\\site-packages (from ipykernel->jupyter->aima3) (0.1.6)\n",
      "Requirement already satisfied: comm>=0.1.1 in c:\\users\\dell latitude\\appdata\\local\\packages\\pythonsoftwarefoundation.python.3.10_qbz5n2kfra8p0\\localcache\\local-packages\\python310\\site-packages (from ipykernel->jupyter->aima3) (0.1.2)\n",
      "Requirement already satisfied: packaging in c:\\users\\dell latitude\\appdata\\local\\packages\\pythonsoftwarefoundation.python.3.10_qbz5n2kfra8p0\\localcache\\local-packages\\python310\\site-packages (from ipykernel->jupyter->aima3) (21.3)\n",
      "Requirement already satisfied: jupyterlab-widgets~=3.0 in c:\\users\\dell latitude\\appdata\\local\\packages\\pythonsoftwarefoundation.python.3.10_qbz5n2kfra8p0\\localcache\\local-packages\\python310\\site-packages (from ipywidgets->jupyter->aima3) (3.0.5)\n",
      "Requirement already satisfied: widgetsnbextension~=4.0 in c:\\users\\dell latitude\\appdata\\local\\packages\\pythonsoftwarefoundation.python.3.10_qbz5n2kfra8p0\\localcache\\local-packages\\python310\\site-packages (from ipywidgets->jupyter->aima3) (4.0.5)\n",
      "Requirement already satisfied: prompt-toolkit>=3.0.30 in c:\\users\\dell latitude\\appdata\\local\\packages\\pythonsoftwarefoundation.python.3.10_qbz5n2kfra8p0\\localcache\\local-packages\\python310\\site-packages (from jupyter-console->jupyter->aima3) (3.0.38)\n",
      "Requirement already satisfied: pygments in c:\\users\\dell latitude\\appdata\\local\\packages\\pythonsoftwarefoundation.python.3.10_qbz5n2kfra8p0\\localcache\\local-packages\\python310\\site-packages (from jupyter-console->jupyter->aima3) (2.14.0)\n",
      "Requirement already satisfied: nbclient>=0.5.0 in c:\\users\\dell latitude\\appdata\\local\\packages\\pythonsoftwarefoundation.python.3.10_qbz5n2kfra8p0\\localcache\\local-packages\\python310\\site-packages (from nbconvert->jupyter->aima3) (0.7.2)\n",
      "Requirement already satisfied: beautifulsoup4 in c:\\users\\dell latitude\\appdata\\local\\packages\\pythonsoftwarefoundation.python.3.10_qbz5n2kfra8p0\\localcache\\local-packages\\python310\\site-packages (from nbconvert->jupyter->aima3) (4.11.2)\n",
      "Requirement already satisfied: mistune<3,>=2.0.3 in c:\\users\\dell latitude\\appdata\\local\\packages\\pythonsoftwarefoundation.python.3.10_qbz5n2kfra8p0\\localcache\\local-packages\\python310\\site-packages (from nbconvert->jupyter->aima3) (2.0.5)\n",
      "Requirement already satisfied: defusedxml in c:\\users\\dell latitude\\appdata\\local\\packages\\pythonsoftwarefoundation.python.3.10_qbz5n2kfra8p0\\localcache\\local-packages\\python310\\site-packages (from nbconvert->jupyter->aima3) (0.7.1)\n",
      "Requirement already satisfied: nbformat>=5.1 in c:\\users\\dell latitude\\appdata\\local\\packages\\pythonsoftwarefoundation.python.3.10_qbz5n2kfra8p0\\localcache\\local-packages\\python310\\site-packages (from nbconvert->jupyter->aima3) (5.7.3)\n",
      "Requirement already satisfied: bleach in c:\\users\\dell latitude\\appdata\\local\\packages\\pythonsoftwarefoundation.python.3.10_qbz5n2kfra8p0\\localcache\\local-packages\\python310\\site-packages (from nbconvert->jupyter->aima3) (6.0.0)\n",
      "Requirement already satisfied: markupsafe>=2.0 in c:\\users\\dell latitude\\appdata\\local\\packages\\pythonsoftwarefoundation.python.3.10_qbz5n2kfra8p0\\localcache\\local-packages\\python310\\site-packages (from nbconvert->jupyter->aima3) (2.1.2)\n",
      "Requirement already satisfied: jinja2>=3.0 in c:\\users\\dell latitude\\appdata\\local\\packages\\pythonsoftwarefoundation.python.3.10_qbz5n2kfra8p0\\localcache\\local-packages\\python310\\site-packages (from nbconvert->jupyter->aima3) (3.1.2)\n",
      "Requirement already satisfied: pandocfilters>=1.4.1 in c:\\users\\dell latitude\\appdata\\local\\packages\\pythonsoftwarefoundation.python.3.10_qbz5n2kfra8p0\\localcache\\local-packages\\python310\\site-packages (from nbconvert->jupyter->aima3) (1.5.0)\n",
      "Requirement already satisfied: jupyterlab-pygments in c:\\users\\dell latitude\\appdata\\local\\packages\\pythonsoftwarefoundation.python.3.10_qbz5n2kfra8p0\\localcache\\local-packages\\python310\\site-packages (from nbconvert->jupyter->aima3) (0.2.2)\n",
      "Requirement already satisfied: tinycss2 in c:\\users\\dell latitude\\appdata\\local\\packages\\pythonsoftwarefoundation.python.3.10_qbz5n2kfra8p0\\localcache\\local-packages\\python310\\site-packages (from nbconvert->jupyter->aima3) (1.2.1)\n",
      "Requirement already satisfied: terminado>=0.8.3 in c:\\users\\dell latitude\\appdata\\local\\packages\\pythonsoftwarefoundation.python.3.10_qbz5n2kfra8p0\\localcache\\local-packages\\python310\\site-packages (from notebook->jupyter->aima3) (0.17.1)\n",
      "Requirement already satisfied: Send2Trash>=1.8.0 in c:\\users\\dell latitude\\appdata\\local\\packages\\pythonsoftwarefoundation.python.3.10_qbz5n2kfra8p0\\localcache\\local-packages\\python310\\site-packages (from notebook->jupyter->aima3) (1.8.0)\n",
      "Requirement already satisfied: prometheus-client in c:\\users\\dell latitude\\appdata\\local\\packages\\pythonsoftwarefoundation.python.3.10_qbz5n2kfra8p0\\localcache\\local-packages\\python310\\site-packages (from notebook->jupyter->aima3) (0.16.0)\n",
      "Requirement already satisfied: nbclassic>=0.4.7 in c:\\users\\dell latitude\\appdata\\local\\packages\\pythonsoftwarefoundation.python.3.10_qbz5n2kfra8p0\\localcache\\local-packages\\python310\\site-packages (from notebook->jupyter->aima3) (0.5.2)\n",
      "Requirement already satisfied: argon2-cffi in c:\\users\\dell latitude\\appdata\\local\\packages\\pythonsoftwarefoundation.python.3.10_qbz5n2kfra8p0\\localcache\\local-packages\\python310\\site-packages (from notebook->jupyter->aima3) (21.3.0)\n",
      "Requirement already satisfied: ipython-genutils in c:\\users\\dell latitude\\appdata\\local\\packages\\pythonsoftwarefoundation.python.3.10_qbz5n2kfra8p0\\localcache\\local-packages\\python310\\site-packages (from notebook->jupyter->aima3) (0.2.0)\n",
      "Requirement already satisfied: qtpy>=2.0.1 in c:\\users\\dell latitude\\appdata\\local\\packages\\pythonsoftwarefoundation.python.3.10_qbz5n2kfra8p0\\localcache\\local-packages\\python310\\site-packages (from qtconsole->jupyter->aima3) (2.3.0)\n",
      "Requirement already satisfied: backcall in c:\\users\\dell latitude\\appdata\\local\\packages\\pythonsoftwarefoundation.python.3.10_qbz5n2kfra8p0\\localcache\\local-packages\\python310\\site-packages (from ipython>=7.23.1->ipykernel->jupyter->aima3) (0.2.0)\n",
      "Requirement already satisfied: stack-data in c:\\users\\dell latitude\\appdata\\local\\packages\\pythonsoftwarefoundation.python.3.10_qbz5n2kfra8p0\\localcache\\local-packages\\python310\\site-packages (from ipython>=7.23.1->ipykernel->jupyter->aima3) (0.6.2)\n",
      "Requirement already satisfied: pickleshare in c:\\users\\dell latitude\\appdata\\local\\packages\\pythonsoftwarefoundation.python.3.10_qbz5n2kfra8p0\\localcache\\local-packages\\python310\\site-packages (from ipython>=7.23.1->ipykernel->jupyter->aima3) (0.7.5)\n",
      "Requirement already satisfied: jedi>=0.16 in c:\\users\\dell latitude\\appdata\\local\\packages\\pythonsoftwarefoundation.python.3.10_qbz5n2kfra8p0\\localcache\\local-packages\\python310\\site-packages (from ipython>=7.23.1->ipykernel->jupyter->aima3) (0.18.2)\n",
      "Requirement already satisfied: python-dateutil>=2.8.2 in c:\\users\\dell latitude\\appdata\\local\\packages\\pythonsoftwarefoundation.python.3.10_qbz5n2kfra8p0\\localcache\\local-packages\\python310\\site-packages (from jupyter-client>=6.1.12->ipykernel->jupyter->aima3) (2.8.2)\n",
      "Requirement already satisfied: pywin32>=1.0 in c:\\users\\dell latitude\\appdata\\local\\packages\\pythonsoftwarefoundation.python.3.10_qbz5n2kfra8p0\\localcache\\local-packages\\python310\\site-packages (from jupyter-core!=5.0.*,>=4.12->ipykernel->jupyter->aima3) (305)\n",
      "Requirement already satisfied: platformdirs>=2.5 in c:\\users\\dell latitude\\appdata\\local\\packages\\pythonsoftwarefoundation.python.3.10_qbz5n2kfra8p0\\localcache\\local-packages\\python310\\site-packages (from jupyter-core!=5.0.*,>=4.12->ipykernel->jupyter->aima3) (3.0.0)\n",
      "Requirement already satisfied: notebook-shim>=0.1.0 in c:\\users\\dell latitude\\appdata\\local\\packages\\pythonsoftwarefoundation.python.3.10_qbz5n2kfra8p0\\localcache\\local-packages\\python310\\site-packages (from nbclassic>=0.4.7->notebook->jupyter->aima3) (0.2.2)\n",
      "Requirement already satisfied: jupyter-server>=1.8 in c:\\users\\dell latitude\\appdata\\local\\packages\\pythonsoftwarefoundation.python.3.10_qbz5n2kfra8p0\\localcache\\local-packages\\python310\\site-packages (from nbclassic>=0.4.7->notebook->jupyter->aima3) (2.3.0)\n",
      "Requirement already satisfied: jsonschema>=2.6 in c:\\users\\dell latitude\\appdata\\local\\packages\\pythonsoftwarefoundation.python.3.10_qbz5n2kfra8p0\\localcache\\local-packages\\python310\\site-packages (from nbformat>=5.1->nbconvert->jupyter->aima3) (4.17.3)\n",
      "Requirement already satisfied: fastjsonschema in c:\\users\\dell latitude\\appdata\\local\\packages\\pythonsoftwarefoundation.python.3.10_qbz5n2kfra8p0\\localcache\\local-packages\\python310\\site-packages (from nbformat>=5.1->nbconvert->jupyter->aima3) (2.16.3)\n",
      "Requirement already satisfied: wcwidth in c:\\users\\dell latitude\\appdata\\local\\packages\\pythonsoftwarefoundation.python.3.10_qbz5n2kfra8p0\\localcache\\local-packages\\python310\\site-packages (from prompt-toolkit>=3.0.30->jupyter-console->jupyter->aima3) (0.2.6)\n",
      "Requirement already satisfied: pywinpty>=1.1.0 in c:\\users\\dell latitude\\appdata\\local\\packages\\pythonsoftwarefoundation.python.3.10_qbz5n2kfra8p0\\localcache\\local-packages\\python310\\site-packages (from terminado>=0.8.3->notebook->jupyter->aima3) (2.0.10)\n",
      "Requirement already satisfied: argon2-cffi-bindings in c:\\users\\dell latitude\\appdata\\local\\packages\\pythonsoftwarefoundation.python.3.10_qbz5n2kfra8p0\\localcache\\local-packages\\python310\\site-packages (from argon2-cffi->notebook->jupyter->aima3) (21.2.0)\n",
      "Requirement already satisfied: soupsieve>1.2 in c:\\users\\dell latitude\\appdata\\local\\packages\\pythonsoftwarefoundation.python.3.10_qbz5n2kfra8p0\\localcache\\local-packages\\python310\\site-packages (from beautifulsoup4->nbconvert->jupyter->aima3) (2.4)\n",
      "Requirement already satisfied: webencodings in c:\\users\\dell latitude\\appdata\\local\\packages\\pythonsoftwarefoundation.python.3.10_qbz5n2kfra8p0\\localcache\\local-packages\\python310\\site-packages (from bleach->nbconvert->jupyter->aima3) (0.5.1)\n",
      "Requirement already satisfied: six>=1.9.0 in c:\\users\\dell latitude\\appdata\\local\\packages\\pythonsoftwarefoundation.python.3.10_qbz5n2kfra8p0\\localcache\\local-packages\\python310\\site-packages (from bleach->nbconvert->jupyter->aima3) (1.16.0)\n",
      "Requirement already satisfied: pyparsing!=3.0.5,>=2.0.2 in c:\\users\\dell latitude\\appdata\\local\\packages\\pythonsoftwarefoundation.python.3.10_qbz5n2kfra8p0\\localcache\\local-packages\\python310\\site-packages (from packaging->ipykernel->jupyter->aima3) (3.0.9)\n",
      "Requirement already satisfied: parso<0.9.0,>=0.8.0 in c:\\users\\dell latitude\\appdata\\local\\packages\\pythonsoftwarefoundation.python.3.10_qbz5n2kfra8p0\\localcache\\local-packages\\python310\\site-packages (from jedi>=0.16->ipython>=7.23.1->ipykernel->jupyter->aima3) (0.8.3)\n",
      "Requirement already satisfied: pyrsistent!=0.17.0,!=0.17.1,!=0.17.2,>=0.14.0 in c:\\users\\dell latitude\\appdata\\local\\packages\\pythonsoftwarefoundation.python.3.10_qbz5n2kfra8p0\\localcache\\local-packages\\python310\\site-packages (from jsonschema>=2.6->nbformat>=5.1->nbconvert->jupyter->aima3) (0.19.3)\n",
      "Requirement already satisfied: attrs>=17.4.0 in c:\\users\\dell latitude\\appdata\\local\\packages\\pythonsoftwarefoundation.python.3.10_qbz5n2kfra8p0\\localcache\\local-packages\\python310\\site-packages (from jsonschema>=2.6->nbformat>=5.1->nbconvert->jupyter->aima3) (22.2.0)\n",
      "Requirement already satisfied: jupyter-server-terminals in c:\\users\\dell latitude\\appdata\\local\\packages\\pythonsoftwarefoundation.python.3.10_qbz5n2kfra8p0\\localcache\\local-packages\\python310\\site-packages (from jupyter-server>=1.8->nbclassic>=0.4.7->notebook->jupyter->aima3) (0.4.4)\n",
      "Requirement already satisfied: websocket-client in c:\\users\\dell latitude\\appdata\\local\\packages\\pythonsoftwarefoundation.python.3.10_qbz5n2kfra8p0\\localcache\\local-packages\\python310\\site-packages (from jupyter-server>=1.8->nbclassic>=0.4.7->notebook->jupyter->aima3) (1.5.1)\n",
      "Requirement already satisfied: anyio>=3.1.0 in c:\\users\\dell latitude\\appdata\\local\\packages\\pythonsoftwarefoundation.python.3.10_qbz5n2kfra8p0\\localcache\\local-packages\\python310\\site-packages (from jupyter-server>=1.8->nbclassic>=0.4.7->notebook->jupyter->aima3) (3.6.2)\n",
      "Requirement already satisfied: jupyter-events>=0.4.0 in c:\\users\\dell latitude\\appdata\\local\\packages\\pythonsoftwarefoundation.python.3.10_qbz5n2kfra8p0\\localcache\\local-packages\\python310\\site-packages (from jupyter-server>=1.8->nbclassic>=0.4.7->notebook->jupyter->aima3) (0.6.3)\n",
      "Requirement already satisfied: cffi>=1.0.1 in c:\\users\\dell latitude\\appdata\\local\\packages\\pythonsoftwarefoundation.python.3.10_qbz5n2kfra8p0\\localcache\\local-packages\\python310\\site-packages (from argon2-cffi-bindings->argon2-cffi->notebook->jupyter->aima3) (1.15.1)\n",
      "Requirement already satisfied: executing>=1.2.0 in c:\\users\\dell latitude\\appdata\\local\\packages\\pythonsoftwarefoundation.python.3.10_qbz5n2kfra8p0\\localcache\\local-packages\\python310\\site-packages (from stack-data->ipython>=7.23.1->ipykernel->jupyter->aima3) (1.2.0)\n",
      "Requirement already satisfied: asttokens>=2.1.0 in c:\\users\\dell latitude\\appdata\\local\\packages\\pythonsoftwarefoundation.python.3.10_qbz5n2kfra8p0\\localcache\\local-packages\\python310\\site-packages (from stack-data->ipython>=7.23.1->ipykernel->jupyter->aima3) (2.2.1)\n",
      "Requirement already satisfied: pure-eval in c:\\users\\dell latitude\\appdata\\local\\packages\\pythonsoftwarefoundation.python.3.10_qbz5n2kfra8p0\\localcache\\local-packages\\python310\\site-packages (from stack-data->ipython>=7.23.1->ipykernel->jupyter->aima3) (0.2.2)\n",
      "Requirement already satisfied: sniffio>=1.1 in c:\\users\\dell latitude\\appdata\\local\\packages\\pythonsoftwarefoundation.python.3.10_qbz5n2kfra8p0\\localcache\\local-packages\\python310\\site-packages (from anyio>=3.1.0->jupyter-server>=1.8->nbclassic>=0.4.7->notebook->jupyter->aima3) (1.3.0)\n",
      "Requirement already satisfied: idna>=2.8 in c:\\users\\dell latitude\\appdata\\local\\packages\\pythonsoftwarefoundation.python.3.10_qbz5n2kfra8p0\\localcache\\local-packages\\python310\\site-packages (from anyio>=3.1.0->jupyter-server>=1.8->nbclassic>=0.4.7->notebook->jupyter->aima3) (3.4)\n",
      "Requirement already satisfied: pycparser in c:\\users\\dell latitude\\appdata\\local\\packages\\pythonsoftwarefoundation.python.3.10_qbz5n2kfra8p0\\localcache\\local-packages\\python310\\site-packages (from cffi>=1.0.1->argon2-cffi-bindings->argon2-cffi->notebook->jupyter->aima3) (2.21)\n",
      "Requirement already satisfied: python-json-logger>=2.0.4 in c:\\users\\dell latitude\\appdata\\local\\packages\\pythonsoftwarefoundation.python.3.10_qbz5n2kfra8p0\\localcache\\local-packages\\python310\\site-packages (from jupyter-events>=0.4.0->jupyter-server>=1.8->nbclassic>=0.4.7->notebook->jupyter->aima3) (2.0.7)\n",
      "Requirement already satisfied: rfc3986-validator>=0.1.1 in c:\\users\\dell latitude\\appdata\\local\\packages\\pythonsoftwarefoundation.python.3.10_qbz5n2kfra8p0\\localcache\\local-packages\\python310\\site-packages (from jupyter-events>=0.4.0->jupyter-server>=1.8->nbclassic>=0.4.7->notebook->jupyter->aima3) (0.1.1)\n",
      "Requirement already satisfied: pyyaml>=5.3 in c:\\users\\dell latitude\\appdata\\local\\packages\\pythonsoftwarefoundation.python.3.10_qbz5n2kfra8p0\\localcache\\local-packages\\python310\\site-packages (from jupyter-events>=0.4.0->jupyter-server>=1.8->nbclassic>=0.4.7->notebook->jupyter->aima3) (6.0)\n",
      "Requirement already satisfied: rfc3339-validator in c:\\users\\dell latitude\\appdata\\local\\packages\\pythonsoftwarefoundation.python.3.10_qbz5n2kfra8p0\\localcache\\local-packages\\python310\\site-packages (from jupyter-events>=0.4.0->jupyter-server>=1.8->nbclassic>=0.4.7->notebook->jupyter->aima3) (0.1.4)\n",
      "Requirement already satisfied: isoduration in c:\\users\\dell latitude\\appdata\\local\\packages\\pythonsoftwarefoundation.python.3.10_qbz5n2kfra8p0\\localcache\\local-packages\\python310\\site-packages (from jsonschema>=2.6->nbformat>=5.1->nbconvert->jupyter->aima3) (20.11.0)\n",
      "Requirement already satisfied: webcolors>=1.11 in c:\\users\\dell latitude\\appdata\\local\\packages\\pythonsoftwarefoundation.python.3.10_qbz5n2kfra8p0\\localcache\\local-packages\\python310\\site-packages (from jsonschema>=2.6->nbformat>=5.1->nbconvert->jupyter->aima3) (1.12)\n",
      "Requirement already satisfied: jsonpointer>1.13 in c:\\users\\dell latitude\\appdata\\local\\packages\\pythonsoftwarefoundation.python.3.10_qbz5n2kfra8p0\\localcache\\local-packages\\python310\\site-packages (from jsonschema>=2.6->nbformat>=5.1->nbconvert->jupyter->aima3) (2.3)\n",
      "Requirement already satisfied: fqdn in c:\\users\\dell latitude\\appdata\\local\\packages\\pythonsoftwarefoundation.python.3.10_qbz5n2kfra8p0\\localcache\\local-packages\\python310\\site-packages (from jsonschema>=2.6->nbformat>=5.1->nbconvert->jupyter->aima3) (1.5.1)\n",
      "Requirement already satisfied: uri-template in c:\\users\\dell latitude\\appdata\\local\\packages\\pythonsoftwarefoundation.python.3.10_qbz5n2kfra8p0\\localcache\\local-packages\\python310\\site-packages (from jsonschema>=2.6->nbformat>=5.1->nbconvert->jupyter->aima3) (1.2.0)\n",
      "Requirement already satisfied: arrow>=0.15.0 in c:\\users\\dell latitude\\appdata\\local\\packages\\pythonsoftwarefoundation.python.3.10_qbz5n2kfra8p0\\localcache\\local-packages\\python310\\site-packages (from isoduration->jsonschema>=2.6->nbformat>=5.1->nbconvert->jupyter->aima3) (1.2.3)\n",
      "Installing collected packages: tqdm, networkx, aima3\n",
      "Successfully installed aima3-1.0.11 networkx-1.11 tqdm-4.64.1\n"
     ]
    }
   ],
   "source": [
    "# Zainstaluj bibliotekę OpenAI Gym\n",
    "!pip install aima3"
   ]
  },
  {
   "cell_type": "code",
   "execution_count": 1,
   "metadata": {},
   "outputs": [],
   "source": [
    "# Zaimportuj wszystkie jego elementy\n",
    "from aima3.agents import *"
   ]
  },
  {
   "cell_type": "markdown",
   "metadata": {},
   "source": [
    "Wszystkie używane przez nas elementy biblioteki są zaimplementowane w pliku: https://github.com/ArtificialIntelligenceToolkit/aima3/blob/master/aima3/agents.py"
   ]
  },
  {
   "cell_type": "markdown",
   "metadata": {},
   "source": [
    "# Zad. 1 - Cechy środowiska odkurzacza (1 pkt.)\n",
    "\n",
    "Wypisz cechy poniżej używanego środowiska zgodnie z klasyfikacją z wykładu 1.\n",
    "Dla ciągłości/dyskretności określ cechy osobno w stosunku do czasu, akcji i przestrzeni stanów.\n",
    "W razie wątpliwości uzasadnij swój wybór.\n",
    "\n",
    "Odpowiedź: \n",
    "1. Obserwowalność środowiska - całkowicie obserwowalne\n",
    "2. Liczność agentów w środowisku - jednoagentowe\n",
    "3. Determinizm środowiska - deterministyczne\n",
    "4. Statyczne środowisko\n",
    "5. Ciągłość środowiska:\n",
    "* czas - ciągłe (posunięcia odkurzacza mogą być nieskończone jeśli zostanie źle wyuczony lub nie będzie zawartego warunku stopu)\n",
    "* akcje - dyskretne (skończona liczba możliwości \"wykonania ruchu\" w danym stanie)\n",
    "* przestrzeń stanów - dyskretne (skończona liczba możliwych stanów dla danej charakterystyki pewnego środowiska)\n",
    "6. Model środowiska - znany\n",
    "\n",
    "Tip: Możesz sprawdź implementacje środowiska w pliku podanym powyżej, lub wywnioskować cechy na wykonując poniższe fragmenty kodu."
   ]
  },
  {
   "cell_type": "code",
   "execution_count": 2,
   "metadata": {},
   "outputs": [],
   "source": [
    "# Stwórz nowe środowisko świata odkurzacza\n",
    "env = TrivialVacuumEnvironment()"
   ]
  },
  {
   "cell_type": "code",
   "execution_count": 4,
   "metadata": {},
   "outputs": [
    {
     "data": {
      "text/plain": [
       "{(0, 0): 'Clean', (1, 0): 'Dirty'}"
      ]
     },
     "execution_count": 4,
     "metadata": {},
     "output_type": "execute_result"
    }
   ],
   "source": [
    "# Sprawdź aktualny status środowiska\n",
    "env.status"
   ]
  },
  {
   "cell_type": "code",
   "execution_count": 4,
   "metadata": {},
   "outputs": [],
   "source": [
    "import collections\n",
    "collections.Callable = collections.abc.Callable"
   ]
  },
  {
   "cell_type": "code",
   "execution_count": 9,
   "metadata": {},
   "outputs": [
    {
     "data": {
      "text/plain": [
       "True"
      ]
     },
     "execution_count": 9,
     "metadata": {},
     "output_type": "execute_result"
    }
   ],
   "source": [
    "# Utwórz agenta refleksyjnego\n",
    "agent = ReflexVacuumAgent()\n",
    "agent.is_alive()"
   ]
  },
  {
   "cell_type": "code",
   "execution_count": 10,
   "metadata": {},
   "outputs": [],
   "source": [
    "# Dodaj agenta do środowiska. Owijamy go w TraceAgent'a, żeby zobaczyć co robi.\n",
    "env.add_thing(TraceAgent(agent))"
   ]
  },
  {
   "cell_type": "code",
   "execution_count": 11,
   "metadata": {},
   "outputs": [
    {
     "name": "stdout",
     "output_type": "stream",
     "text": [
      "loc (0, 0): [<Agent>]\n",
      "loc (1, 0): []\n"
     ]
    },
    {
     "data": {
      "text/plain": [
       "(0, 0)"
      ]
     },
     "execution_count": 11,
     "metadata": {},
     "output_type": "execute_result"
    }
   ],
   "source": [
    "# Zobacz gdzie jest agent\n",
    "for loc in [loc_A, loc_B]:\n",
    "    print('loc {0}: {1}'.format(loc, env.list_things_at(loc)))\n",
    "# Lub:\n",
    "agent.location"
   ]
  },
  {
   "cell_type": "code",
   "execution_count": 12,
   "metadata": {},
   "outputs": [
    {
     "name": "stdout",
     "output_type": "stream",
     "text": [
      "<Agent> perceives ((0, 0), 'Clean') and does Right\n",
      "<Agent> perceives ((1, 0), 'Dirty') and does Suck\n",
      "<Agent> perceives ((1, 0), 'Clean') and does Left\n",
      "<Agent> perceives ((0, 0), 'Clean') and does Right\n",
      "<Agent> perceives ((1, 0), 'Clean') and does Left\n",
      "<Agent> perceives ((0, 0), 'Clean') and does Right\n",
      "<Agent> perceives ((1, 0), 'Clean') and does Left\n",
      "<Agent> perceives ((0, 0), 'Clean') and does Right\n",
      "<Agent> perceives ((1, 0), 'Clean') and does Left\n",
      "<Agent> perceives ((0, 0), 'Clean') and does Right\n"
     ]
    }
   ],
   "source": [
    "# Wykonaj 10 kroków\n",
    "env.run(10)"
   ]
  },
  {
   "cell_type": "code",
   "execution_count": 13,
   "metadata": {},
   "outputs": [
    {
     "data": {
      "text/plain": [
       "1"
      ]
     },
     "execution_count": 13,
     "metadata": {},
     "output_type": "execute_result"
    }
   ],
   "source": [
    "# Sprawdź jak środowisko oceniło jakość agenta.\n",
    "agent.performance"
   ]
  },
  {
   "cell_type": "code",
   "execution_count": 14,
   "metadata": {},
   "outputs": [
    {
     "data": {
      "text/plain": [
       "[(<function aima3.agents.ReflexVacuumAgent()>, -38.89),\n",
       " (<function aima3.agents.ModelBasedVacuumAgent()>, 9.1)]"
      ]
     },
     "execution_count": 14,
     "metadata": {},
     "output_type": "execute_result"
    }
   ],
   "source": [
    "# Moglibyśmy ocenić oczekiwaną jakość agenta dokładniej..., ale tylko ją oszacujemy (1000 powtórzeń).\n",
    "# Zakładamy, że symulacja trwa 50 kroków.\n",
    "\n",
    "compare_agents(TrivialVacuumEnvironment, [ReflexVacuumAgent, ModelBasedVacuumAgent], 1000, 50)"
   ]
  },
  {
   "cell_type": "markdown",
   "metadata": {},
   "source": [
    "# Zad. 2 - Cechy zmodyfikowanego środowisko odkurzacza (1 pkt).\n",
    "\n",
    "Wypisz cechy poniżej używanego środowiska zgodnie z klasyfikacją z wykładu 1.\n",
    "Dla ciągłości/dyskretności określ cechy osobno w stosunku do czasu, akcji i przestrzeni stanów.\n",
    "W razie wątpliwości uzasadnij swój wybór.\n",
    "\n",
    "Odpowiedź: Miejsce na Twoje odpowiedzi"
   ]
  },
  {
   "cell_type": "code",
   "execution_count": 2,
   "metadata": {},
   "outputs": [],
   "source": [
    "# Rozszerzmy implementacje TrivialVacuumEnvironment\n",
    "\n",
    "import random\n",
    "\n",
    "class TrivialVacuumEnvironmentWithCats(TrivialVacuumEnvironment):\n",
    "    def __init__(self, random_dirt_prob=0.05, seed=None):\n",
    "        super(TrivialVacuumEnvironmentWithCats, self).__init__()\n",
    "        self.random = random.Random(seed)\n",
    "        self.random_dirt_prob = random_dirt_prob\n",
    "\n",
    "    def execute_action(self, agent, action):\n",
    "        \"\"\"Change agent's location and/or location's status; track performance; add dirt;\n",
    "        Score 10 for each dirt cleaned; -1 for each move.\"\"\"\n",
    "        # Same as in case of TrivialVacuumEnvironment\n",
    "        if action == 'Right':\n",
    "            agent.location = loc_B\n",
    "            agent.performance -= 1\n",
    "        elif action == 'Left':\n",
    "            agent.location = loc_A\n",
    "            agent.performance -= 1\n",
    "        elif action == 'Suck':\n",
    "            if self.status[agent.location] == 'Dirty':\n",
    "                agent.performance += 10\n",
    "            self.status[agent.location] = 'Clean'\n",
    "\n",
    "        # Cats can make either location dirty\n",
    "        for loc in [loc_A, loc_B]:\n",
    "            if self.random.random() < self.random_dirt_prob:\n",
    "                self.status[loc] = 'Dirty'"
   ]
  },
  {
   "cell_type": "code",
   "execution_count": 5,
   "metadata": {},
   "outputs": [
    {
     "data": {
      "text/plain": [
       "[(<function aima3.agents.ReflexVacuumAgent()>, 11.842),\n",
       " (<function aima3.agents.ModelBasedVacuumAgent()>, 33.1)]"
      ]
     },
     "execution_count": 5,
     "metadata": {},
     "output_type": "execute_result"
    }
   ],
   "source": [
    "# Przetestujmy domyślnych agentów w nowym środowisku\n",
    "\n",
    "def env_factory():\n",
    "    return TrivialVacuumEnvironmentWithCats(random_dirt_prob=0.05)\n",
    "\n",
    "compare_agents(env_factory, [ReflexVacuumAgent, ModelBasedVacuumAgent], 1000, 50)"
   ]
  },
  {
   "cell_type": "markdown",
   "metadata": {},
   "source": [
    "# Zad. 3 - Własny program agenta (8 pkt.)\n",
    "\n",
    "Napisz program agenta, który będzie (średnio) dużo lepszy dla tego środowiska (50 kroków, z random_dirt_prob=0.05) niż ModelBaseVacuumAgent oraz ReflexVacuumAgent. Opisz działanie swojego programu, na podstawie jaki przesłanek on działa, jakbyś go zmodyfikował gdyby prawdopodobieństwo zabrudzenia pokoju (random_dirt_prob) się zmieniło?\n",
    "\n",
    "Punktacja za wynik (sprawdzarka zrobi 50000 powtórzeń):\n",
    "* \\> 41: 1 pkt.\n",
    "* \\> 42: 2 pkt.\n",
    "* \\> 43: 3 pkt.\n",
    "* \\> 44: 4 pkt.\n",
    "* \\> 45: 5 pkt.\n",
    "* \\> 46: 6 pkt.\n",
    "\n",
    "\\+ 2 pkt. za opis.\n",
    "\n",
    "#### Uwaga: nie zmieniaj nazwy klasy `MyVacuumAgent`. Nie dopisuj do komórki z klasą innego kodu. Możesz zdefiniować funkcje pomocnicze w tej samej komórce (sprawdzarka wyciągnie ze zgłoszonego notebooka wyłącznie komórkę z klasę o nazwie `MyVacuumAgent` do sprawdzenia)."
   ]
  },
  {
   "cell_type": "code",
   "execution_count": 32,
   "metadata": {},
   "outputs": [],
   "source": [
    "# Klasa MyVacuumAgent wypełniona przykładowym kodem agenta z modelem\n",
    "\n",
    "def MyVacuumAgent():\n",
    "    import random\n",
    "    model = {loc_A: None, loc_B: None}\n",
    "    random = random.Random(None)\n",
    "    random_dirt_prob = 0.13\n",
    "    def program(percept):\n",
    "        # Zwróć jedną z dostępnych akcji: {'Suck', 'Right', 'Left', 'NoOP'}\n",
    "        nonlocal random_dirt_prob\n",
    "        nonlocal random\n",
    "        random_dirt_prob_2 = random_dirt_prob\n",
    "        location, status = percept\n",
    "        model[location] = status\n",
    "        cats_made_room_dirty = (random.random() < random_dirt_prob)\n",
    "        if status == 'Clean' and location == loc_A and cats_made_room_dirty:\n",
    "            random_dirt_prob += 0.011\n",
    "            return 'Right'\n",
    "        if status == 'Clean' and location == loc_B and cats_made_room_dirty:\n",
    "            random_dirt_prob += 0.011\n",
    "            return 'Left'\n",
    "        \n",
    "        random_dirt_prob -= 0.0001\n",
    "        \n",
    "        if model[loc_A] == model[loc_B] == 'Clean':\n",
    "            return 'NoOp'\n",
    "        elif status == 'Dirty':\n",
    "            return 'Suck'\n",
    "        elif location == loc_A:\n",
    "            return 'Right'\n",
    "        elif location == loc_B:\n",
    "            return 'Left'\n",
    "        \n",
    "    return Agent(program)"
   ]
  },
  {
   "cell_type": "code",
   "execution_count": 26,
   "metadata": {},
   "outputs": [
    {
     "data": {
      "text/plain": [
       "[(<function __main__.MyVacuumAgent()>, 45.54656)]"
      ]
     },
     "execution_count": 26,
     "metadata": {},
     "output_type": "execute_result"
    }
   ],
   "source": [
    "# Przetestuj swojego agenta\n",
    "def env_factory():\n",
    "    return TrivialVacuumEnvironmentWithCats(random_dirt_prob=0.05)\n",
    "\n",
    "compare_agents(env_factory, [MyVacuumAgent], 50000, 50)"
   ]
  },
  {
   "cell_type": "code",
   "execution_count": 11,
   "metadata": {},
   "outputs": [
    {
     "data": {
      "text/plain": [
       "[(<function __main__.MyVacuumAgent()>, 45.6793)]"
      ]
     },
     "execution_count": 11,
     "metadata": {},
     "output_type": "execute_result"
    }
   ],
   "source": [
    "# Przetestuj swojego agenta\n",
    "def env_factory():\n",
    "    return TrivialVacuumEnvironmentWithCats(random_dirt_prob=0.05)\n",
    "\n",
    "compare_agents(env_factory, [MyVacuumAgent], 50000, 50)"
   ]
  },
  {
   "cell_type": "code",
   "execution_count": 25,
   "metadata": {},
   "outputs": [],
   "source": [
    "# Klasa MyVacuumAgent wypełniona przykładowym kodem agenta z modelem\n",
    "\n",
    "def MyVacuumAgent():\n",
    "    import random\n",
    "    model = {loc_A: None, loc_B: None}\n",
    "    random = random.Random(None)\n",
    "    random_dirt_prob = 0.13\n",
    "    \n",
    "    step = 0\n",
    "    i = 8\n",
    "    \n",
    "    def program(percept):\n",
    "        # Zwróć jedną z dostępnych akcji: {'Suck', 'Right', 'Left', 'NoOP'}\n",
    "        nonlocal random_dirt_prob\n",
    "        nonlocal random\n",
    "        nonlocal step, i\n",
    "        random_dirt_prob_2 = random_dirt_prob\n",
    "        location, status = percept\n",
    "#         model[location] = status\n",
    "#         cats_made_room_dirty = (random.random() < random_dirt_prob)\n",
    "#         if status == 'Clean' and location == loc_A and cats_made_room_dirty:\n",
    "#             random_dirt_prob += 0.011\n",
    "#             return 'Right'\n",
    "#         if status == 'Clean' and location == loc_B and cats_made_room_dirty:\n",
    "#             random_dirt_prob += 0.011\n",
    "#             return 'Left'\n",
    "        \n",
    "        step += 1\n",
    "        cats_made_room_dirty = (random.random() < random_dirt_prob)\n",
    "#         random_dirt_prob -= 0.0001\n",
    "        \n",
    "        if status == 'Dirty':\n",
    "#             i = 10\n",
    "            return 'Suck'\n",
    "        elif step == 49:\n",
    "#             step = 0\n",
    "            if location == loc_A:\n",
    "                return 'Right'\n",
    "            return 'Left'\n",
    "        elif location == loc_A and i <= 0:\n",
    "            i = 8\n",
    "            return 'Right'\n",
    "        elif location == loc_B and i <= 0:\n",
    "            i = 8\n",
    "            return 'Left'\n",
    "        elif status == 'Clean':\n",
    "            if cats_made_room_dirty:\n",
    "                i -= 1.3\n",
    "            else:\n",
    "                i -= 1\n",
    "            return 'NoOp'\n",
    "        \n",
    "    return Agent(program)"
   ]
  },
  {
   "cell_type": "code",
   "execution_count": null,
   "metadata": {},
   "outputs": [],
   "source": []
  }
 ],
 "metadata": {
  "kernelspec": {
   "display_name": "Python 3 (ipykernel)",
   "language": "python",
   "name": "python3"
  },
  "language_info": {
   "codemirror_mode": {
    "name": "ipython",
    "version": 3
   },
   "file_extension": ".py",
   "mimetype": "text/x-python",
   "name": "python",
   "nbconvert_exporter": "python",
   "pygments_lexer": "ipython3",
   "version": "3.10.10"
  }
 },
 "nbformat": 4,
 "nbformat_minor": 4
}
