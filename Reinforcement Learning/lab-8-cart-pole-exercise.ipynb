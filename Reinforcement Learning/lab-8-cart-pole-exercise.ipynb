{
 "cells": [
  {
   "cell_type": "markdown",
   "metadata": {},
   "source": [
    "# Zaawansowane Metody Inteligencji Obliczeniowej\n",
    "## Lab 8: Q-Learning z aproksymacją\n",
    "### Prowadzący: Michał Kempka, Marek Wydmuch"
   ]
  },
  {
   "cell_type": "markdown",
   "metadata": {},
   "source": [
    "## Wprowadzenie\n",
    "\n",
    "Celem tego ćwiczenia jest implementacja algorytmu Q-Learning z aproksymacją dla środowiska `CartPole` ze znanej Wam już bibliteki OpenAI Gym (https://gym.openai.com).\n",
    "\n",
    "\n",
    "Zapoznaj się z opisem środowiska (https://gym.openai.com/envs/CartPole-v1) następnie zapoznaj się z kodem poniżej. Pokazuje on przykład użycia omawianego środowiska."
   ]
  },
  {
   "cell_type": "code",
   "execution_count": 1,
   "metadata": {},
   "outputs": [
    {
     "name": "stdout",
     "output_type": "stream",
     "text": [
      "Collecting gym\n",
      "  Using cached gym-0.26.2-py3-none-any.whl\n",
      "Collecting torch\n",
      "  Using cached torch-2.0.0-cp38-cp38-win_amd64.whl (172.3 MB)\n",
      "Collecting matplotlib\n",
      "  Using cached matplotlib-3.7.1-cp38-cp38-win_amd64.whl (7.6 MB)\n",
      "Requirement already satisfied: numpy in c:\\users\\dell latitude\\appdata\\local\\programs\\python\\python38\\lib\\site-packages (1.24.2)\n",
      "Collecting gym-notices>=0.0.4\n",
      "  Using cached gym_notices-0.0.8-py3-none-any.whl (3.0 kB)\n",
      "Requirement already satisfied: importlib-metadata>=4.8.0 in c:\\users\\dell latitude\\appdata\\roaming\\python\\python38\\site-packages (from gym) (6.4.1)\n",
      "Collecting cloudpickle>=1.2.0\n",
      "  Using cached cloudpickle-2.2.1-py3-none-any.whl (25 kB)\n",
      "Requirement already satisfied: zipp>=0.5 in c:\\users\\dell latitude\\appdata\\roaming\\python\\python38\\site-packages (from importlib-metadata>=4.8.0->gym) (3.15.0)\n",
      "Requirement already satisfied: typing-extensions in c:\\users\\dell latitude\\appdata\\roaming\\python\\python38\\site-packages (from torch) (4.5.0)\n",
      "Collecting filelock\n",
      "  Using cached filelock-3.11.0-py3-none-any.whl (10.0 kB)\n",
      "Requirement already satisfied: sympy in c:\\users\\dell latitude\\appdata\\local\\programs\\python\\python38\\lib\\site-packages (from torch) (1.11.1)\n",
      "Collecting jinja2\n",
      "  Using cached Jinja2-3.1.2-py3-none-any.whl (133 kB)\n",
      "Collecting networkx\n",
      "  Using cached networkx-3.1-py3-none-any.whl (2.1 MB)\n",
      "Collecting contourpy>=1.0.1\n",
      "  Using cached contourpy-1.0.7-cp38-cp38-win_amd64.whl (162 kB)\n",
      "Collecting fonttools>=4.22.0\n",
      "  Using cached fonttools-4.39.3-py3-none-any.whl (1.0 MB)\n",
      "Collecting cycler>=0.10\n",
      "  Using cached cycler-0.11.0-py3-none-any.whl (6.4 kB)\n",
      "Requirement already satisfied: packaging>=20.0 in c:\\users\\dell latitude\\appdata\\roaming\\python\\python38\\site-packages (from matplotlib) (23.1)\n",
      "Collecting importlib-resources>=3.2.0\n",
      "  Using cached importlib_resources-5.12.0-py3-none-any.whl (36 kB)\n",
      "Collecting pyparsing>=2.3.1\n",
      "  Using cached pyparsing-3.0.9-py3-none-any.whl (98 kB)\n",
      "Requirement already satisfied: python-dateutil>=2.7 in c:\\users\\dell latitude\\appdata\\roaming\\python\\python38\\site-packages (from matplotlib) (2.8.2)\n",
      "Collecting pillow>=6.2.0\n",
      "  Using cached Pillow-9.5.0-cp38-cp38-win_amd64.whl (2.5 MB)\n",
      "Collecting kiwisolver>=1.0.1\n",
      "  Using cached kiwisolver-1.4.4-cp38-cp38-win_amd64.whl (55 kB)\n",
      "Requirement already satisfied: six>=1.5 in c:\\users\\dell latitude\\appdata\\roaming\\python\\python38\\site-packages (from python-dateutil>=2.7->matplotlib) (1.16.0)\n",
      "Requirement already satisfied: MarkupSafe>=2.0 in c:\\users\\dell latitude\\appdata\\local\\programs\\python\\python38\\lib\\site-packages (from jinja2->torch) (2.1.2)\n",
      "Requirement already satisfied: mpmath>=0.19 in c:\\users\\dell latitude\\appdata\\local\\programs\\python\\python38\\lib\\site-packages (from sympy->torch) (1.3.0)\n",
      "Installing collected packages: pyparsing, pillow, networkx, kiwisolver, jinja2, importlib-resources, gym-notices, fonttools, filelock, cycler, contourpy, cloudpickle, torch, matplotlib, gym\n",
      "Successfully installed cloudpickle-2.2.1 contourpy-1.0.7 cycler-0.11.0 filelock-3.11.0 fonttools-4.39.3 gym-0.26.2 gym-notices-0.0.8 importlib-resources-5.12.0 jinja2-3.1.2 kiwisolver-1.4.4 matplotlib-3.7.1 networkx-3.1 pillow-9.5.0 pyparsing-3.0.9 torch-2.0.0\n"
     ]
    },
    {
     "name": "stderr",
     "output_type": "stream",
     "text": [
      "WARNING: You are using pip version 21.1.1; however, version 23.1 is available.\n",
      "You should consider upgrading via the 'c:\\users\\dell latitude\\appdata\\local\\programs\\python\\python38\\python.exe -m pip install --upgrade pip' command.\n"
     ]
    }
   ],
   "source": [
    "# Zainstaluj bibliotekę OpenAI Gym i PyTorch\n",
    "!pip install gym torch matplotlib numpy\n",
    "# W wypadku problemów z działąniem na macOS Big Sur uruchom również poniższą linię\n",
    "#!pip install pyglet==1.5.15"
   ]
  },
  {
   "cell_type": "markdown",
   "metadata": {},
   "source": [
    "### Środowisko `CartPole`\n",
    "\n",
    "Poniższy kod demonstruje działanie środowiska `CartPole`"
   ]
  },
  {
   "cell_type": "code",
   "execution_count": 12,
   "metadata": {},
   "outputs": [],
   "source": [
    "# Zobacz jak działa środowisko na przykładzie 1000 kroków\n",
    "import gym\n",
    "\n",
    "env = gym.make(\"CartPole-v1\")\n",
    "observation = env.reset()\n",
    "for _ in range(1000):\n",
    "    env.render()\n",
    "    action = env.action_space.sample()\n",
    "    observation, reward, done, info, _ = env.step(action)\n",
    "\n",
    "    if done:\n",
    "        observation = env.reset()\n",
    "env.close()"
   ]
  },
  {
   "cell_type": "code",
   "execution_count": 13,
   "metadata": {},
   "outputs": [
    {
     "name": "stdout",
     "output_type": "stream",
     "text": [
      "Przestrzeń stanów: Box([-4.8000002e+00 -3.4028235e+38 -4.1887903e-01 -3.4028235e+38], [4.8000002e+00 3.4028235e+38 4.1887903e-01 3.4028235e+38], (4,), float32)\n",
      "Ostatnia obserwacja: [ 0.05065029  0.18679495 -0.16937424 -0.6291693 ]\n",
      "Przestrzeń akcji: Discrete(2)\n"
     ]
    }
   ],
   "source": [
    "# Zobacz jakim typem są obserwacje (reprezentacja stanu) oraz jaka jest przestrzeń akcji:\n",
    "print(\"Przestrzeń stanów:\", env.observation_space)\n",
    "print(\"Ostatnia obserwacja:\", observation)\n",
    "print(\"Przestrzeń akcji:\", env.action_space)"
   ]
  },
  {
   "cell_type": "markdown",
   "metadata": {},
   "source": [
    "### Regresja w PyTorch\n",
    "\n",
    "Poniższy kod demosntruje jak stworzyć prosty model za pomocą bilibteki PyTorch dla problemu regresji."
   ]
  },
  {
   "cell_type": "code",
   "execution_count": 14,
   "metadata": {},
   "outputs": [],
   "source": [
    "import torch\n",
    "import torch.nn.functional as F\n",
    "\n",
    "class MyModel(torch.nn.Module):\n",
    "    def __init__(self, n_feature, n_hidden, n_output):\n",
    "        super(MyModel, self).__init__()\n",
    "        self.hidden = torch.nn.Linear(n_feature, n_hidden)  # Warstwa wejściowa\n",
    "        self.predict = torch.nn.Linear(n_hidden, n_output)  # Warstwa wyjściowa\n",
    "\n",
    "    # W momencie wykonania tych operacji zostanie stworzony graf obliczeniowy, który zostanie wykorzystany do propagacji wstecznej\n",
    "    def forward(self, x):\n",
    "        x = F.relu(self.hidden(x))  # Wejście + funkcja aktywacji\n",
    "        x = self.predict(x)         # Liniowe wyjście\n",
    "        return x\n",
    "\n",
    "h = MyModel(n_feature=1, n_hidden=50, n_output=1)\n",
    "\n",
    "# Poza samym modelem, w celu jego uczenia potrzebujemy optymalizatora (w tym wypadku algorytmu SGD)\n",
    "optimizer = torch.optim.SGD(h.parameters(), lr=0.2)\n",
    "\n",
    "# Oraz naszej funkcji straty, w tym wypadku błędu kwadratowego\n",
    "loss_func = torch.nn.MSELoss()"
   ]
  },
  {
   "cell_type": "code",
   "execution_count": 15,
   "metadata": {},
   "outputs": [
    {
     "data": {
      "image/png": "[encoded data removed]",
      "text/plain": [
       "<Figure size 1000x600 with 1 Axes>"
      ]
     },
     "metadata": {},
     "output_type": "display_data"
    }
   ],
   "source": [
    "# Stwórzmy przykładowe, jednowmiarowe dane i wyświetlmy je\n",
    "import matplotlib.pyplot as plt\n",
    "%matplotlib inline\n",
    "\n",
    "torch.manual_seed(1)\n",
    "x = torch.unsqueeze(torch.linspace(-1, 1, 100), dim=1)\n",
    "y = x.pow(2) + 0.2 * torch.rand(x.size())\n",
    "\n",
    "plt.figure(figsize=(10,6))\n",
    "plt.scatter(x.data.numpy(), y.data.numpy(), color=\"blue\")\n",
    "plt.show()"
   ]
  },
  {
   "cell_type": "code",
   "execution_count": 16,
   "metadata": {},
   "outputs": [],
   "source": [
    "# Wytrenujmy nasz model wykonując 1000 iteracji po całym zbiorze danych\n",
    "for t in range(1000):\n",
    "    # Dokonaj predykcji na podstawie x\n",
    "    prediction = h(x) \n",
    "    \n",
    "    # Wyliczmy błąd\n",
    "    loss = loss_func(prediction, y)\n",
    "    \n",
    "    # Wyzerujmy gradienty\n",
    "    optimizer.zero_grad()\n",
    "    \n",
    "    # Wylicz gradienty dla każdej operacji z użyciem propagacji wstecznej\n",
    "    loss.backward()\n",
    "\n",
    "    # Zaktualizuj wagi\n",
    "    optimizer.step()"
   ]
  },
  {
   "cell_type": "code",
   "execution_count": 17,
   "metadata": {
    "collapsed": false,
    "jupyter": {
     "outputs_hidden": false
    },
    "pycharm": {
     "name": "#%%\n"
    }
   },
   "outputs": [],
   "source": [
    "# Wykonajmy ostateczną predykcję, nie potrzebujemy już gradientów ani grafu obliczeniowego\n",
    "with torch.no_grad():\n",
    "    prediction = h(x)"
   ]
  },
  {
   "cell_type": "code",
   "execution_count": 18,
   "metadata": {},
   "outputs": [
    {
     "data": {
      "image/png": "[encoded data removed]",
      "text/plain": [
       "<Figure size 1000x600 with 1 Axes>"
      ]
     },
     "metadata": {},
     "output_type": "display_data"
    }
   ],
   "source": [
    "# Wyświetlmy wyniki\n",
    "plt.figure(figsize=(10,6))\n",
    "plt.scatter(x.data.numpy(), y.data.numpy(), color=\"blue\")\n",
    "plt.plot(x.data.numpy(), prediction.data.numpy(), color=\"red\", lw=3)\n",
    "plt.show()"
   ]
  },
  {
   "cell_type": "markdown",
   "metadata": {},
   "source": [
    "## Ćwiczenie: zaimplementuj algorytm Q-Learning z aproksymacją dla środowiska `CartPole`"
   ]
  },
  {
   "cell_type": "code",
   "execution_count": 19,
   "metadata": {},
   "outputs": [],
   "source": [
    "class QModel(torch.nn.Module):\n",
    "    def __init__(self, n_feature, n1_hidden, n2_hidden, n_output):\n",
    "        super(QModel, self).__init__()\n",
    "        self.hidden1 = torch.nn.Linear(n_feature, n1_hidden)  # Warstwa wejściowa\n",
    "        self.hidden2 = torch.nn.Linear(n1_hidden, n2_hidden) \n",
    "        self.predict = torch.nn.Linear(n2_hidden, n_output)  # Warstwa wyjściowa\n",
    "\n",
    "    # W momencie wykonania tych operacji zostanie stworzony graf obliczeniowy, który zostanie wykorzystany do propagacji wstecznej\n",
    "    def forward(self, x):\n",
    "        x = F.relu(self.hidden1(x))  # Wejście + funkcja aktywacji\n",
    "        x = F.relu(self.hidden2(x))\n",
    "        x = self.predict(x)         # Liniowe wyjście\n",
    "        return x\n",
    "\n"
   ]
  },
  {
   "cell_type": "code",
   "execution_count": 20,
   "metadata": {},
   "outputs": [
    {
     "name": "stdout",
     "output_type": "stream",
     "text": [
      "Collecting tqdm\n",
      "  Downloading tqdm-4.65.0-py3-none-any.whl (77 kB)\n",
      "Requirement already satisfied: colorama in c:\\users\\dell latitude\\appdata\\roaming\\python\\python38\\site-packages (from tqdm) (0.4.6)\n",
      "Installing collected packages: tqdm\n",
      "Successfully installed tqdm-4.65.0\n"
     ]
    },
    {
     "name": "stderr",
     "output_type": "stream",
     "text": [
      "WARNING: You are using pip version 21.1.1; however, version 23.1 is available.\n",
      "You should consider upgrading via the 'c:\\users\\dell latitude\\appdata\\local\\programs\\python\\python38\\python.exe -m pip install --upgrade pip' command.\n"
     ]
    }
   ],
   "source": [
    "!pip install tqdm"
   ]
  },
  {
   "cell_type": "code",
   "execution_count": 21,
   "metadata": {},
   "outputs": [],
   "source": [
    "from tqdm import trange\n",
    "from random import random\n",
    "\n",
    "def predict(h, S):\n",
    "    with torch.no_grad():\n",
    "        return h(torch.Tensor(S))\n",
    "\n",
    "def qlearning(env, h, episodes, optim, gamma=0.9, epsilon=0.1, eps_decay=0.99):\n",
    "    loss_func = torch.nn.MSELoss()# Poza samym modelem, w celu jego uczenia potrzebujemy optymalizatora (w tym wypadku algorytmu SGD)\n",
    "    rewards = []\n",
    "    for episode in trange(episodes):\n",
    "        S = env.reset()\n",
    "        done = False\n",
    "        total_R = 0\n",
    "\n",
    "        while not done:\n",
    "            Q = predict(h, S)\n",
    "            if random() < epsilon:\n",
    "                A = env.action_space().sample()\n",
    "            else:\n",
    "                A = torch.argmax(Q).item()\n",
    "            total_R += R\n",
    "\n",
    "            if done:\n",
    "                target = R\n",
    "            else:\n",
    "                next_S, R, done, _, _ = env.step(A) \n",
    "                next_Q = predict(h, next_S)\n",
    "                max_next_Q = torch.max(next_Q).item()\n",
    "\n",
    "                target = R + gamma * max_next_Q\n",
    "\n",
    "            pred = Q[A] \n",
    "            loss = loss_func(pred, torch.Tensor([target]))\n",
    "            optim.zero_grad()\n",
    "            loss.backward()\n",
    "            optim.step()\n",
    "\n",
    "            S = next_S\n",
    "        \n",
    "        epsilon = max(epsilon * eps_decay, 0.01)\n",
    "        reward.append(total_R)\n",
    "    \n",
    "    return rewards\n"
   ]
  },
  {
   "cell_type": "code",
   "execution_count": 24,
   "metadata": {},
   "outputs": [
    {
     "ename": "TypeError",
     "evalue": "unsupported operand type(s) for -: 'MyModel' and 'MyModel'",
     "output_type": "error",
     "traceback": [
      "\u001b[1;31m---------------------------------------------------------------------------\u001b[0m",
      "\u001b[1;31mTypeError\u001b[0m                                 Traceback (most recent call last)",
      "Cell \u001b[1;32mIn[24], line 2\u001b[0m\n\u001b[0;32m      1\u001b[0m env \u001b[39m=\u001b[39m gym\u001b[39m.\u001b[39mmake(\u001b[39m\"\u001b[39m\u001b[39mCartPole-v1\u001b[39m\u001b[39m\"\u001b[39m)\n\u001b[1;32m----> 2\u001b[0m h \u001b[39m-\u001b[39;49m MyModel(\u001b[39m4\u001b[39;49m, \u001b[39m2\u001b[39;49m, \u001b[39m1\u001b[39;49m)\n\u001b[0;32m      4\u001b[0m optim \u001b[39m=\u001b[39m torch\u001b[39m.\u001b[39moptim\u001b[39m.\u001b[39mSGD(h\u001b[39m.\u001b[39mparameters(), lr\u001b[39m=\u001b[39m\u001b[39m0.001\u001b[39m)\n\u001b[0;32m      6\u001b[0m rewards \u001b[39m=\u001b[39m []\n",
      "\u001b[1;31mTypeError\u001b[0m: unsupported operand type(s) for -: 'MyModel' and 'MyModel'"
     ]
    }
   ],
   "source": [
    "env = gym.make(\"CartPole-v1\")\n",
    "h - MyModel(4, 2, 1)\n",
    "\n",
    "optim = torch.optim.SGD(h.parameters(), lr=0.001)\n",
    "\n",
    "rewards = []\n"
   ]
  },
  {
   "cell_type": "code",
   "execution_count": null,
   "metadata": {},
   "outputs": [],
   "source": [
    "rewards.extend(qlearning(env, h, 1000, optim))\n",
    "plt.figure(figsize=(10, 4))\n",
    "plt.plot(rewards)\n",
    "plt.show()\n",
    "\n"
   ]
  }
 ],
 "metadata": {
  "kernelspec": {
   "display_name": "Python 3",
   "language": "python",
   "name": "python3"
  },
  "language_info": {
   "codemirror_mode": {
    "name": "ipython",
    "version": 3
   },
   "file_extension": ".py",
   "mimetype": "text/x-python",
   "name": "python",
   "nbconvert_exporter": "python",
   "pygments_lexer": "ipython3",
   "version": "3.8.10"
  }
 },
 "nbformat": 4,
 "nbformat_minor": 4
}
