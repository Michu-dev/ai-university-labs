{
 "cells": [
  {
   "attachments": {},
   "cell_type": "markdown",
   "metadata": {},
   "source": [
    "## Zaawansowane Metody Inteligencji Obliczeniowej\n",
    "# Zadanie domowe 2\n",
    "### Prowadzący: Michał Kempka, Marek Wydmuch\n",
    "### Autor: Michał Ciesielski 145325"
   ]
  },
  {
   "cell_type": "markdown",
   "metadata": {},
   "source": [
    "## Wprowadzenie\n",
    "\n",
    "Całe zadanie jest oparte o różne wersje środowiska `FrozenLake` ze znanej biblioteki OpenAI Gym (https://gym.openai.com), która agreguje różnego rodzaju środowiska pod postacią jednego zunifikowanego API.\n",
    "\n",
    "Zapoznaj się z opisem środowiska (https://gym.openai.com/envs/FrozenLake-v0), a następnie zapoznaj się z kodem poniżej. Pokazuje on podstawy użytkowania API biblioteki Gym.\n",
    "\n",
    "#### Uwaga: Możesz dowolnie modyfikować elementy tego notebooka (wstawiać komórki i zmieniać kod) o ile nie napisano gdzieś inaczej."
   ]
  },
  {
   "cell_type": "code",
   "execution_count": 1,
   "metadata": {
    "pycharm": {
     "is_executing": true
    }
   },
   "outputs": [
    {
     "name": "stdout",
     "output_type": "stream",
     "text": [
      "Requirement already satisfied: gym==0.18.0 in c:\\users\\dell latitude\\appdata\\local\\programs\\python\\python37-32\\lib\\site-packages (0.18.0)\n",
      "Requirement already satisfied: scipy in c:\\users\\dell latitude\\appdata\\local\\programs\\python\\python37-32\\lib\\site-packages (from gym==0.18.0) (1.7.3)\n",
      "Requirement already satisfied: numpy>=1.10.4 in c:\\users\\dell latitude\\appdata\\local\\programs\\python\\python37-32\\lib\\site-packages (from gym==0.18.0) (1.21.6)\n",
      "Requirement already satisfied: pyglet<=1.5.0,>=1.4.0 in c:\\users\\dell latitude\\appdata\\local\\programs\\python\\python37-32\\lib\\site-packages (from gym==0.18.0) (1.5.0)\n",
      "Requirement already satisfied: Pillow<=7.2.0 in c:\\users\\dell latitude\\appdata\\local\\programs\\python\\python37-32\\lib\\site-packages (from gym==0.18.0) (7.2.0)\n",
      "Requirement already satisfied: cloudpickle<1.7.0,>=1.2.0 in c:\\users\\dell latitude\\appdata\\local\\programs\\python\\python37-32\\lib\\site-packages (from gym==0.18.0) (1.6.0)\n",
      "Requirement already satisfied: future in c:\\users\\dell latitude\\appdata\\local\\programs\\python\\python37-32\\lib\\site-packages (from pyglet<=1.5.0,>=1.4.0->gym==0.18.0) (0.18.3)\n"
     ]
    }
   ],
   "source": [
    "# Zainstaluj bibliotekę OpenAI Gym w wersji 0.18.0\n",
    "!pip install gym==0.18.0"
   ]
  },
  {
   "cell_type": "code",
   "execution_count": 26,
   "metadata": {},
   "outputs": [
    {
     "name": "stdout",
     "output_type": "stream",
     "text": [
      "\n",
      "\u001b[41mS\u001b[0mFFF\n",
      "FHFH\n",
      "FFFH\n",
      "HFFG\n"
     ]
    }
   ],
   "source": [
    "# Zaimportuj środowisko FrozenLake z OpenAI Gym\n",
    "from gym.envs.toy_text.frozen_lake import FrozenLakeEnv \n",
    "\n",
    "# Stwórzmy deterministyczne (`is_slippper=False`) środowisko w oparciu o jedną z zpredefiniowanych map (`map_name=\"4x4\"`)\n",
    "env = FrozenLakeEnv(map_name=\"4x4\", is_slippery=False) \n",
    "\n",
    "# Po stworzeniu środowiska musimy je zresetować \n",
    "env.reset()\n",
    "# W każdym momencie możemy wyświetlić stan naszego środowiska przy użyciu fukcji `render`\n",
    "env.render()"
   ]
  },
  {
   "cell_type": "code",
   "execution_count": 27,
   "metadata": {},
   "outputs": [
    {
     "name": "stdout",
     "output_type": "stream",
     "text": [
      "Przestrzeń akcji:  Discrete(4)\n",
      "Przestrzeń obserwacji:  Discrete(16)\n",
      "Opis środowiska (mapa):\n",
      "[[b'S' b'F' b'F' b'F']\n",
      " [b'F' b'H' b'F' b'H']\n",
      " [b'F' b'F' b'F' b'H']\n",
      " [b'H' b'F' b'F' b'G']]\n",
      "Model przejść w środowisku:\n",
      "{0: {0: [(1.0, 0, 0.0, False)],\n",
      "     1: [(1.0, 4, 0.0, False)],\n",
      "     2: [(1.0, 1, 0.0, False)],\n",
      "     3: [(1.0, 0, 0.0, False)]},\n",
      " 1: {0: [(1.0, 0, 0.0, False)],\n",
      "     1: [(1.0, 5, 0.0, True)],\n",
      "     2: [(1.0, 2, 0.0, False)],\n",
      "     3: [(1.0, 1, 0.0, False)]},\n",
      " 2: {0: [(1.0, 1, 0.0, False)],\n",
      "     1: [(1.0, 6, 0.0, False)],\n",
      "     2: [(1.0, 3, 0.0, False)],\n",
      "     3: [(1.0, 2, 0.0, False)]},\n",
      " 3: {0: [(1.0, 2, 0.0, False)],\n",
      "     1: [(1.0, 7, 0.0, True)],\n",
      "     2: [(1.0, 3, 0.0, False)],\n",
      "     3: [(1.0, 3, 0.0, False)]},\n",
      " 4: {0: [(1.0, 4, 0.0, False)],\n",
      "     1: [(1.0, 8, 0.0, False)],\n",
      "     2: [(1.0, 5, 0.0, True)],\n",
      "     3: [(1.0, 0, 0.0, False)]},\n",
      " 5: {0: [(1.0, 5, 0, True)],\n",
      "     1: [(1.0, 5, 0, True)],\n",
      "     2: [(1.0, 5, 0, True)],\n",
      "     3: [(1.0, 5, 0, True)]},\n",
      " 6: {0: [(1.0, 5, 0.0, True)],\n",
      "     1: [(1.0, 10, 0.0, False)],\n",
      "     2: [(1.0, 7, 0.0, True)],\n",
      "     3: [(1.0, 2, 0.0, False)]},\n",
      " 7: {0: [(1.0, 7, 0, True)],\n",
      "     1: [(1.0, 7, 0, True)],\n",
      "     2: [(1.0, 7, 0, True)],\n",
      "     3: [(1.0, 7, 0, True)]},\n",
      " 8: {0: [(1.0, 8, 0.0, False)],\n",
      "     1: [(1.0, 12, 0.0, True)],\n",
      "     2: [(1.0, 9, 0.0, False)],\n",
      "     3: [(1.0, 4, 0.0, False)]},\n",
      " 9: {0: [(1.0, 8, 0.0, False)],\n",
      "     1: [(1.0, 13, 0.0, False)],\n",
      "     2: [(1.0, 10, 0.0, False)],\n",
      "     3: [(1.0, 5, 0.0, True)]},\n",
      " 10: {0: [(1.0, 9, 0.0, False)],\n",
      "      1: [(1.0, 14, 0.0, False)],\n",
      "      2: [(1.0, 11, 0.0, True)],\n",
      "      3: [(1.0, 6, 0.0, False)]},\n",
      " 11: {0: [(1.0, 11, 0, True)],\n",
      "      1: [(1.0, 11, 0, True)],\n",
      "      2: [(1.0, 11, 0, True)],\n",
      "      3: [(1.0, 11, 0, True)]},\n",
      " 12: {0: [(1.0, 12, 0, True)],\n",
      "      1: [(1.0, 12, 0, True)],\n",
      "      2: [(1.0, 12, 0, True)],\n",
      "      3: [(1.0, 12, 0, True)]},\n",
      " 13: {0: [(1.0, 12, 0.0, True)],\n",
      "      1: [(1.0, 13, 0.0, False)],\n",
      "      2: [(1.0, 14, 0.0, False)],\n",
      "      3: [(1.0, 9, 0.0, False)]},\n",
      " 14: {0: [(1.0, 13, 0.0, False)],\n",
      "      1: [(1.0, 14, 0.0, False)],\n",
      "      2: [(1.0, 15, 1.0, True)],\n",
      "      3: [(1.0, 10, 0.0, False)]},\n",
      " 15: {0: [(1.0, 15, 0, True)],\n",
      "      1: [(1.0, 15, 0, True)],\n",
      "      2: [(1.0, 15, 0, True)],\n",
      "      3: [(1.0, 15, 0, True)]}}\n",
      "Aktualny stan:  0\n"
     ]
    }
   ],
   "source": [
    "from pprint import pprint\n",
    "\n",
    "# Najważniejsze pola środowiska, na potrzeby tego zadania załóżmy, że mamy dostęp do nich wszystkich \n",
    "# (oczywiście dla niektórych środowisk w OpenAI Gym tak nie jest)\n",
    "print(\"Przestrzeń akcji: \", env.action_space) # Akcje od 0 do 3: LEFT = 0, DOWN = 1, RIGHT = 2, UP = 3\n",
    "print(\"Przestrzeń obserwacji: \", env.observation_space) # Stany od 0 do 15\n",
    "print(\"Opis środowiska (mapa):\")\n",
    "print(env.desc)\n",
    "print(\"Model przejść w środowisku:\")\n",
    "pprint(env.P) # gdzie P[s][a] == [(probability, nextstate, reward, done), ...]\n",
    "print(\"Aktualny stan: \", env.s)"
   ]
  },
  {
   "cell_type": "code",
   "execution_count": 28,
   "metadata": {},
   "outputs": [
    {
     "name": "stdout",
     "output_type": "stream",
     "text": [
      "\n",
      "\u001b[41mS\u001b[0mFFF\n",
      "FHFH\n",
      "FFFH\n",
      "HFFG\n",
      "  (Left)\n",
      "\u001b[41mS\u001b[0mFFF\n",
      "FHFH\n",
      "FFFH\n",
      "HFFG\n",
      "  (Left)\n",
      "\u001b[41mS\u001b[0mFFF\n",
      "FHFH\n",
      "FFFH\n",
      "HFFG\n",
      "  (Right)\n",
      "S\u001b[41mF\u001b[0mFF\n",
      "FHFH\n",
      "FFFH\n",
      "HFFG\n",
      "  (Right)\n",
      "SF\u001b[41mF\u001b[0mF\n",
      "FHFH\n",
      "FFFH\n",
      "HFFG\n",
      "  (Down)\n",
      "SFFF\n",
      "FH\u001b[41mF\u001b[0mH\n",
      "FFFH\n",
      "HFFG\n"
     ]
    }
   ],
   "source": [
    "# Nasz agent może wejść w interakcje ze środowiskiem  poprzez wywołanie funkcji `step(action)`, \n",
    "# gdzie `action` to jedna z możliwych akcji (int od 0 do env.action_space.n - 1)\n",
    "s = env.reset() # `reset()` zwraca początkowy stan\n",
    "env.render()\n",
    "for i in range(5):\n",
    "    # Wybierzmy losową akcje\n",
    "    random_a = env.action_space.sample() \n",
    "    # `step(action)` zwraca nowy stan (`s`), nagrodę (`r`), informację czy stan jest terminalny (`term`) \n",
    "    # oraz dodatkowe informacje, które pomijamy\n",
    "    # w tym wypadku nowy stan to jedynie id, ale dla innych środowisk może być to innym typ reprezentujący obserwację\n",
    "    s, r, term, _ = env.step(random_a) \n",
    "    env.render()\n",
    "    if term:\n",
    "        break"
   ]
  },
  {
   "cell_type": "markdown",
   "metadata": {},
   "source": [
    "## Zad. 1 - Policy iteration + value iteration (10 pkt.)\n",
    "\n",
    "W komórkach poniżej zaimplementuj algorytmy **iteracji polityki** oraz **iteracji wartości**, wyznaczające deterministyczną politykę dla środowiska FrozenLake.\n",
    "\n",
    "Odpowiedź na pytania wykonując odpowiednie eksperymenty (zostaw output odpowiednich komórek na poparcie swoich twierdzeń):\n",
    "- Jak zmiana współczynniku `gamma` wpływa na wynikową politykę?\n",
    "- Jak stochastyczność wpływa na liczbę iteracji potrzebnych do zbiegnięcia obu algorytmów oraz wynikową politykę?\n",
    "\n",
    "#### Uwaga: nie zmieniaj nazwy funkcji `policy_iteration` i `value_iteration`, ani ich argumentów. Nie dopisuj do komórek z funkcjami innego kodu. Może zdefiniować funkcje pomocnicze dla danej funkcji w tej samej komórce (sprawdzarka wyciągnie ze zgłoszonego notebooka wyłącznie komórki zawierającą funkcje `policy_iteration` i `value_iteration` do sprawdzenia, kod w innych komórkach nie będzie widziany przez sprawdzarkę!)"
   ]
  },
  {
   "attachments": {},
   "cell_type": "markdown",
   "metadata": {},
   "source": [
    "- Dla mniejszych wartości współczynnika `gamma` wynikowa polityka osiąga lepsze nagrody w środowisku niedeterministycznym. Natomiast w środowisku deterministycznym, jej wartość nie ma większego znaczenia.\n",
    "- Stochastyczność sprawia, że liczba iteracji potrzebnych do zbiegnięcia obu algorytmów rośnie. Pomimo większego tempa wzrostu iteracji, wartości wynikowej polityki dla obu algorytmów zbiegają dla większych wartości `gamma` oraz osiągają dużo gorsze wartości (nagrody)."
   ]
  },
  {
   "cell_type": "code",
   "execution_count": 29,
   "metadata": {},
   "outputs": [],
   "source": [
    "import numpy as np\n",
    "\n",
    "def policy_iteration(P, gamma, delta=0.001):\n",
    "    \"\"\"\n",
    "    Argumenty:\n",
    "        P - model przejścia, gdzie P[s][a] == [(probability, nextstate, reward, done), ...]\n",
    "        gamma - współczynnik dyskontujący\n",
    "        delta - tolerancja warunku stopu\n",
    "    Zwracane wartości:\n",
    "        V - lista o długości len(P) zawierający oszacowane wartość stanu s: V[s]\n",
    "        pi - lista o długości len(P) zawierający wyznaczoną deterministyczną politykę - akcję dla stanu s: pi[s]\n",
    "        i - ilość iteracji algorytmu po wszystkich stanach\n",
    "    \"\"\"\n",
    "    V = [0] * len(P)\n",
    "    pi = [0] * len(P)\n",
    "    i = 0\n",
    "    \n",
    "    # Miejsce na twoją implementację\n",
    "    while True:\n",
    "        while True:\n",
    "            i += 1\n",
    "            delta_d = 0\n",
    "            for s in P:\n",
    "                v = V[s]\n",
    "                V[s] = sum(p * (r + gamma * V[s_next]) for p, s_next, r, _ in P[s][pi[s]])\n",
    "                delta_d = max(delta_d, abs(v - V[s]))\n",
    "            if delta_d < delta:\n",
    "                break\n",
    "        stop = True\n",
    "        for s in P:\n",
    "            a = pi[s]\n",
    "            pi[s] = np.argmax([sum(p * (r + gamma * V[s_next]) for p, s_next, r, _ in P[s][a]) for a in P[s]])\n",
    "            if a != pi[s]:\n",
    "                stop = False\n",
    "        if stop:\n",
    "            break\n",
    "    \n",
    "    return V, pi, i"
   ]
  },
  {
   "cell_type": "code",
   "execution_count": 30,
   "metadata": {},
   "outputs": [],
   "source": [
    "def value_iteration(P, gamma, delta=0.001):\n",
    "    \"\"\"\n",
    "    Argumenty:\n",
    "        P - model przejścia, gdzie P[s][a] == [(probability, nextstate, reward, done), ...]\n",
    "        gamma - współczynnik dyskontujący\n",
    "        delta - tolerancja warunku stopu\n",
    "    Zwracane wartości:\n",
    "        Q - lista o długości len(P) zawierający listy z oszacowanymi wartościami dla stanu s i akcji a: Q[s][a]\n",
    "        pi - lista o długości len(P) zawierający wyznaczoną deterministyczną politykę - akcję dla stanu s: pi[s]\n",
    "        i - ilość iteracji algorytmu po wszystkich stanach\n",
    "    \"\"\"\n",
    "    pi = [0] * len(P)\n",
    "    Q = [[0] * len(P[s]) for s in P.keys()]\n",
    "    V = [0] * len(P)\n",
    "    i = 0\n",
    "    \n",
    "    # Miejsce na twoją implementację\n",
    "    while True:\n",
    "        i += 1\n",
    "        delta_d = 0\n",
    "        for s in P:\n",
    "            v = V[s]\n",
    "            V[s] = max([sum(p * (r + gamma * V[s_next]) for p, s_next, r, _ in P[s][a]) for a in P[s]])\n",
    "            for a in P[s]:\n",
    "                Q[s][a] = sum(p * (r + gamma * max(Q[s_next])) for p, s_next, r, _ in P[s][a])\n",
    "            delta_d = max(delta_d, abs(v - V[s]))\n",
    "        if delta_d < delta:\n",
    "            break\n",
    "    \n",
    "    for s in P:\n",
    "        pi[s] = np.argmax([sum(p * (r + gamma * V[s_next]) for p, s_next, r, _ in P[s][a]) for a in P[s]])\n",
    "    \n",
    "    return Q, pi, i"
   ]
  },
  {
   "cell_type": "code",
   "execution_count": 31,
   "metadata": {},
   "outputs": [
    {
     "name": "stdout",
     "output_type": "stream",
     "text": [
      "\n",
      "\u001b[41mS\u001b[0mFFFFFHF\n",
      "FFFFFFFF\n",
      "HHFFFFFF\n",
      "FFFFFFFF\n",
      "FFFFFHFF\n",
      "FFHFFFFF\n",
      "FHFHHFFF\n",
      "FFFHFFFG\n"
     ]
    }
   ],
   "source": [
    "# Przykładowy kod do testowania zaimplementowanych metod\n",
    "\n",
    "# Zaimportuj generator map dla środowiska FrozenLake z OpenAI Gym\n",
    "from gym.envs.toy_text.frozen_lake import generate_random_map\n",
    "\n",
    "# Wygeneruj losową mapę jeziora o zadanym rozmiarze (`size=`)\n",
    "lake_map = generate_random_map(size=8)\n",
    "\n",
    "# Stwórz środowisko w oparciu o wygenerowaną mapę, \n",
    "# sprawdz deterministyczną (`is_slippery=False`) jak i stochastyczną wersję środowiska (`is_slippery=True`)\n",
    "env = FrozenLakeEnv(desc=lake_map, is_slippery=True)\n",
    "env.reset()\n",
    "env.render()"
   ]
  },
  {
   "cell_type": "code",
   "execution_count": 32,
   "metadata": {},
   "outputs": [],
   "source": [
    "V, pi1, i = policy_iteration(env.P, 0.9)\n",
    "Q, pi2, i = value_iteration(env.P, 0.9)"
   ]
  },
  {
   "cell_type": "code",
   "execution_count": 33,
   "metadata": {},
   "outputs": [],
   "source": [
    "# Wprowadzmy teraz funkcję, które empirycznie zewauluje naszą politykę\n",
    "# po prostu rozgrywając odpowiednią liczbę episodów zgodnie z naszą polityką.\n",
    "def evaluate_empiricaly(env, pi, episodes=1000, max_actions=100):\n",
    "    mean_r = 0\n",
    "    for e in range(episodes):\n",
    "        s = env.reset()\n",
    "        total_r = 0\n",
    "        for _ in range(max_actions): # Na wypadek polityki, która nigdy nie dojdzie od stanu terminalnego\n",
    "            s, r, final, _ = env.step(pi[s])\n",
    "            total_r += r\n",
    "            if final:\n",
    "                break\n",
    "        mean_r = mean_r + 1/(e + 1) * (total_r - mean_r)\n",
    "    return mean_r       "
   ]
  },
  {
   "cell_type": "code",
   "execution_count": 36,
   "metadata": {},
   "outputs": [
    {
     "data": {
      "text/plain": [
       "0.8149999999999998"
      ]
     },
     "execution_count": 36,
     "metadata": {},
     "output_type": "execute_result"
    }
   ],
   "source": [
    "evaluate_empiricaly(env, pi1)"
   ]
  },
  {
   "cell_type": "code",
   "execution_count": 21,
   "metadata": {},
   "outputs": [
    {
     "data": {
      "image/png": "[encoded data removed]",
      "text/plain": [
       "<Figure size 640x480 with 2 Axes>"
      ]
     },
     "metadata": {},
     "output_type": "display_data"
    }
   ],
   "source": [
    "import matplotlib.pyplot as plt\n",
    "\n",
    "lake_map = generate_random_map(size=6)\n",
    "fig, (ax1, ax2) = plt.subplots(nrows=2, sharex=True)\n",
    "gammas_list = np.arange(0.01, 1, 0.05)\n",
    "\n",
    "for line, slippery in [('-', False), ('--', True)]:\n",
    "    env = FrozenLakeEnv(desc=lake_map, is_slippery=slippery)\n",
    "    for color, func in [('r', policy_iteration), ('b', value_iteration)]:\n",
    "        scores, iters = [], []\n",
    "        for gamma in gammas_list:\n",
    "            score, iter = 0, 0\n",
    "            for _ in range(10):\n",
    "                _, pi, i = func(env.P, gamma)\n",
    "                s = evaluate_empiricaly(env, pi)\n",
    "                if s > score:\n",
    "                    score, iter = s, i\n",
    "                    if not slippery:\n",
    "                        break\n",
    "            scores.append(score)\n",
    "            iters.append(iter)\n",
    "        ax1.plot(gammas_list, scores, ls=line, color=color, label=f'{func.__name__} (slippery={slippery})')\n",
    "        ax2.plot(gammas_list, iters, ls=line, color=color, label=f'{func.__name__} (slippery={slippery})')\n",
    "\n",
    "ax1.set_ylabel('mean score')\n",
    "ax2.set_ylabel('iterations')\n",
    "ax2.set_xlabel('gamma')\n",
    "ax1.legend(loc='upper right')\n",
    "ax2.legend(loc='upper left')\n",
    "plt.show()"
   ]
  },
  {
   "cell_type": "markdown",
   "metadata": {},
   "source": [
    "## Zad. 2 - Monte Carlo (10 pkt.)\n",
    "W komórce poniżej zaimplementuj metodę **On-policy Monte Carlo** dla polityki epsilon-greedy.\n",
    "Zakładamy, że model przejść nie jest w tym wypadku dla nas dostępny,\n",
    "dlatego możesz używać wyłącznie metod `env.reset()` i `env.step()`\n",
    "w swojej implementacji, w celu wygenerowania nowego epizodu.\n",
    "\n",
    "- Zaproponuj warunek stopu dla swojej implementacji.\n",
    "- Jaki jest wpływ epsilony na działanie algorytmu?\n",
    "- Jaka prosta modyfikacja nagród środowiska przyśpieszyłaby odkrywanie dobrej polityki? Zmodyfikuj env.P i zademonstruj.\n",
    "\n",
    "Tip: z racji, że env.P jest dostępne, możesz porównać wyniki `on_policy_eps_greedy_monte_carlo` ze wynikami `value_iteration`. \n",
    "\n",
    "#### Uwaga: nie zmieniaj nazwy funkcji `on_policy_eps_greedy_monte_carlo`, ani jej pierwszych argumentów (możesz dodać nowe argumenty z wartościami domyślnymi). Nie dopisuj do komórki z funkcją innego kodu. Może zdefiniować funkcje pomocnicze dla funkcji w tej samej komórce (sprawdzarka wyciągnie ze zgłoszonego notebooka wyłącznie komórkę zawierającą funkcję `on_policy_eps_greedy_monte_carlo` do sprawdzenia, kod w innych komórkach nie będzie widziany przez sprawdzarkę!)."
   ]
  },
  {
   "attachments": {},
   "cell_type": "markdown",
   "metadata": {},
   "source": [
    "- W swojej implementacji za warunek stopu przyjąłem ilość iteracji, w których wartość sumy elementów listy Q nie poprawiła się o więcej niż `min_improvement`. Drugi warunek stopu jest charakterystyczny dla tej metody Monte Carlo i jest związany z czasem przetwarzania (zmienna `timeout`).\n",
    "- Prawdopodobieństwo losowej eksploracji przy małym epsilonie jest dość małe, przez co algorytm nie zbiega w wyznaczonej liczbie iteracji. Przy epsilonie w granicach 0.5 (0.25 - 0.8) algorytm znajduje najlepsze polityki. Z kolei przy zbyt dużym epsilonie algorytm znajduje gorsze polityki niż dla wartości z zakresu 0.25 - 0.8, bo działa zbyt losowo. \n",
    "- Dla przejść, po których występuje dziura można ustawić nagrodę na ujemną wartość np. -5, zwiększenie nagrody za dojście do celu lub minimalne pogorszenie przejścia do kolejnego neutralnego stanu (dla którego nagroda wynosi 0). Demonstracja znajduje się poniżej."
   ]
  },
  {
   "cell_type": "code",
   "execution_count": 42,
   "metadata": {},
   "outputs": [],
   "source": [
    "from time import time\n",
    "\n",
    "def generate_episode(env, pi, actions_limit = 100):\n",
    "    episode, rewards = [], []\n",
    "    s = env.reset()\n",
    "    for _ in range(actions_limit):\n",
    "        a = np.random.choice(np.arange(len(pi[s])), 1, p=pi[s])[0]\n",
    "        s_next, r, term, _ = env.step(a)\n",
    "        episode.append((s, a))\n",
    "        rewards.append(r)\n",
    "        s = s_next\n",
    "        if term:\n",
    "            break\n",
    "    return episode, rewards\n",
    "\n",
    "def on_policy_eps_greedy_monte_carlo(env, eps, gamma, timeout=60, max_improvement_iterations=10000, min_improvement=0.0001):\n",
    "    \"\"\"\n",
    "    Argumenty:\n",
    "        env - środowisko implementujące metody `reset()` oraz `step(action)`\n",
    "        eps - współczynnik eksploracji\n",
    "        gamma - współczynnik dyskontujący\n",
    "        timeout - maksymalny czas wykonania algorytmu - warunek stopu\n",
    "        max_improvement_iterations - maksymalna ilość iteracji bez znalezienia lepszej polityki - warunek stopu\n",
    "        min_improvement - wartość, która oznacza minimalną akceptowalną poprawę sumarycznej oceny stanów\n",
    "    Zwracane wartości:\n",
    "        Q - lista o długości len(P) zawierający listy z oszacowanymi wartościami dla stanu s i akcji a: Q[s][a]\n",
    "        pi - lista o długości len(P) zawierający wyznaczoną deterministyczną (zachłanną) politykę - akcję dla stanu s: pi[s]\n",
    "        i - ilość epizodów wygenerowanych przez algorytm\n",
    "    \"\"\"\n",
    "    pi = np.array([[1.0 / len(env.P[s]) for _ in env.P[s]] for s in env.P])\n",
    "    best_pi = pi.copy()\n",
    "    Q = [[0.0] * len(env.P[s]) for s in env.P.keys()]\n",
    "    R = [[0.0] * len(env.P[s]) for s in env.P.keys()]\n",
    "    N = [[0] * len(env.P[s]) for s in env.P.keys()]\n",
    "    i = 0\n",
    "    last_improvement = 0\n",
    "    best_q_sum = None\n",
    "    start_time = time()\n",
    "    while time() - start_time < timeout and last_improvement < max_improvement_iterations:\n",
    "        i += 1\n",
    "        episode, rewards = generate_episode(env, pi)\n",
    "        g = 0\n",
    "        for t in range(len(episode) - 1, -1, -1):\n",
    "            (s, a) = episode[t]\n",
    "            r = rewards[t] \n",
    "            g = gamma * g + r\n",
    "            if (s, a) not in episode[:t]:\n",
    "                R[s][a] += g\n",
    "                N[s][a] += 1\n",
    "                Q[s][a] = R[s][a] / N[s][a]\n",
    "                a_star = np.argmax(Q[s])\n",
    "                A = env.P[s]\n",
    "                pi[s][:] = eps / len(A)\n",
    "                pi[s][a_star] = 1 - eps + (eps / len(A))\n",
    "        last_improvement += 1\n",
    "        q_sum = np.sum(Q)\n",
    "        if best_q_sum is None or q_sum - best_q_sum > min_improvement:\n",
    "            last_improvement = 0\n",
    "            best_q_sum = q_sum\n",
    "            best_pi = pi.copy()\n",
    "    \n",
    "    \n",
    "    return Q, list(np.argmax(best_pi, axis=1)), i"
   ]
  },
  {
   "cell_type": "code",
   "execution_count": 43,
   "metadata": {},
   "outputs": [
    {
     "name": "stdout",
     "output_type": "stream",
     "text": [
      "eps\tscore\titerations\ttime\n",
      "0.05\t0.000\t10001\t25.848\n",
      "0.10\t0.000\t10001\t25.439\n",
      "0.15\t0.000\t10001\t25.359\n",
      "0.20\t0.504\t20735\t37.477\n",
      "0.25\t0.460\t37727\t60.198\n",
      "0.30\t0.436\t25638\t33.239\n",
      "0.35\t0.452\t11327\t16.923\n",
      "0.40\t0.332\t10058\t15.402\n",
      "0.45\t0.387\t14220\t20.225\n",
      "0.50\t0.554\t27239\t43.159\n",
      "0.55\t0.522\t37134\t55.659\n",
      "0.60\t0.184\t10218\t13.570\n",
      "0.65\t0.509\t19427\t29.107\n",
      "0.70\t0.344\t10243\t14.346\n",
      "0.75\t0.528\t20885\t27.592\n",
      "0.80\t0.493\t30450\t42.978\n",
      "0.85\t0.236\t10103\t14.566\n",
      "0.90\t0.294\t10183\t14.251\n",
      "0.95\t0.196\t10165\t14.461\n"
     ]
    },
    {
     "data": {
      "image/png": "[encoded data removed]",
      "text/plain": [
       "<Figure size 640x480 with 1 Axes>"
      ]
     },
     "metadata": {},
     "output_type": "display_data"
    }
   ],
   "source": [
    "lake_map = generate_random_map(size=6)\n",
    "env1 = FrozenLakeEnv(desc=lake_map, is_slippery=True)\n",
    "epsilons_list = np.arange(0.05, 1, 0.05)\n",
    "results = []\n",
    "print('eps\\tscore\\titerations\\ttime')\n",
    "for eps in epsilons_list:\n",
    "    start_time = time()\n",
    "    Q, pi, i = on_policy_eps_greedy_monte_carlo(env1, eps, gamma=0.6)\n",
    "    s = evaluate_empiricaly(env1, pi)\n",
    "    print(f\"{eps:.2f}\\t{s:.3f}\\t{i}\\t{time() - start_time:.3f}\")\n",
    "    results.append(s)\n",
    "\n",
    "plt.plot(epsilons_list, results)\n",
    "plt.xlabel('epsilon')\n",
    "plt.ylabel('mean score')\n",
    "plt.show()"
   ]
  },
  {
   "cell_type": "code",
   "execution_count": 50,
   "metadata": {},
   "outputs": [
    {
     "name": "stdout",
     "output_type": "stream",
     "text": [
      "Environment type: original\n",
      "Value iteration results: \n",
      "iterations = 26\n",
      "result = 0.9980000000000003\n",
      "Epsilon-greedy Monte Carlo results: \n",
      "iterations = 10290\n",
      "result = 0.12399999999999997\n",
      "Environment type: modified\n",
      "Value iteration results: \n",
      "iterations = 26\n",
      "result = 0.9939999999999997\n",
      "Epsilon-greedy Monte Carlo results: \n",
      "iterations = 19274\n",
      "result = 0.5769999999999995\n",
      "Environment type: deterministic\n",
      "Value iteration results: \n",
      "iterations = 11\n",
      "result = 1.0\n",
      "Epsilon-greedy Monte Carlo results: \n",
      "iterations = 47323\n",
      "result = 1.0\n"
     ]
    }
   ],
   "source": [
    "env1 = FrozenLakeEnv(desc=lake_map, is_slippery=True)\n",
    "env2 = FrozenLakeEnv(desc=lake_map, is_slippery=True)\n",
    "env3 = FrozenLakeEnv(desc=lake_map, is_slippery=False)\n",
    "\n",
    "for s in env.P:\n",
    "    for a in env.P[s]:\n",
    "        for prob, next_state, reward, done in env.P[s][a]:\n",
    "            if reward == 0.0 and done == True:\n",
    "                env.P[s][a] = [(prob, next_state, -5.0, done)]\n",
    "            if reward == 1.0:\n",
    "                env.P[s][a] = [(prob, next_state, 5.0, done)]\n",
    "            if reward == 0.0:\n",
    "                env.P[s][a] = [(prob, next_state, -0.1, done)]\n",
    "\n",
    "for name, env, test_env in [('original', env1, env1), ('modified', env2, env1), ('deterministic', env3, env3)]:\n",
    "    print('Environment type:', name)\n",
    "    Q, pi, it = value_iteration(env.P, gamma = 0.9)\n",
    "    result = evaluate_empiricaly(test_env, pi)\n",
    "    print('Value iteration results: ')\n",
    "    print('iterations =', it)\n",
    "    print('result =', result)\n",
    "\n",
    "    Q, pi, it = on_policy_eps_greedy_monte_carlo(env, eps=0.5, gamma=0.6, timeout=120)\n",
    "    result = evaluate_empiricaly(test_env, pi)\n",
    "    print('Epsilon-greedy Monte Carlo results: ')\n",
    "    print('iterations =', it)\n",
    "    print('result =', result)\n"
   ]
  }
 ],
 "metadata": {
  "kernelspec": {
   "display_name": "Python 3",
   "language": "python",
   "name": "python3"
  },
  "language_info": {
   "codemirror_mode": {
    "name": "ipython",
    "version": 3
   },
   "file_extension": ".py",
   "mimetype": "text/x-python",
   "name": "python",
   "nbconvert_exporter": "python",
   "pygments_lexer": "ipython3",
   "version": "3.7.0"
  }
 },
 "nbformat": 4,
 "nbformat_minor": 4
}
